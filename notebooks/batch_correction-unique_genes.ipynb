{
 "cells": [
  {
   "cell_type": "code",
   "execution_count": 1,
   "id": "b0eaf70f-42ce-4d2c-b86e-f20bde964ebb",
   "metadata": {
    "tags": []
   },
   "outputs": [],
   "source": [
    "import os\n",
    "os.chdir('..')"
   ]
  },
  {
   "cell_type": "markdown",
   "id": "9e5e2311-e29e-4756-8f13-41fa23461b49",
   "metadata": {},
   "source": [
    "# IMPORTS"
   ]
  },
  {
   "cell_type": "code",
   "execution_count": 2,
   "id": "4371a832-f005-4adc-b94a-bc865c0d68b8",
   "metadata": {},
   "outputs": [
    {
     "name": "stderr",
     "output_type": "stream",
     "text": [
      "/home/simonp/.local/lib/python3.8/site-packages/umap/distances.py:1063: NumbaDeprecationWarning: \u001b[1mThe 'nopython' keyword argument was not supplied to the 'numba.jit' decorator. The implicit default value for this argument is currently False, but it will be changed to True in Numba 0.59.0. See https://numba.readthedocs.io/en/stable/reference/deprecation.html#deprecation-of-object-mode-fall-back-behaviour-when-using-jit for details.\u001b[0m\n",
      "  @numba.jit()\n",
      "/home/simonp/.local/lib/python3.8/site-packages/umap/distances.py:1071: NumbaDeprecationWarning: \u001b[1mThe 'nopython' keyword argument was not supplied to the 'numba.jit' decorator. The implicit default value for this argument is currently False, but it will be changed to True in Numba 0.59.0. See https://numba.readthedocs.io/en/stable/reference/deprecation.html#deprecation-of-object-mode-fall-back-behaviour-when-using-jit for details.\u001b[0m\n",
      "  @numba.jit()\n",
      "/home/simonp/.local/lib/python3.8/site-packages/umap/distances.py:1086: NumbaDeprecationWarning: \u001b[1mThe 'nopython' keyword argument was not supplied to the 'numba.jit' decorator. The implicit default value for this argument is currently False, but it will be changed to True in Numba 0.59.0. See https://numba.readthedocs.io/en/stable/reference/deprecation.html#deprecation-of-object-mode-fall-back-behaviour-when-using-jit for details.\u001b[0m\n",
      "  @numba.jit()\n",
      "/home/simonp/.local/lib/python3.8/site-packages/umap/umap_.py:660: NumbaDeprecationWarning: \u001b[1mThe 'nopython' keyword argument was not supplied to the 'numba.jit' decorator. The implicit default value for this argument is currently False, but it will be changed to True in Numba 0.59.0. See https://numba.readthedocs.io/en/stable/reference/deprecation.html#deprecation-of-object-mode-fall-back-behaviour-when-using-jit for details.\u001b[0m\n",
      "  @numba.jit()\n"
     ]
    }
   ],
   "source": [
    "from matplotlib import rcParams, cycler\n",
    "\n",
    "CUDA_VISIBLE_DEVICES = \"\"\n",
    "import matplotlib.pyplot as plt\n",
    "from matplotlib.lines import Line2D\n",
    "import pandas as pd\n",
    "import numpy as np\n",
    "import random\n",
    "import json\n",
    "import copy\n",
    "import torch\n",
    "import sklearn\n",
    "from torch import nn\n",
    "import os\n",
    "from src.utils.pool_metrics import get_PCC, get_qc_euclidean, get_batches_euclidean, get_euclidean\n",
    "from scipy.spatial.distance import cdist, pdist\n",
    "\n",
    "from sklearn.metrics import silhouette_score, adjusted_rand_score, adjusted_mutual_info_score\n",
    "from sklearn.model_selection import StratifiedGroupKFold, StratifiedKFold\n",
    "from sklearn.decomposition import PCA\n",
    "from umap import UMAP\n",
    "\n",
    "from src.utils.batch_effect_removal import get_berm  # , remove_batch_effect\n",
    "from src.dl.models.pytorch.aedann import Encoder2, Decoder2, Classifier, Classifier2, Classifier3, DispAct, MeanAct\n",
    "from src.utils.utils import scale_data, get_unique_labels # , scale_data_per_batch\n",
    "from src.dl.models.pytorch.utils.utils import to_categorical\n",
    "from src.dl.models.pytorch.utils.plotting import confidence_ellipse\n",
    "from src.dl.models.pytorch.utils.stochastic import GaussianSample\n",
    "from sklearn.discriminant_analysis import LinearDiscriminantAnalysis as LDA\n",
    "\n",
    "\n",
    "import warnings\n",
    "from sklearn.preprocessing import OneHotEncoder\n",
    "from tabulate import tabulate\n",
    "\n",
    "# import matplotlib\n",
    "# matplotlib.use('Agg')\n",
    "# from itertools import cycle\n",
    "# from sklearn.cross_decomposition import CCA\n",
    "# from src.utils.pool_metrics import log_pool_metrics\n",
    "# from src.dl.models.pytorch.aedann import ReverseLayerF\n",
    "#from src.dl.models.pytorch.utils.loggings import TensorboardLoggingAE, log_input_ordination, \\\n",
    "#    log_confusion_matrix, log_plots\n",
    "# from src.dl.models.pytorch.utils.dataset import get_loaders\n",
    "# from datetime import datetime\n",
    "# from src.dl.models.pytorch.utils.utils import log_traces, get_best_loss_from_tb, get_best_acc_from_tb, get_best_values, add_to_logger, get_empty_dicts, get_empty_traces, get_optimizer\n",
    "\n",
    "warnings.filterwarnings(\"ignore\")\n",
    "\n",
    "random.seed(42)\n",
    "torch.manual_seed(42)\n",
    "np.random.seed(42)\n",
    "\n",
    "strategy = 'CU_DEM-AD'\n",
    "# csv_name = 'unique_genes.csv'\n",
    "# bad_batches = ''\n",
    "# remove_zeros = 0\n",
    "log_stuff = False\n",
    "best_correction = False\n",
    "n_meta = 2\n",
    "train_models = True\n",
    "import argparse\n",
    "parser = argparse.ArgumentParser()\n",
    "args = parser.parse_args(args=[])\n",
    "args.csv_file = 'unique_genes.csv'\n",
    "args.remove_zeros = 0\n",
    "args.bad_batches = ''\n",
    "args.log1p = 1\n",
    "args.zinb = 0\n",
    "args.groupkfold = 1\n"
   ]
  },
  {
   "cell_type": "code",
   "execution_count": 3,
   "id": "fa9dc0cf-b6fe-404d-9afe-7525f86fa53d",
   "metadata": {},
   "outputs": [],
   "source": [
    "from skopt.space import Real, Integer, Categorical\n",
    "from sklearn.ensemble import RandomForestClassifier\n",
    "rfc_space = [\n",
    "    # Integer(100, 20000, 'uniform', name='features_cutoff'),\n",
    "    # Real(0, 1, 'uniform', name='threshold'),\n",
    "    Integer(1, 100, 'uniform', name=\"max_features\"),\n",
    "    Integer(2, 10, 'uniform', name=\"min_samples_split\"),\n",
    "    Integer(1, 10, 'uniform', name=\"min_samples_leaf\"),\n",
    "    Integer(1, 1000, 'uniform', name=\"n_estimators\"),\n",
    "    Categorical(['gini', 'entropy'], name=\"criterion\"),\n",
    "    Categorical([True, False], name=\"oob_score\"),\n",
    "    Categorical(['balanced'], name=\"class_weight\"),\n",
    "]\n",
    "linsvc_space = [\n",
    "    # Integer(1, 20000, 'uniform', name='features_cutoff'),\n",
    "    # Real(0, 1, 'uniform', name='threshold'),\n",
    "    Real(1e-4, 1, 'log-uniform', name='tol'),\n",
    "    Integer(1, 1000, 'uniform', name='max_iter'),\n",
    "    Categorical(['l2'], name='penalty'),\n",
    "    Real(1e-3, 10000, 'uniform', name='C'),\n",
    "    Categorical(['balanced'], name='class_weight'),\n",
    "\n",
    "]\n",
    "logreg_space = [\n",
    "    # Integer(1, 20000, 'uniform', name='features_cutoff'),\n",
    "    # Real(0, 1, 'uniform', name='threshold'),\n",
    "    Integer(1, 20000, 'uniform', name='max_iter'),\n",
    "    Real(1e-3, 20000, 'uniform', name='C'),\n",
    "    Categorical(['saga'], name='solver'),\n",
    "    Categorical(['l1', 'l2'], name='penalty'),\n",
    "    Categorical([True, False], name='fit_intercept'),\n",
    "    Categorical(['balanced'], name='class_weight'),\n",
    "]\n"
   ]
  },
  {
   "cell_type": "code",
   "execution_count": 4,
   "id": "2a41dc7c-668f-4eed-8c58-7a0456b24e9e",
   "metadata": {},
   "outputs": [],
   "source": [
    "import rpy2.robjects as robjects\n",
    "from rpy2.robjects import pandas2ri\n",
    "from rpy2.robjects.packages import importr\n",
    "from rpy2.robjects.conversion import localconverter\n",
    "def pyGPCA(data, group, name, metrics):\n",
    "    gPCA = importr('gPCA')\n",
    "\n",
    "    newdata = robjects.r.matrix(robjects.FloatVector(np.array(data['inputs'][group]).reshape(-1)), nrow=data['inputs'][group].shape[0])\n",
    "    new_batches = robjects.r.matrix(robjects.IntVector(data['batches'][group]), nrow=data['inputs'][group].shape[0])\n",
    "\n",
    "    results = gPCA.gPCA_batchdetect(newdata, new_batches)\n",
    "    # print(results)\n",
    "    # with localconverter(robjects.default_converter + pandas2ri.converter):\n",
    "    #     results = np.array(robjects.conversion.rpy2py(results))\n",
    "    # print(results)\n",
    "    with localconverter(robjects.default_converter + pandas2ri.converter):\n",
    "        results = { key : np.array(robjects.conversion.rpy2py(results.rx2(key))) for key in results.names }\n",
    "        # metrics['raw']['delta'] = metrics['raw']['delta']))\n",
    "\n",
    "    if 'pool' in name:\n",
    "        delta_name = 'delta_pool'\n",
    "        name = name.split('_')[1]\n",
    "    else:\n",
    "        delta_name = 'delta'\n",
    "    if name not in metrics:\n",
    "        metrics[name] = {}\n",
    "        # print(results)\n",
    "    metrics[name][delta_name] = results['delta'][0]\n",
    "    # metrics[name]['delta.pval'] = results[1]\n",
    "    return metrics, results"
   ]
  },
  {
   "cell_type": "code",
   "execution_count": 5,
   "id": "dc25231d-4875-45d7-a3db-358da693fb90",
   "metadata": {},
   "outputs": [],
   "source": [
    "from sklearn.preprocessing import MinMaxScaler, StandardScaler, RobustScaler\n",
    "from sklearn.pipeline import Pipeline\n",
    "minmax_scaler = MinMaxScaler()\n",
    "standard_scaler = StandardScaler()\n",
    "robust_scaler = RobustScaler()\n",
    "standard_minmax_scaler = Pipeline([('standard', StandardScaler()), ('minmax', MinMaxScaler())])\n",
    "robust_minmax_scaler = Pipeline([('robust', RobustScaler()), ('minmax', MinMaxScaler())])\n"
   ]
  },
  {
   "cell_type": "code",
   "execution_count": 6,
   "id": "0d4af45b-3079-4f23-8df5-baf76cd273a0",
   "metadata": {},
   "outputs": [],
   "source": [
    "from src.dl.models.pytorch.utils.loggings import log_LDA, log_ORD\n",
    "from src.utils.data_getters import get_alzheimer"
   ]
  },
  {
   "cell_type": "raw",
   "id": "63bfe352",
   "metadata": {},
   "source": [
    "# from scipy.stats import entropy\n",
    "def get_metrics(data, metrics, form):\n",
    "    # sets are grouped togheter for a single metric\n",
    "    knns = {repres: KNeighborsClassifier(n_neighbors=40) for repres in ['domains', 'labels']}\n",
    "    # values = {group: {m : {'labels': [], 'domains': []} for m in ['lisi', 'kbet', 'silhouette', 'adjusted_rand_score', 'adjusted_mutual_info_score']} \n",
    "    #           for group in ['train', 'valid', 'test', 'all', 'all_pool', 'train_pool', 'valid_pool', 'test_pool']}\n",
    "\n",
    "    for group in ['all', 'train', 'valid', 'test']:\n",
    "        # metrics[group] = {m : {'labels': [], 'domains': []} for m in ['lisi', 'kbet', 'silhouette', 'adjusted_rand_score', 'adjusted_mutual_info_score']} \n",
    "        # print(group)\n",
    "        if group == 'all':\n",
    "            knns['domains'].fit(data['inputs'][group], data['batches'][group])\n",
    "            knns['labels'].fit(data['inputs'][group], data['cats'][group])\n",
    "        if 'pool' not in group or 'all_pool' == group:\n",
    "            for metric, funct in zip(['lisi', 'silhouette', 'kbet'], [rLISI, silhouette_score, rKBET]):\n",
    "                metrics[form][group][metric] = {'labels': None, 'domains': None}\n",
    "                metrics[form][group][metric]['domains'] = funct(data['inputs'][group], data['batches'][group])\n",
    "                if 'pool' not in group:\n",
    "                    metrics[form][group][metric]['labels'] = funct(data['inputs'][group], data['cats'][group])\n",
    "\n",
    "            domain_preds = knns['domains'].predict(data['inputs'][group])\n",
    "            metrics[form][group]['shannon'] = {'labels': None, 'domains': None}\n",
    "            # print(knns['domains'].predict_proba(data['inputs'][group]))\n",
    "            metrics[form][group]['shannon']['domains'] = batch_entropy(knns['domains'].predict_proba(data['inputs'][group]))\n",
    "            if 'pool' not in group:\n",
    "                labels_preds = knns['labels'].predict(data['inputs'][group])\n",
    "                metrics[form][group]['shannon']['labels'] = batch_entropy(knns['labels'].predict_proba(data['inputs'][group]))\n",
    "\n",
    "            for metric, funct in zip(\n",
    "                    ['adjusted_rand_score', 'adjusted_mutual_info_score'],\n",
    "                    [adjusted_rand_score, adjusted_mutual_info_score]):\n",
    "                metrics[form][group][metric] = {'labels': None, 'domains': None}\n",
    "                metrics[form][group][metric]['domains'] = funct(data['batches'][group], domain_preds)\n",
    "                if 'pool' not in group:\n",
    "                    metrics[form][group][metric]['labels'] = funct(data['batches'][group], labels_preds)\n",
    "\n",
    "    return metrics\n"
   ]
  },
  {
   "cell_type": "code",
   "execution_count": null,
   "id": "bf610dee-7d47-4e3a-94db-e32988b2a272",
   "metadata": {},
   "outputs": [],
   "source": []
  },
  {
   "cell_type": "raw",
   "id": "76d38e51",
   "metadata": {},
   "source": [
    "from sklearn.neighbors import KNeighborsClassifier\n",
    "def batch_f1_score(batch_score, class_score):\n",
    "    return 2 * (1 - batch_score) * (class_score) / (1 - batch_score + class_score)\n",
    "\n",
    "def log_metrics(data, unique_labels, batches, metrics, form, device='cuda'):\n",
    "    unique_batches = set(batches['all'])\n",
    "    if len(unique_labels) > 2:\n",
    "        bout = 0\n",
    "    else:\n",
    "        bout = 1\n",
    "    metrics = get_metrics(data, metrics, form)\n",
    "    for repres in ['inputs']:\n",
    "        for metric in ['silhouette', 'kbet', 'lisi']:\n",
    "            for group in ['all', 'train', 'valid', 'test']:\n",
    "                if metric == 'lisi':\n",
    "                    try:\n",
    "                        metrics[form][group][metric]['F1'] = batch_f1_score(\n",
    "                            batch_score=metrics[form][group][metric]['domains'][0] / len(unique_batches),\n",
    "                            class_score=metrics[form][group][metric]['labels'][0] / len(unique_labels),\n",
    "                        )\n",
    "                    except:\n",
    "                        metrics[form][group][metric]['F1'] = batch_f1_score(\n",
    "                            batch_score=metrics[form][group][metric]['domains'] / len(unique_batches),\n",
    "                            class_score=metrics[form][group][metric]['labels'] / len(unique_labels),\n",
    "                        )\n",
    "\n",
    "                elif metric == 'silhouette':\n",
    "                    metrics[form][group][metric]['F1'] = batch_f1_score(\n",
    "                        batch_score=(metrics[form][group][metric]['domains'] + 1) / 2,\n",
    "                        class_score=(metrics[form][group][metric]['labels'] + 1) / 2,\n",
    "                    )\n",
    "                elif metric == 'kbet':\n",
    "                    try:\n",
    "                        metrics[form][group][metric]['F1'] = batch_f1_score(\n",
    "                            batch_score=metrics[form][group][metric]['domains'] / len(unique_batches),\n",
    "                            class_score=metrics[form][group][metric]['labels'] / len(unique_labels),\n",
    "                        )\n",
    "                    except:\n",
    "                        pass\n",
    "\n",
    "    for repres in ['inputs']:\n",
    "        for metric in ['adjusted_rand_score', 'adjusted_mutual_info_score']:\n",
    "            for group in ['all', 'train', 'valid', 'test']:  # , 'set'\n",
    "                metrics[form][group][metric]['F1'] = batch_f1_score(\n",
    "                    batch_score=metrics[form][group][metric]['domains'],\n",
    "                    class_score=metrics[form][group][metric]['labels'],\n",
    "                )\n",
    "\n",
    "    return metrics\n"
   ]
  },
  {
   "cell_type": "code",
   "execution_count": 7,
   "id": "2843549d-0dd4-4a83-9d69-ec406847df47",
   "metadata": {},
   "outputs": [],
   "source": [
    "from src.utils.pool_metrics import log_pool_metrics\n",
    "from src.dl.models.pytorch.utils.loggings import get_metrics, log_metrics, batch_f1_score\n",
    "# from src import log_metrics\n",
    "# log_metrics(logger, lists, values, model, unique_labels, unique_batches, epoch, mlops, metrics, n_meta_emb=0, device='cuda')"
   ]
  },
  {
   "cell_type": "code",
   "execution_count": 8,
   "id": "2765abf2-8ec2-4dc1-b411-304b96069e7c",
   "metadata": {},
   "outputs": [],
   "source": [
    "\n",
    "def use_pycombat(berm, data):\n",
    "    df = pd.concat((\n",
    "        data['inputs']['train'].copy(),  data['inputs']['valid'].copy(), data['inputs']['test'].copy(), \n",
    "        data['inputs']['train_pool'].copy(),  data['inputs']['valid_pool'].copy(), data['inputs']['test_pool'].copy(), \n",
    "    ))\n",
    "    all_batches = np.concatenate((\n",
    "        data['batches']['train'], data['batches']['valid'], data['batches']['test'],\n",
    "        data['batches']['train_pool'], data['batches']['valid_pool'], data['batches']['test_pool'],\n",
    "        \n",
    "    ))\n",
    "    # assert np.sum(all_batches != np.concatenate((data['batches']['train'], data['batches']['valid'], data['batches']['test']))) == 0\n",
    "    tmp = berm(df.T, all_batches).T\n",
    "    tmp = np.nan_to_num(tmp, 0)\n",
    "    previous_len = 0\n",
    "    for g in ['train', 'valid', 'test', 'train_pool', 'valid_pool', 'test_pool']:\n",
    "        # print(g, previous_len, data['inputs'][g].shape[0])\n",
    "        data['inputs'][g] = pd.DataFrame(\n",
    "            tmp[previous_len:previous_len + data['inputs'][g].shape[0]],\n",
    "            index=data['inputs'][g].index)\n",
    "        previous_len += data['inputs'][g].shape[0]\n",
    "        # print(g, previous_len, data['inputs'][g].shape[0])\n",
    "    data['inputs']['all'] = pd.concat((\n",
    "        data['inputs']['train'], data['inputs']['valid'], data['inputs']['test'],\n",
    "        # data[key]['train_pool'], data[key]['valid_pool'], data[key]['test_pool'],\n",
    "    ), 0)\n",
    "    data['inputs']['all_pool'] = pd.concat((\n",
    "        data['inputs']['train_pool'], data['inputs']['valid_pool'], data['inputs']['test_pool'],\n",
    "    ), 0)\n",
    "\n",
    "    return data\n",
    "\n",
    "def remove_batch_effect(berm, data):\n",
    "    \"\"\"\n",
    "    All dataframes have a shape of N samples (rows) x M features (columns)\n",
    "\n",
    "    Args:\n",
    "        berm: Batch effect removal method\n",
    "        all_data: Pandas dataframe containing all data (train, valid and test data)\n",
    "        data: list of Pandas dataframe containing the training data. Used only to get\n",
    "        valid_data: Pandas dataframe containing the validation data\n",
    "        test_data: Pandas dataframe containing the test data\n",
    "        all_batches: A list containing the batch ids corresponding to all_data\n",
    "\n",
    "    Returns:\n",
    "        Returns:\n",
    "        A dictionary of pandas datasets corrected for batch effect with keys:\n",
    "            'all': Pandas dataframe containing all data (train, valid and test data)\n",
    "            'train': Pandas dataframe containing the training data\n",
    "            'valid': Pandas dataframe containing the validation data\n",
    "            'test: Pandas dataframe containing the test data\n",
    "\n",
    "    \"\"\"\n",
    "    if berm is not None:  # Look if has 20 before and after\n",
    "        df = pd.concat((\n",
    "            data['inputs']['train'].copy(),  data['inputs']['valid'].copy(), data['inputs']['test'].copy(), \n",
    "            data['inputs']['train_pool'].copy(),  data['inputs']['valid_pool'].copy(), data['inputs']['test_pool'].copy(), \n",
    "        ))\n",
    "        all_batches = np.concatenate((\n",
    "            data['batches']['train'], data['batches']['valid'], data['batches']['test'],\n",
    "            data['batches']['train_pool'], data['batches']['valid_pool'], data['batches']['test_pool'],\n",
    "\n",
    "        ))\n",
    "        # assert np.sum(all_batches != np.concatenate((data['batches']['train'], data['batches']['valid'], data['batches']['test']))) == 0\n",
    "        tmp = berm(df, all_batches)\n",
    "        inputs_len = data['inputs']['train'].shape[0] + data['inputs']['train'].shape[0] + data['inputs']['valid'].shape[0] + \\\n",
    "                        data['inputs']['valid'].shape[0] + data['inputs']['test'].shape[0] + data['inputs']['test'].shape[0]\n",
    "        previous_len = 0\n",
    "        for g in ['train', 'valid', 'test', 'train_pool', 'valid_pool', 'test_pool']:\n",
    "            if 'all' in g:\n",
    "                continue\n",
    "            print(g, previous_len)\n",
    "            data['inputs'][g] = pd.DataFrame(\n",
    "                tmp[previous_len:previous_len + data['inputs'][g].shape[0]],\n",
    "                index=data['inputs'][g].index)\n",
    "            previous_len += data['inputs'][g].shape[0]\n",
    "        data['inputs']['all'] = pd.concat((\n",
    "            data['inputs']['train'], data['inputs']['valid'], data['inputs']['test'],\n",
    "            # data[key]['train_pool'], data[key]['valid_pool'], data[key]['test_pool'],\n",
    "        ), 0)\n",
    "        data['inputs']['all_pool'] = pd.concat((\n",
    "            data['inputs']['train_pool'], data['inputs']['valid_pool'], data['inputs']['test_pool'],\n",
    "        ), 0)\n",
    "\n",
    "    return data\n",
    "\n",
    "def remove_batch_effect_with_classes(berm, data, classes):\n",
    "    \"\"\"\n",
    "    All dataframes have a shape of N samples (rows) x M features (columns)\n",
    "\n",
    "    Args:\n",
    "        berm: Batch effect removal method\n",
    "        all_data: Pandas dataframe containing all data (train, valid and test data)\n",
    "        data: list of Pandas dataframe containing the training data. Used only to get\n",
    "        valid_data: Pandas dataframe containing the validation data\n",
    "        test_data: Pandas dataframe containing the test data\n",
    "        all_batches: A list containing the batch ids corresponding to all_data\n",
    "\n",
    "    Returns:\n",
    "        Returns:\n",
    "        A dictionary of pandas datasets corrected for batch effect with keys:\n",
    "            'all': Pandas dataframe containing all data (train, valid and test data)\n",
    "            'train': Pandas dataframe containing the training data\n",
    "            'valid': Pandas dataframe containing the validation data\n",
    "            'test: Pandas dataframe containing the test data\n",
    "\n",
    "    \"\"\"\n",
    "    if berm is not None:  # Look if has 20 before and after\n",
    "        df = pd.concat((\n",
    "            data['inputs']['train'].copy(), data['inputs']['valid'].copy(), data['inputs']['test'].copy()\n",
    "        ))\n",
    "        all_batches = np.concatenate((\n",
    "            data['batches']['train'], data['batches']['valid'], data['batches']['test']\n",
    "        ))\n",
    "        # assert np.sum(all_batches != np.concatenate((data['batches']['train'], data['batches']['valid'], data['batches']['test']))) == 0\n",
    "        tmp = berm(df, all_batches, classes)\n",
    "        inputs_len = data['inputs']['train'].shape[0] + data['inputs']['valid'].shape[0] + data['inputs']['test'].shape[0]\n",
    "        previous_len = 0\n",
    "        for g in list(data['inputs'].keys()):\n",
    "            if 'all' in g:\n",
    "                continue\n",
    "            print(g, previous_len)\n",
    "            data['inputs'][g] = pd.DataFrame(\n",
    "                tmp[previous_len:previous_len + data['inputs'][g].shape[0]],\n",
    "                index=data['inputs'][g].index)\n",
    "            previous_len += data['inputs'][g].shape[0]\n",
    "        try:\n",
    "            data['inputs']['all'] = pd.DataFrame(tmp, index=df.index, columns=df.columns)\n",
    "        except:\n",
    "            data['inputs']['all'] = pd.DataFrame(tmp, index=df.index)\n",
    "\n",
    "    return data\n",
    "\n"
   ]
  },
  {
   "cell_type": "code",
   "execution_count": 10,
   "id": "0500fd53-7fdd-449a-86ce-254b3f818747",
   "metadata": {},
   "outputs": [],
   "source": [
    "def save_confusion_matrix(fig, name, acc, mcc, group):\n",
    "    # sns_plot = sns.heatmap(df, annot=True, square=True, cmap=\"YlGnBu\",\n",
    "    #                        annot_kws={\"size\": 35 / np.sqrt(len(df))})\n",
    "    # fig = sns_plot.get_figure()\n",
    "    dirs = '/'.join(name.split('/')[:-1])\n",
    "    name = name.split('/')[-1]\n",
    "    plt.title(f'Confusion Matrix (acc={np.round(np.mean(acc), 2)} +- {np.round(np.std(acc), 2)}, mcc={np.round(np.mean(mcc), 2)} +- {np.round(np.std(mcc), 2)})')\n",
    "    os.makedirs(f'{dirs}/', exist_ok=True)\n",
    "    stuck = True\n",
    "    while stuck:\n",
    "        try:\n",
    "            fig.savefig(f\"{dirs}/cm_{name}_{group}.png\")\n",
    "            stuck = False\n",
    "        except:\n",
    "            print('stuck...')\n",
    "    plt.close()\n",
    "\n"
   ]
  },
  {
   "cell_type": "code",
   "execution_count": 12,
   "id": "cb0e68db-9d46-4db7-9997-b787830bfe72",
   "metadata": {},
   "outputs": [],
   "source": [
    "from skopt import gp_minimize\n",
    "from src.ml.train.sklearn_train_nocv import count_labels, get_confusion_matrix, save_roc_curve\n",
    "import matplotlib.pyplot as plt\n",
    "from sklearn.metrics import matthews_corrcoef as MCC\n",
    "from sklearn.multiclass import OneVsRestClassifier\n",
    "# from sklearn import metrics\n",
    "from sklearn.metrics import roc_auc_score\n",
    "from src.utils.utils import plot_confusion_matrix\n",
    "\n",
    "class Train:\n",
    "    def __init__(self, name, model, data, hparams_names, log_path, args, logger, ovr, model_name='RF', binary=True, mlops='None'):\n",
    "        self.best_roc_score = -1\n",
    "        self.ovr = ovr\n",
    "        self.binary = binary\n",
    "        self.args = args\n",
    "        self.log_path = log_path\n",
    "        self.model = model\n",
    "        self.model_name = model_name\n",
    "        self.data = data\n",
    "        self.logger = logger\n",
    "        self.hparams_names = hparams_names\n",
    "        # self.train_indices, self.test_indices, _ = split_train_test(self.labels)\n",
    "        # self.n_splits = args.n_splits\n",
    "        # self.n_repeats = args.n_repeats\n",
    "        # self.jackknife = args.jackknife\n",
    "        self.best_scores_train = -1\n",
    "        self.best_scores_valid = -1\n",
    "        self.best_mccs_train = -1\n",
    "        self.best_mccs_valid = -1\n",
    "        self.scores_train = None\n",
    "        self.scores_valid = None\n",
    "        self.mccs_train = None\n",
    "        self.mccs_valid = None\n",
    "        self.y_preds = np.array([])\n",
    "        self.y_valids = np.array([])\n",
    "        self.iter = 0\n",
    "        self.model = model\n",
    "        self.name = name\n",
    "        self.mlops = mlops\n",
    "        self.best_params_dict = {}\n",
    "        self.best_params_dict_values = {}\n",
    "\n",
    "    def train(self, h_params, groupkfold=1):\n",
    "        self.iter += 1\n",
    "        features_cutoff = None\n",
    "        param_grid = {}\n",
    "        for name, param in zip(self.hparams_names, h_params):\n",
    "            if name == 'features_cutoff':\n",
    "                features_cutoff = param\n",
    "            elif name == 'threshold':\n",
    "                threshold = param\n",
    "            else:\n",
    "                param_grid[name] = param\n",
    "        scores_valid = []\n",
    "        scores_train = []\n",
    "        scores_test = []\n",
    "        y_preds_train = []\n",
    "        y_preds_valid = []\n",
    "        y_preds_test = []\n",
    "\n",
    "        train_classes = []\n",
    "        valid_classes = []\n",
    "        test_classes = []\n",
    "        \n",
    "        mccs_train = []\n",
    "        mccs_valid = []\n",
    "        mccs_test = []\n",
    "        all_data = data['inputs']['all']\n",
    "        all_meta = data['meta']['all']\n",
    "        all_labels = data['labels']['all']\n",
    "        # all_names = data['names']['all']\n",
    "        all_batches = data['batches']['all']\n",
    "        all_cats = data['cats']['all']\n",
    "        print(f'Iteration: {self.iter}')\n",
    "        for h in range(5):\n",
    "            if groupkfold:\n",
    "                skf = StratifiedGroupKFold(n_splits=5, shuffle=True, random_state=h)\n",
    "                train_nums = np.arange(0, len(all_labels))\n",
    "                # Remove samples from unwanted batches\n",
    "                train_inds, valid_inds = skf.split(train_nums, all_labels, all_batches).__next__()\n",
    "            else:\n",
    "                skf = StratifiedKFold(n_splits=5, shuffle=True, random_state=14)\n",
    "                train_nums = np.arange(0, len(all_labels))\n",
    "                train_inds, valid_inds = skf.split(train_nums, all_labels).__next__()\n",
    "            train_data, valid_data = all_data.iloc[train_inds], all_data.iloc[valid_inds]\n",
    "            train_meta, valid_meta = all_meta.iloc[train_inds], all_meta.iloc[valid_inds]\n",
    "            train_labels, valid_labels = all_labels[train_inds], all_labels[valid_inds]\n",
    "            # train_names, valid_names = all_names[train_inds], all_names[valid_inds]\n",
    "            train_batches, valid_batches = all_batches[train_inds], all_batches[valid_inds]\n",
    "            train_cats, valid_cats = all_cats[train_inds], all_cats[valid_inds]\n",
    "\n",
    "            if groupkfold:\n",
    "                skf = StratifiedGroupKFold(n_splits=5, shuffle=True, random_state=h)\n",
    "                train_nums = np.arange(0, len(train_labels))\n",
    "                # Remove samples from unwanted batches\n",
    "                train_inds, test_inds = skf.split(train_nums, train_labels, train_batches).__next__()\n",
    "            else:\n",
    "                skf = StratifiedKFold(n_splits=5, shuffle=True, random_state=14)\n",
    "                train_nums = np.arange(0, len(train_labels))\n",
    "                train_inds, test_inds = skf.split(train_nums, train_labels).__next__()\n",
    "            train_data, test_data = train_data.iloc[train_inds], train_data.iloc[test_inds]\n",
    "            train_meta, test_meta = train_meta.iloc[train_inds], train_meta.iloc[test_inds]\n",
    "            train_labels, test_labels = train_labels[train_inds], train_labels[test_inds]\n",
    "            # train_names, test_names = train_names[train_inds], train_names[test_inds]\n",
    "            train_batches, test_batches = train_batches[train_inds], train_batches[test_inds]\n",
    "            train_cats, test_cats = train_cats[train_inds], train_cats[test_inds]\n",
    "\n",
    "            unique_labels = []\n",
    "            for l in train_labels:\n",
    "                if l not in unique_labels:\n",
    "                    unique_labels += [l]\n",
    "\n",
    "            unique_labels = np.array(unique_labels)\n",
    "            train_classes += [np.array([np.argwhere(l == unique_labels)[0][0] for l in train_labels])]\n",
    "            valid_classes += [np.array([np.argwhere(l == unique_labels)[0][0] for l in valid_labels])]\n",
    "            test_classes += [np.array([np.argwhere(l == unique_labels)[0][0] for l in test_labels])]\n",
    "\n",
    "\n",
    "            m = self.model()\n",
    "            m.set_params(**param_grid)\n",
    "            if self.ovr:\n",
    "                m = OneVsRestClassifier(m)\n",
    "            # try:\n",
    "            m.fit(train_data, train_classes[-1])\n",
    "            # except:\n",
    "            #     return 1\n",
    "\n",
    "            scores_valid += [m.score(valid_data, valid_classes[-1])]\n",
    "            scores_train += [m.score(train_data, train_classes[-1])]\n",
    "            scores_test += [m.score(test_data, test_classes[-1])]\n",
    "            # scores_train = score_train\n",
    "            # scores_valid = score_valid\n",
    "\n",
    "            y_preds_train += [m.predict(train_data)]\n",
    "            y_preds_valid += [m.predict(valid_data)]\n",
    "            y_preds_test += [m.predict(test_data)]\n",
    "\n",
    "            mccs_train += [MCC(train_classes[-1], y_preds_train[-1])]\n",
    "            mccs_valid += [MCC(valid_classes[-1], y_preds_valid[-1])]\n",
    "            mccs_test += [MCC(test_classes[-1], y_preds_test[-1])]\n",
    "            if self.best_scores_valid is None:\n",
    "                self.best_scores_valid = 0\n",
    "        print(self.best_scores_valid)\n",
    "        print('valid_score:', scores_valid, 'h_params:', param_grid)\n",
    "        if np.mean(scores_valid) > np.mean(self.best_scores_valid):\n",
    "            self.best_scores_train = scores_train\n",
    "            self.best_scores_valid = scores_valid\n",
    "            self.best_scores_test = scores_test\n",
    "            self.best_mccs_train = mccs_train\n",
    "            self.best_mccs_valid = mccs_valid\n",
    "            self.best_mccs_test = mccs_test\n",
    "            fig = get_confusion_matrix(np.concatenate(train_classes), np.concatenate(y_preds_train), unique_labels)\n",
    "            save_confusion_matrix(fig, f\"{self.log_path}/confusion_matrices/{self.name}_{self.model_name}_train\", \n",
    "                                  acc=scores_train, mcc=mccs_train, group='train')\n",
    "            fig = get_confusion_matrix(np.concatenate(valid_classes), np.concatenate(y_preds_valid), unique_labels)\n",
    "            save_confusion_matrix(fig, f\"{self.log_path}/confusion_matrices/{self.name}_{self.model_name}_valid\", \n",
    "                                  acc=scores_valid, mcc=mccs_valid, group='valid')\n",
    "            fig = get_confusion_matrix(np.concatenate(test_classes), np.concatenate(y_preds_test), unique_labels)\n",
    "            save_confusion_matrix(fig, f\"{self.log_path}/confusion_matrices/{self.name}_{self.model_name}_test\", \n",
    "                                  acc=scores_test, mcc=mccs_test, group='test')\n",
    "            try:\n",
    "                self.best_roc_train = save_roc_curve(m, train_data, train_classes, unique_labels,\n",
    "                                                     f\"{self.log_path}/ROC/{self.name}_{self.model_name}_train\", binary=0,\n",
    "                                                     acc=score_train)\n",
    "            except:\n",
    "                pass\n",
    "            try:\n",
    "                self.best_roc_valid = save_roc_curve(m, valid_data, valid_classes, unique_labels,\n",
    "                                                     f\"{self.log_path}/ROC/{self.name}_{self.model_name}_valid\", binary=0,\n",
    "                                                     acc=score_valid)\n",
    "            except:\n",
    "                pass\n",
    "            try:\n",
    "                self.best_roc_test = save_roc_curve(m, test_data, test_classes, unique_labels,\n",
    "                                                     f\"{self.log_path}/ROC/{self.name}_{self.model_name}_test\", binary=0,\n",
    "                                                     acc=score_test)\n",
    "            except:\n",
    "                pass\n",
    "            self.save_best_model_hparams(self.hparams_names, param_grid)\n",
    "\n",
    "        return 1 - np.mean(scores_valid)\n",
    "\n",
    "    def save_best_model_hparams(self, hparams_names, params):\n",
    "        param_grid = {}\n",
    "        for name, param in zip(hparams_names, params):\n",
    "            param_grid[name] = param\n",
    "        self.best_params_dict = param_grid\n",
    "\n",
    "        self.best_params_dict_values['train_acc'] = self.best_scores_train\n",
    "        self.best_params_dict_values['valid_acc'] = self.best_scores_valid\n",
    "        self.best_params_dict_values['test_acc'] = self.best_scores_test\n",
    "        self.best_params_dict_values['train_acc'] = self.best_scores_train\n",
    "        self.best_params_dict_values['valid_acc'] = self.best_scores_valid\n",
    "        self.best_params_dict_values['test_acc'] = self.best_scores_test\n",
    "\n",
    "        self.best_params_dict_values['train_mcc'] = self.best_mccs_train\n",
    "        self.best_params_dict_values['valid_mcc'] = self.best_mccs_valid\n",
    "        self.best_params_dict_values['test_mcc'] = self.best_mccs_test\n",
    "        self.best_params_dict_values['train_mcc'] = self.best_mccs_train\n",
    "        self.best_params_dict_values['valid_mcc'] = self.best_mccs_valid\n",
    "        self.best_params_dict_values['test_mcc'] = self.best_mccs_test\n",
    "        \n",
    "        self.best_params_dict['train_acc_mean'] = np.mean(self.best_scores_train)\n",
    "        self.best_params_dict['valid_acc_mean'] = np.mean(self.best_scores_valid)\n",
    "        self.best_params_dict['test_acc_mean'] = np.mean(self.best_scores_test)\n",
    "        self.best_params_dict['train_acc_std'] = np.std(self.best_scores_train)\n",
    "        self.best_params_dict['valid_acc_std'] = np.std(self.best_scores_valid)\n",
    "        self.best_params_dict['test_acc_std'] = np.std(self.best_scores_test)\n",
    "\n",
    "        self.best_params_dict['train_mcc_mean'] = np.mean(self.best_mccs_train)\n",
    "        self.best_params_dict['valid_mcc_mean'] = np.mean(self.best_mccs_valid)\n",
    "        self.best_params_dict['test_mcc_mean'] = np.mean(self.best_mccs_test)\n",
    "        self.best_params_dict['train_mcc_std'] = np.std(self.best_mccs_train)\n",
    "        self.best_params_dict['valid_mcc_std'] = np.std(self.best_mccs_valid)\n",
    "        self.best_params_dict['test_mcc_std'] = np.std(self.best_mccs_test)\n",
    "\n",
    "        print(self.log_path)\n",
    "        os.makedirs(f'{self.log_path}/saved_models/', exist_ok=True)\n",
    "        with open(f'{self.log_path}/saved_models/best_params_{self.name}_{self.model_name}.json', \"w\") as read_file:\n",
    "            json.dump(self.best_params_dict, read_file)\n",
    "        with open(f'{self.log_path}/saved_models/best_params_{self.name}_{self.model_name}_values.json', \"w\") as read_file:\n",
    "            json.dump(self.best_params_dict_values, read_file)\n",
    "\n"
   ]
  },
  {
   "cell_type": "code",
   "execution_count": 23,
   "id": "aa988016-ab25-4483-8f17-b9a58872c10d",
   "metadata": {},
   "outputs": [],
   "source": [
    "def train_rfc(data, name, n_meta):\n",
    "    hparams_names = [x.name for x in rfc_space]\n",
    "    train = Train(\"inputs\", RandomForestClassifier, data, hparams_names,\n",
    "                  f'results/unique_genes/{name}/rfc/{n_meta}', None, None, ovr=0, binary=False, mlops='None')\n",
    "    res = gp_minimize(train.train, rfc_space, n_calls=20, random_state=1)\n"
   ]
  },
  {
   "cell_type": "code",
   "execution_count": 24,
   "id": "075816dd-38f3-4041-b2a8-57224b2bc2b3",
   "metadata": {},
   "outputs": [],
   "source": [
    "def train_linsvc(data, name, n_meta):\n",
    "    hparams_names = [x.name for x in linsvc_space]\n",
    "    train = Train(\"inputs\", sklearn.svm.LinearSVC, data, hparams_names,\n",
    "                  f'results/unique_genes/{name}/linsvc/{n_meta}', None, None, ovr=0, binary=False, mlops='None')\n",
    "    res = gp_minimize(train.train, linsvc_space, n_calls=20, random_state=1)\n"
   ]
  },
  {
   "cell_type": "code",
   "execution_count": 25,
   "id": "827bdef7-2362-4ebc-bb69-79b99becce0f",
   "metadata": {},
   "outputs": [],
   "source": [
    "from sklearn.linear_model import LogisticRegression\n",
    "def train_logreg(data, name, n_meta):\n",
    "    hparams_names = [x.name for x in logreg_space]\n",
    "    train = Train(\"inputs\", LogisticRegression, data, hparams_names,\n",
    "                  f'results/unique_genes/{name}/logreg/{n_meta}', None, None, ovr=0, binary=False, mlops='None')\n",
    "    res = gp_minimize(train.train, linsvc_space, n_calls=20, random_state=1)\n"
   ]
  },
  {
   "cell_type": "code",
   "execution_count": 17,
   "id": "7099c378-c954-4eb4-b137-78b2a566500b",
   "metadata": {},
   "outputs": [],
   "source": [
    "# from src.utils.batch_effect_removal import rLISI, rKBET"
   ]
  },
  {
   "cell_type": "code",
   "execution_count": 26,
   "id": "36c3425a-287f-4766-a98c-164f711fed75",
   "metadata": {},
   "outputs": [],
   "source": [
    "from scipy import stats\n",
    "from statsmodels.stats.multitest import multipletests\n",
    "def make_pval_table(data, unique_labels):\n",
    "    print(\"Mann      pval min    n pvals < 0.05\")\n",
    "    table = pd.DataFrame(columns=['pval', 'n'])\n",
    "    i = 0\n",
    "    for i, label in enumerate(unique_labels[:-1]):\n",
    "        for label2 in unique_labels[i+1:]:\n",
    "            if label != label2 and label != 'pool' and label2 != 'pool':\n",
    "                pvals = stats.mannwhitneyu(\n",
    "                    data['inputs']['all'].iloc[np.argwhere(data['labels']['all'] == label).squeeze()], \n",
    "                    data['inputs']['all'].iloc[np.argwhere(data['labels']['all'] == label2).squeeze()]\n",
    "                )\n",
    "                tmp = multipletests(pvals[1], 0.05, 'fdr_bh')[1]\n",
    "                table.loc[f'{label}_{label2}', 'pval'] = tmp.min()\n",
    "                table.loc[f'{label}_{label2}', 'n'] = len([x for x in tmp if x < 0.05])\n",
    "                i += 1\n",
    "    print(tabulate(table))\n",
    "\n",
    "    print('ttests')\n",
    "    table = pd.DataFrame(columns=['pval'])\n",
    "    i = 0\n",
    "    for i, label in enumerate(unique_labels[:-1]):\n",
    "        for label2 in unique_labels[i+1:]:\n",
    "            if label != label2 and label != 'pool' and label2 != 'pool':\n",
    "                pvals = stats.ttest_ind(\n",
    "                    data['inputs']['all'].iloc[np.argwhere(data['labels']['all'] == label).squeeze()], \n",
    "                    data['inputs']['all'].iloc[np.argwhere(data['labels']['all'] == label2).squeeze()]\n",
    "                )\n",
    "                tmp = multipletests(pvals[1], 0.05, 'fdr_bh')[1]\n",
    "                table.loc[f'{label}_{label2}', 'pval'] = tmp.min()\n",
    "                table.loc[f'{label}_{label2}', 'n'] = len([x for x in tmp if x < 0.05])\n",
    "                i += 1\n",
    "    print(tabulate(table))\n"
   ]
  },
  {
   "cell_type": "code",
   "execution_count": 27,
   "id": "f7aabd9b-18b0-45e1-9285-b7745865836f",
   "metadata": {},
   "outputs": [],
   "source": [
    "%matplotlib inline\n",
    "# from src.dl.models.pytorch.utils.metrics import rLISI\n",
    "def log_fct(data, unique_labels, unique_batches, metrics):\n",
    "    make_pval_table(data, unique_labels)\n",
    "    if log_stuff:\n",
    "        # metrics, _ = pyGPCA(data, 'all_pool', 'pool_raw', metrics)\n",
    "        # metrics, _ = pyGPCA(data, 'all', 'raw', metrics)\n",
    "        metrics = log_pool_metrics(data['inputs'], data['batches'], data['labels'], unique_labels, logger, 0, metrics, 'raw', mlops=None)\n",
    "        metrics = log_metrics(data, unique_labels, data['batches'], data['labels'], unique_labels, metrics, 'raw', device='cuda')\n",
    "        # metrics = log_LDA(LDA, data, {'batches': unique_batches, 'labels': unique_labels}, 0, metrics, 'raw')\n",
    "    log_ORD(ordin={'model': PCA(n_components=2), 'name': f'PCA_inputs'}, logger=None, data=data, \n",
    "            uniques={'batches': unique_batches, 'labels': unique_labels}, mlops=None, epoch=0)\n",
    "    log_ORD(ordin={'model': UMAP(n_components=2), 'name': f'UMAP_inputs'}, logger=None, data=data, \n",
    "            uniques={'batches': unique_batches, 'labels': unique_labels}, mlops=None, epoch=0)\n",
    "    return metrics\n",
    "\n",
    "def train_fct(data, n_meta, train_models):\n",
    "    if n_meta == 2:\n",
    "        for group in data['inputs']:\n",
    "            data['inputs'][group] = pd.concat((data['inputs'][group], data['meta'][group]), 1)\n",
    "\n",
    "    if train_models:\n",
    "        train_linsvc(data, 'raw', n_meta)\n",
    "        train_rfc(data, 'raw', n_meta)\n",
    "        # train_logreg(data, 'raw', n_meta)\n",
    "    "
   ]
  },
  {
   "cell_type": "code",
   "execution_count": 28,
   "id": "bca259c1-b26b-453b-b8ed-8ab2217a02af",
   "metadata": {},
   "outputs": [],
   "source": [
    "metrics = {}"
   ]
  },
  {
   "cell_type": "markdown",
   "id": "5125a8b8-8a42-4cf3-be6d-50290229b4e5",
   "metadata": {},
   "source": [
    "# RAW"
   ]
  },
  {
   "cell_type": "code",
   "execution_count": 29,
   "id": "be2df2d5-2f54-4b19-96e6-2b6f0c519b22",
   "metadata": {},
   "outputs": [],
   "source": [
    "path = 'data/Alzheimer'\n",
    "data, unique_labels, unique_batches = get_alzheimer(path, args)\n",
    "# unique_labels = get_unique_labels(data['labels']['all'])\n",
    "# unique_batches = np.unique(data['batches']['all'])\n",
    "unique_cats = np.unique(data['cats']['all'])\n",
    "unique_ages = np.array(['50s', '60s', '70s', '80+'])\n",
    "unique_genders = np.unique(data['meta']['all'].iloc[:, 1])\n",
    "n_cats = len(unique_labels)\n",
    "n_batches = len(unique_batches)\n",
    "n_ages = len(unique_ages)\n",
    "n_genders = len(unique_genders)\n",
    "\n",
    "data['age'] = {}\n",
    "data['gender'] = {}\n",
    "meta_age = []\n",
    "for age in data['meta']['all'].iloc[:, 0]:\n",
    "    if age < 50:\n",
    "        meta_age += ['pool']\n",
    "    elif age < 60:\n",
    "        meta_age += ['50s']\n",
    "    elif age < 70:\n",
    "        meta_age += ['60s']\n",
    "    elif age < 80:\n",
    "        meta_age += ['70s']\n",
    "    else:\n",
    "        meta_age += ['80+']\n",
    "data['age']['all'] = np.array(meta_age)\n",
    "data['gender']['all'] = data['meta']['all'].iloc[:, 1]\n",
    "\n",
    "# matrix = pd.read_csv(\n",
    "#     f\"{path}/{csv_name}\", sep=','\n",
    "# )\n",
    "# names = [x.split(\"\\\\\")[-1].split('-')[1:2] for x in list(matrix.columns)[1:] if 'Pool' not in x]\n",
    "# list(matrix.columns)[1:]"
   ]
  },
  {
   "cell_type": "code",
   "execution_count": 30,
   "id": "633b9c28-9226-4a89-afe2-41b2111132e7",
   "metadata": {
    "scrolled": true,
    "tags": []
   },
   "outputs": [
    {
     "name": "stdout",
     "output_type": "stream",
     "text": [
      "Mann      pval min    n pvals < 0.05\n",
      "-------------------  -  -\n",
      "CU_DEM-AD            0  1\n",
      "CU_MCI-AD            0  1\n",
      "CU_MCI-other         0  1\n",
      "CU_NPH               0  1\n",
      "CU_DEM-other         0  1\n",
      "DEM-AD_MCI-AD        0  1\n",
      "DEM-AD_MCI-other     0  1\n",
      "DEM-AD_NPH           0  1\n",
      "DEM-AD_DEM-other     0  1\n",
      "MCI-AD_MCI-other     0  1\n",
      "MCI-AD_NPH           0  1\n",
      "MCI-AD_DEM-other     0  1\n",
      "MCI-other_NPH        0  1\n",
      "MCI-other_DEM-other  0  1\n",
      "NPH_DEM-other        0  1\n",
      "-------------------  -  -\n",
      "ttests\n",
      "-------------------  -----------  --\n",
      "CU_DEM-AD            0.142352      0\n",
      "CU_MCI-AD            0.00121893   18\n",
      "CU_MCI-other         0.00945922   48\n",
      "CU_NPH               0.0928049     0\n",
      "CU_DEM-other         0.00227267   11\n",
      "DEM-AD_MCI-AD        0.0280868     1\n",
      "DEM-AD_MCI-other     0.0302425     1\n",
      "DEM-AD_NPH           0.121027      0\n",
      "DEM-AD_DEM-other     0.0020932     3\n",
      "MCI-AD_MCI-other     0.0752638     0\n",
      "MCI-AD_NPH           0.0489083     1\n",
      "MCI-AD_DEM-other     6.23583e-06  20\n",
      "MCI-other_NPH        0.0654746     0\n",
      "MCI-other_DEM-other  0.000193577   2\n",
      "NPH_DEM-other        0.00032605    8\n",
      "-------------------  -----------  --\n"
     ]
    },
    {
     "data": {
      "image/png": "[encoded data removed]",
      "text/plain": [
       "<Figure size 864x864 with 1 Axes>"
      ]
     },
     "metadata": {
      "needs_background": "light"
     },
     "output_type": "display_data"
    },
    {
     "data": {
      "image/png": "[encoded data removed]",
      "text/plain": [
       "<Figure size 864x864 with 1 Axes>"
      ]
     },
     "metadata": {
      "needs_background": "light"
     },
     "output_type": "display_data"
    },
    {
     "data": {
      "image/png": "[encoded data removed]",
      "text/plain": [
       "<Figure size 864x864 with 1 Axes>"
      ]
     },
     "metadata": {
      "needs_background": "light"
     },
     "output_type": "display_data"
    },
    {
     "data": {
      "image/png": "[encoded data removed]",
      "text/plain": [
       "<Figure size 864x864 with 1 Axes>"
      ]
     },
     "metadata": {
      "needs_background": "light"
     },
     "output_type": "display_data"
    },
    {
     "name": "stdout",
     "output_type": "stream",
     "text": [
      "Iteration: 1\n",
      "-1\n",
      "valid_score: [0.23529411764705882, 0.2727272727272727, 0.24342105263157895, 0.27225130890052357, 0.21875] h_params: {'tol': 0.9744044165384433, 'max_iter': 933, 'penalty': 'l2', 'C': 9990.405154200935, 'class_weight': 'balanced'}\n",
      "results/unique_genes/raw/linsvc/2\n",
      "Iteration: 2\n",
      "[0.23529411764705882, 0.2727272727272727, 0.24342105263157895, 0.27225130890052357, 0.21875]\n",
      "valid_score: [0.27450980392156865, 0.28342245989304815, 0.2631578947368421, 0.2356020942408377, 0.25] h_params: {'tol': 0.0038576507737700483, 'max_iter': 389, 'penalty': 'l2', 'C': 9355.39077252125, 'class_weight': 'balanced'}\n",
      "results/unique_genes/raw/linsvc/2\n",
      "Iteration: 3\n",
      "[0.27450980392156865, 0.28342245989304815, 0.2631578947368421, 0.2356020942408377, 0.25]\n",
      "valid_score: [0.22875816993464052, 0.25668449197860965, 0.26973684210526316, 0.25654450261780104, 0.2864583333333333] h_params: {'tol': 0.0017909937393907646, 'max_iter': 525, 'penalty': 'l2', 'C': 2295.7729077210424, 'class_weight': 'balanced'}\n",
      "Iteration: 4\n",
      "[0.27450980392156865, 0.28342245989304815, 0.2631578947368421, 0.2356020942408377, 0.25]\n",
      "valid_score: [0.24183006535947713, 0.2727272727272727, 0.2631578947368421, 0.24083769633507854, 0.21875] h_params: {'tol': 0.4527391991788818, 'max_iter': 458, 'penalty': 'l2', 'C': 9391.27795510847, 'class_weight': 'balanced'}\n",
      "Iteration: 5\n",
      "[0.27450980392156865, 0.28342245989304815, 0.2631578947368421, 0.2356020942408377, 0.25]\n",
      "valid_score: [0.22875816993464052, 0.25668449197860965, 0.2894736842105263, 0.25654450261780104, 0.22916666666666666] h_params: {'tol': 0.07309405637964052, 'max_iter': 803, 'penalty': 'l2', 'C': 5181.525971266342, 'class_weight': 'balanced'}\n",
      "Iteration: 6\n",
      "[0.27450980392156865, 0.28342245989304815, 0.2631578947368421, 0.2356020942408377, 0.25]\n",
      "valid_score: [0.2222222222222222, 0.27807486631016043, 0.26973684210526316, 0.28272251308900526, 0.22916666666666666] h_params: {'tol': 0.20729442842862017, 'max_iter': 830, 'penalty': 'l2', 'C': 592.4329537724334, 'class_weight': 'balanced'}\n",
      "Iteration: 7\n",
      "[0.27450980392156865, 0.28342245989304815, 0.2631578947368421, 0.2356020942408377, 0.25]\n",
      "valid_score: [0.2222222222222222, 0.27807486631016043, 0.2631578947368421, 0.2513089005235602, 0.234375] h_params: {'tol': 0.023564708574338584, 'max_iter': 672, 'penalty': 'l2', 'C': 1975.5097822969146, 'class_weight': 'balanced'}\n",
      "Iteration: 8\n",
      "[0.27450980392156865, 0.28342245989304815, 0.2631578947368421, 0.2356020942408377, 0.25]\n",
      "valid_score: [0.21568627450980393, 0.28342245989304815, 0.26973684210526316, 0.2617801047120419, 0.22395833333333334] h_params: {'tol': 0.0003702376169277349, 'max_iter': 784, 'penalty': 'l2', 'C': 341.71407768707934, 'class_weight': 'balanced'}\n",
      "Iteration: 9\n",
      "[0.27450980392156865, 0.28342245989304815, 0.2631578947368421, 0.2356020942408377, 0.25]\n",
      "valid_score: [0.28104575163398693, 0.23529411764705882, 0.3026315789473684, 0.25654450261780104, 0.21354166666666666] h_params: {'tol': 0.043907925732400044, 'max_iter': 299, 'penalty': 'l2', 'C': 2221.246253229201, 'class_weight': 'balanced'}\n",
      "Iteration: 10\n",
      "[0.27450980392156865, 0.28342245989304815, 0.2631578947368421, 0.2356020942408377, 0.25]\n",
      "valid_score: [0.20261437908496732, 0.31016042780748665, 0.2236842105263158, 0.2198952879581152, 0.3072916666666667] h_params: {'tol': 0.00753275956781982, 'max_iter': 97, 'penalty': 'l2', 'C': 1194.9055603167005, 'class_weight': 'balanced'}\n",
      "Iteration: 11\n",
      "[0.27450980392156865, 0.28342245989304815, 0.2631578947368421, 0.2356020942408377, 0.25]\n",
      "valid_score: [0.21568627450980393, 0.26737967914438504, 0.26973684210526316, 0.2513089005235602, 0.234375] h_params: {'tol': 0.002505803190605296, 'max_iter': 478, 'penalty': 'l2', 'C': 8380.776589736515, 'class_weight': 'balanced'}\n",
      "Iteration: 12\n",
      "[0.27450980392156865, 0.28342245989304815, 0.2631578947368421, 0.2356020942408377, 0.25]\n",
      "valid_score: [0.2222222222222222, 0.27807486631016043, 0.25, 0.2931937172774869, 0.21875] h_params: {'tol': 0.0005512992017127565, 'max_iter': 281, 'penalty': 'l2', 'C': 9341.107483767935, 'class_weight': 'balanced'}\n",
      "Iteration: 13\n",
      "[0.27450980392156865, 0.28342245989304815, 0.2631578947368421, 0.2356020942408377, 0.25]\n",
      "valid_score: [0.24836601307189543, 0.25668449197860965, 0.27631578947368424, 0.2356020942408377, 0.22916666666666666] h_params: {'tol': 0.00016876821163181707, 'max_iter': 569, 'penalty': 'l2', 'C': 9791.35961328074, 'class_weight': 'balanced'}\n",
      "Iteration: 14\n",
      "[0.27450980392156865, 0.28342245989304815, 0.2631578947368421, 0.2356020942408377, 0.25]\n",
      "valid_score: [0.26143790849673204, 0.2994652406417112, 0.2631578947368421, 0.2094240837696335, 0.21875] h_params: {'tol': 0.013562341866048464, 'max_iter': 104, 'penalty': 'l2', 'C': 2375.7554428396493, 'class_weight': 'balanced'}\n",
      "Iteration: 15\n",
      "[0.27450980392156865, 0.28342245989304815, 0.2631578947368421, 0.2356020942408377, 0.25]\n",
      "valid_score: [0.20915032679738563, 0.2727272727272727, 0.2631578947368421, 0.2617801047120419, 0.22395833333333334] h_params: {'tol': 0.0014706281187120323, 'max_iter': 457, 'penalty': 'l2', 'C': 8134.478432232724, 'class_weight': 'balanced'}\n",
      "Iteration: 16\n",
      "[0.27450980392156865, 0.28342245989304815, 0.2631578947368421, 0.2356020942408377, 0.25]\n",
      "valid_score: [0.2875816993464052, 0.2620320855614973, 0.28289473684210525, 0.2774869109947644, 0.1875] h_params: {'tol': 0.18778119224693668, 'max_iter': 188, 'penalty': 'l2', 'C': 1507.458155703349, 'class_weight': 'balanced'}\n",
      "Iteration: 17\n",
      "[0.27450980392156865, 0.28342245989304815, 0.2631578947368421, 0.2356020942408377, 0.25]\n",
      "valid_score: [0.2222222222222222, 0.2887700534759358, 0.2565789473684211, 0.2670157068062827, 0.21875] h_params: {'tol': 0.006300224044718741, 'max_iter': 616, 'penalty': 'l2', 'C': 9908.470315491699, 'class_weight': 'balanced'}\n",
      "Iteration: 18\n",
      "[0.27450980392156865, 0.28342245989304815, 0.2631578947368421, 0.2356020942408377, 0.25]\n",
      "valid_score: [0.27450980392156865, 0.2620320855614973, 0.2894736842105263, 0.25654450261780104, 0.25] h_params: {'tol': 0.0006076068308178009, 'max_iter': 38, 'penalty': 'l2', 'C': 4826.9396696877475, 'class_weight': 'balanced'}\n",
      "results/unique_genes/raw/linsvc/2\n",
      "Iteration: 19\n",
      "[0.27450980392156865, 0.2620320855614973, 0.2894736842105263, 0.25654450261780104, 0.25]\n",
      "valid_score: [0.2222222222222222, 0.2620320855614973, 0.18421052631578946, 0.25654450261780104, 0.3020833333333333] h_params: {'tol': 0.00043771987908247, 'max_iter': 36, 'penalty': 'l2', 'C': 4488.8061389124805, 'class_weight': 'balanced'}\n",
      "Iteration: 20\n",
      "[0.27450980392156865, 0.2620320855614973, 0.2894736842105263, 0.25654450261780104, 0.25]\n",
      "valid_score: [0.24183006535947713, 0.2727272727272727, 0.25, 0.28272251308900526, 0.22395833333333334] h_params: {'tol': 0.48736601648584554, 'max_iter': 403, 'penalty': 'l2', 'C': 5572.077678103551, 'class_weight': 'balanced'}\n",
      "Iteration: 1\n",
      "-1\n",
      "valid_score: [0.2549019607843137, 0.25668449197860965, 0.3026315789473684, 0.2774869109947644, 0.23958333333333334] h_params: {'max_features': 100, 'min_samples_split': 9, 'min_samples_leaf': 2, 'n_estimators': 999, 'criterion': 'entropy', 'oob_score': False, 'class_weight': 'balanced'}\n",
      "results/unique_genes/raw/rfc/2\n",
      "Iteration: 2\n",
      "[0.2549019607843137, 0.25668449197860965, 0.3026315789473684, 0.2774869109947644, 0.23958333333333334]\n",
      "valid_score: [0.2679738562091503, 0.25133689839572193, 0.27631578947368424, 0.2670157068062827, 0.21875] h_params: {'max_features': 67, 'min_samples_split': 9, 'min_samples_leaf': 9, 'n_estimators': 314, 'criterion': 'gini', 'oob_score': False, 'class_weight': 'balanced'}\n",
      "Iteration: 3\n",
      "[0.2549019607843137, 0.25668449197860965, 0.3026315789473684, 0.2774869109947644, 0.23958333333333334]\n",
      "valid_score: [0.23529411764705882, 0.24598930481283424, 0.2631578947368421, 0.25654450261780104, 0.22395833333333334] h_params: {'max_features': 54, 'min_samples_split': 9, 'min_samples_leaf': 5, 'n_estimators': 431, 'criterion': 'gini', 'oob_score': True, 'class_weight': 'balanced'}\n",
      "Iteration: 4\n",
      "[0.2549019607843137, 0.25668449197860965, 0.3026315789473684, 0.2774869109947644, 0.23958333333333334]\n",
      "valid_score: [0.20915032679738563, 0.1925133689839572, 0.29605263157894735, 0.2670157068062827, 0.23958333333333334] h_params: {'max_features': 80, 'min_samples_split': 3, 'min_samples_leaf': 6, 'n_estimators': 865, 'criterion': 'gini', 'oob_score': True, 'class_weight': 'balanced'}\n",
      "Iteration: 5\n",
      "[0.2549019607843137, 0.25668449197860965, 0.3026315789473684, 0.2774869109947644, 0.23958333333333334]\n",
      "valid_score: [0.2549019607843137, 0.24598930481283424, 0.3223684210526316, 0.2513089005235602, 0.25] h_params: {'max_features': 7, 'min_samples_split': 7, 'min_samples_leaf': 6, 'n_estimators': 672, 'criterion': 'entropy', 'oob_score': False, 'class_weight': 'balanced'}\n",
      "Iteration: 6\n",
      "[0.2549019607843137, 0.25668449197860965, 0.3026315789473684, 0.2774869109947644, 0.23958333333333334]\n",
      "valid_score: [0.2222222222222222, 0.2620320855614973, 0.2631578947368421, 0.2094240837696335, 0.2604166666666667] h_params: {'max_features': 15, 'min_samples_split': 8, 'min_samples_leaf': 5, 'n_estimators': 35, 'criterion': 'gini', 'oob_score': True, 'class_weight': 'balanced'}\n",
      "Iteration: 7\n",
      "[0.2549019607843137, 0.25668449197860965, 0.3026315789473684, 0.2774869109947644, 0.23958333333333334]\n",
      "valid_score: [0.2549019607843137, 0.2620320855614973, 0.2894736842105263, 0.2513089005235602, 0.22395833333333334] h_params: {'max_features': 45, 'min_samples_split': 4, 'min_samples_leaf': 2, 'n_estimators': 470, 'criterion': 'entropy', 'oob_score': True, 'class_weight': 'balanced'}\n",
      "Iteration: 8\n",
      "[0.2549019607843137, 0.25668449197860965, 0.3026315789473684, 0.2774869109947644, 0.23958333333333334]\n",
      "valid_score: [0.26143790849673204, 0.21390374331550802, 0.25, 0.2774869109947644, 0.203125] h_params: {'max_features': 53, 'min_samples_split': 3, 'min_samples_leaf': 9, 'n_estimators': 911, 'criterion': 'entropy', 'oob_score': True, 'class_weight': 'balanced'}\n",
      "Iteration: 9\n",
      "[0.2549019607843137, 0.25668449197860965, 0.3026315789473684, 0.2774869109947644, 0.23958333333333334]\n",
      "valid_score: [0.22875816993464052, 0.22994652406417113, 0.24342105263157895, 0.2356020942408377, 0.2604166666666667] h_params: {'max_features': 62, 'min_samples_split': 10, 'min_samples_leaf': 3, 'n_estimators': 232, 'criterion': 'gini', 'oob_score': True, 'class_weight': 'balanced'}\n",
      "Iteration: 10\n",
      "[0.2549019607843137, 0.25668449197860965, 0.3026315789473684, 0.2774869109947644, 0.23958333333333334]\n",
      "valid_score: [0.2549019607843137, 0.25668449197860965, 0.2565789473684211, 0.27225130890052357, 0.19791666666666666] h_params: {'max_features': 55, 'min_samples_split': 8, 'min_samples_leaf': 1, 'n_estimators': 141, 'criterion': 'gini', 'oob_score': False, 'class_weight': 'balanced'}\n",
      "Iteration: 11\n",
      "[0.2549019607843137, 0.25668449197860965, 0.3026315789473684, 0.2774869109947644, 0.23958333333333334]\n",
      "valid_score: [0.23529411764705882, 0.24064171122994651, 0.2894736842105263, 0.2198952879581152, 0.19791666666666666] h_params: {'max_features': 98, 'min_samples_split': 3, 'min_samples_leaf': 10, 'n_estimators': 165, 'criterion': 'entropy', 'oob_score': False, 'class_weight': 'balanced'}\n",
      "Iteration: 12\n",
      "[0.2549019607843137, 0.25668449197860965, 0.3026315789473684, 0.2774869109947644, 0.23958333333333334]\n",
      "valid_score: [0.24836601307189543, 0.2727272727272727, 0.26973684210526316, 0.28272251308900526, 0.23958333333333334] h_params: {'max_features': 90, 'min_samples_split': 10, 'min_samples_leaf': 4, 'n_estimators': 44, 'criterion': 'entropy', 'oob_score': True, 'class_weight': 'balanced'}\n",
      "Iteration: 13\n",
      "[0.2549019607843137, 0.25668449197860965, 0.3026315789473684, 0.2774869109947644, 0.23958333333333334]\n",
      "valid_score: [0.24836601307189543, 0.25133689839572193, 0.28289473684210525, 0.25654450261780104, 0.22916666666666666] h_params: {'max_features': 21, 'min_samples_split': 6, 'min_samples_leaf': 4, 'n_estimators': 947, 'criterion': 'entropy', 'oob_score': False, 'class_weight': 'balanced'}\n",
      "Iteration: 14\n",
      "[0.2549019607843137, 0.25668449197860965, 0.3026315789473684, 0.2774869109947644, 0.23958333333333334]\n",
      "valid_score: [0.24836601307189543, 0.20855614973262032, 0.29605263157894735, 0.225130890052356, 0.234375] h_params: {'max_features': 18, 'min_samples_split': 10, 'min_samples_leaf': 1, 'n_estimators': 96, 'criterion': 'entropy', 'oob_score': True, 'class_weight': 'balanced'}\n",
      "Iteration: 15\n",
      "[0.2549019607843137, 0.25668449197860965, 0.3026315789473684, 0.2774869109947644, 0.23958333333333334]\n",
      "valid_score: [0.26143790849673204, 0.26737967914438504, 0.2631578947368421, 0.2670157068062827, 0.234375] h_params: {'max_features': 100, 'min_samples_split': 3, 'min_samples_leaf': 6, 'n_estimators': 264, 'criterion': 'entropy', 'oob_score': False, 'class_weight': 'balanced'}\n",
      "Iteration: 16\n",
      "[0.2549019607843137, 0.25668449197860965, 0.3026315789473684, 0.2774869109947644, 0.23958333333333334]\n",
      "valid_score: [0.24183006535947713, 0.21390374331550802, 0.29605263157894735, 0.2513089005235602, 0.234375] h_params: {'max_features': 100, 'min_samples_split': 2, 'min_samples_leaf': 3, 'n_estimators': 915, 'criterion': 'entropy', 'oob_score': True, 'class_weight': 'balanced'}\n",
      "Iteration: 17\n",
      "[0.2549019607843137, 0.25668449197860965, 0.3026315789473684, 0.2774869109947644, 0.23958333333333334]\n",
      "valid_score: [0.24836601307189543, 0.22459893048128343, 0.26973684210526316, 0.24607329842931938, 0.24479166666666666] h_params: {'max_features': 9, 'min_samples_split': 10, 'min_samples_leaf': 6, 'n_estimators': 879, 'criterion': 'entropy', 'oob_score': True, 'class_weight': 'balanced'}\n",
      "Iteration: 18\n",
      "[0.2549019607843137, 0.25668449197860965, 0.3026315789473684, 0.2774869109947644, 0.23958333333333334]\n",
      "valid_score: [0.24836601307189543, 0.2192513368983957, 0.3223684210526316, 0.2617801047120419, 0.24479166666666666] h_params: {'max_features': 11, 'min_samples_split': 3, 'min_samples_leaf': 2, 'n_estimators': 340, 'criterion': 'entropy', 'oob_score': False, 'class_weight': 'balanced'}\n",
      "Iteration: 19\n",
      "[0.2549019607843137, 0.25668449197860965, 0.3026315789473684, 0.2774869109947644, 0.23958333333333334]\n",
      "valid_score: [0.24183006535947713, 0.24598930481283424, 0.2894736842105263, 0.2513089005235602, 0.2552083333333333] h_params: {'max_features': 21, 'min_samples_split': 2, 'min_samples_leaf': 4, 'n_estimators': 972, 'criterion': 'entropy', 'oob_score': True, 'class_weight': 'balanced'}\n",
      "Iteration: 20\n",
      "[0.2549019607843137, 0.25668449197860965, 0.3026315789473684, 0.2774869109947644, 0.23958333333333334]\n",
      "valid_score: [0.26143790849673204, 0.24598930481283424, 0.2565789473684211, 0.24083769633507854, 0.21875] h_params: {'max_features': 100, 'min_samples_split': 10, 'min_samples_leaf': 2, 'n_estimators': 968, 'criterion': 'entropy', 'oob_score': False, 'class_weight': 'balanced'}\n"
     ]
    }
   ],
   "source": [
    "metrics = log_fct(copy.deepcopy(data), unique_labels, unique_batches, metrics)\n",
    "train_fct(copy.deepcopy(data), n_meta, train_models)\n",
    "\n"
   ]
  },
  {
   "cell_type": "code",
   "execution_count": 31,
   "id": "6bea420a-4bc1-4924-9b35-6988abbb6c0a",
   "metadata": {},
   "outputs": [],
   "source": [
    "if log_stuff:\n",
    "    # table = pd.DataFrame(columns=list(metrics['raw']['all'].keys()) + ['delta', 'delta_pool'], index=list(metrics.keys()))\n",
    "    cols = ['qc_aPCC', '[qc_dist/tot_eucl]', 'lisi', 'silhouette', 'kbet', 'shannon', 'adjusted_rand_score', 'adjusted_mutual_info_score']\n",
    "    cols_pool = ['pool lisi', 'pool silhouette', 'pool kbet', 'pool shannon', 'pool adjusted_rand_score', 'pool adjusted_mutual_info_score',]\n",
    "    table = pd.DataFrame(columns=cols + cols_pool, index=list(metrics.keys()))\n",
    "    # table = table.drop(['qc_dist', 'b_euclidean', 'euclidean', \"[b_euclidean/tot_eucl]\"], 1)\n",
    "    for col in cols:\n",
    "        for row in list(table.index):\n",
    "            # if 'delta' in col:\n",
    "            #     table[col][row] = metrics[row][col]\n",
    "            # else:\n",
    "            try:\n",
    "                if isinstance(metrics[row]['all'][col], dict):\n",
    "                    table[col][row] = metrics[row]['all'][col][\"domains\"]\n",
    "                    try:\n",
    "                        table[f'pool {col}'][row] = metrics[row]['all_pool'][col][\"domains\"]\n",
    "                    except:\n",
    "                        pass\n",
    "                    # table[col][row][\"domains\"] = metrics[row]['all'][col][\"domains\"]\n",
    "                    # table[col][row][\"labels\"] = metrics[row]['all'][col][\"labels\"]\n",
    "                else:\n",
    "                    try:\n",
    "                        table[col][row] = metrics[row]['valid'][col]\n",
    "                    except:\n",
    "                        table[col][row] = metrics[row]['all'][col]\n",
    "\n",
    "            except:\n",
    "                try:\n",
    "                    table[col][row] = metrics[row]['all_pool'][col]\n",
    "                except:\n",
    "                    table[col][row] = metrics[row]['valid'][col]\n",
    "\n",
    "    table"
   ]
  },
  {
   "cell_type": "markdown",
   "id": "95666c8d-813a-44c4-acf4-acc44e64be80",
   "metadata": {},
   "source": [
    "# meta only"
   ]
  },
  {
   "cell_type": "raw",
   "id": "6676e705-22f1-49f0-8667-217a6153a518",
   "metadata": {},
   "source": [
    "for group in data['inputs']:\n",
    "    data['inputs'][group] = data['meta'][group]\n"
   ]
  },
  {
   "cell_type": "raw",
   "id": "63a62e77-91fc-4f3e-bec9-196c38be6058",
   "metadata": {},
   "source": [
    "log_ORD({'model': PCA(n_components=2), 'name': f'PCA_inputs_labels'}, data, \n",
    "        {'batches': unique_batches, 'labels': unique_labels, \n",
    "        # 'age': unique_ages, 'gender': unique_genders\n",
    "        }, 0)\n"
   ]
  },
  {
   "cell_type": "raw",
   "id": "1f11590b-ac67-487a-bbbc-f11de90909a9",
   "metadata": {},
   "source": [
    "log_ORD({'model': UMAP(n_components=2), 'name': f'UMAP_inputs_labels'}, data, \n",
    "        {'batches': unique_batches, 'labels': unique_labels, 'age': unique_ages, 'gender': unique_genders}, 0)\n"
   ]
  },
  {
   "cell_type": "markdown",
   "id": "37e98e22-4203-4846-8d2c-f53b1f68459d",
   "metadata": {},
   "source": [
    "# Minmax"
   ]
  },
  {
   "cell_type": "code",
   "execution_count": null,
   "id": "02cd8b33-ed1c-46fb-ae11-8a944fe378d2",
   "metadata": {},
   "outputs": [],
   "source": [
    "path = 'data/Alzheimer'\n",
    "data, unique_labels, unique_batches = get_alzheimer(path, args)\n",
    "# unique_labels = get_unique_labels(data['labels']['all'])\n",
    "unique_batches = np.unique(data['batches']['all'])\n",
    "unique_cats = np.unique(data['cats']['all'])\n",
    "unique_ages = np.array(['50s', '60s', '70s', '80+'])\n",
    "unique_genders = np.unique(data['meta']['all'].iloc[:, 1])\n",
    "n_cats = len(unique_labels)\n",
    "n_batches = len(unique_batches)\n",
    "n_ages = len(unique_ages)\n",
    "n_genders = len(unique_genders)\n",
    "\n",
    "data['age'] = {}\n",
    "data['gender'] = {}\n",
    "meta_age = []\n",
    "for age in data['meta']['all'].iloc[:, 0]:\n",
    "    if age < 50:\n",
    "        meta_age += ['pool']\n",
    "    elif age < 60:\n",
    "        meta_age += ['50s']\n",
    "    elif age < 70:\n",
    "        meta_age += ['60s']\n",
    "    elif age < 80:\n",
    "        meta_age += ['70s']\n",
    "    else:\n",
    "        meta_age += ['80+']\n",
    "data['age']['all'] = np.array(meta_age)\n",
    "data['gender']['all'] = data['meta']['all'].iloc[:, 1]\n",
    "\n",
    "data, _ = scale_data('minmax', data, device='cpu')"
   ]
  },
  {
   "cell_type": "code",
   "execution_count": null,
   "id": "98bf7855-934c-4b69-8704-f9910595eb9a",
   "metadata": {
    "scrolled": true,
    "tags": []
   },
   "outputs": [],
   "source": [
    "metrics = log_fct(copy.deepcopy(data), unique_labels, unique_batches, metrics)\n",
    "train_fct(copy.deepcopy(data), n_meta, train_models)\n"
   ]
  },
  {
   "cell_type": "markdown",
   "id": "1a1cf0cf-1d73-4fcf-ba52-5d4516bea34d",
   "metadata": {},
   "source": [
    "# Minmax per batch"
   ]
  },
  {
   "cell_type": "code",
   "execution_count": null,
   "id": "211ced76-c018-4a97-b4a0-cb13b9f73f97",
   "metadata": {},
   "outputs": [],
   "source": [
    "path = 'data/Alzheimer'\n",
    "data, unique_labels, unique_batches = get_alzheimer(path, args)\n",
    "# unique_labels = get_unique_labels(data['labels']['all'])\n",
    "unique_batches = np.unique(data['batches']['all'])\n",
    "unique_cats = np.unique(data['cats']['all'])\n",
    "unique_ages = np.array(['50s', '60s', '70s', '80+'])\n",
    "unique_genders = np.unique(data['meta']['all'].iloc[:, 1])\n",
    "n_cats = len(unique_labels)\n",
    "n_batches = len(unique_batches)\n",
    "n_ages = len(unique_ages)\n",
    "n_genders = len(unique_genders)\n",
    "\n",
    "data['age'] = {}\n",
    "data['gender'] = {}\n",
    "meta_age = []\n",
    "for age in data['meta']['all'].iloc[:, 0]:\n",
    "    if age < 50:\n",
    "        meta_age += ['pool']\n",
    "    elif age < 60:\n",
    "        meta_age += ['50s']\n",
    "    elif age < 70:\n",
    "        meta_age += ['60s']\n",
    "    elif age < 80:\n",
    "        meta_age += ['70s']\n",
    "    else:\n",
    "        meta_age += ['80+']\n",
    "data['age']['all'] = np.array(meta_age)\n",
    "data['gender']['all'] = data['meta']['all'].iloc[:, 1]\n",
    "\n",
    "data, _ = scale_data('minmax_per_batch', data, device='cpu')"
   ]
  },
  {
   "cell_type": "code",
   "execution_count": null,
   "id": "88990bc7-af1c-4dc8-aad6-b7378efa73fc",
   "metadata": {
    "scrolled": true,
    "tags": []
   },
   "outputs": [],
   "source": [
    "metrics = log_fct(copy.deepcopy(data), unique_labels, unique_batches, metrics)\n",
    "train_fct(copy.deepcopy(data), n_meta, train_models)\n"
   ]
  },
  {
   "cell_type": "markdown",
   "id": "239d298c-b19a-4b93-a39a-8a87f5e9cffd",
   "metadata": {
    "toc-hr-collapsed": true
   },
   "source": [
    "# Standard"
   ]
  },
  {
   "cell_type": "code",
   "execution_count": null,
   "id": "c47bcc77-f1dc-4031-abb4-f9e9d06c6820",
   "metadata": {
    "tags": []
   },
   "outputs": [],
   "source": [
    "path = 'data/Alzheimer'\n",
    "data, unique_labels, unique_batches = get_alzheimer(path, args)\n",
    "# unique_labels = get_unique_labels(data['labels']['all'])\n",
    "unique_batches = np.unique(data['batches']['all'])\n",
    "unique_cats = np.unique(data['cats']['all'])\n",
    "unique_ages = np.array(['50s', '60s', '70s', '80+'])\n",
    "unique_genders = np.unique(data['meta']['all'].iloc[:, 1])\n",
    "n_cats = len(unique_labels)\n",
    "n_batches = len(unique_batches)\n",
    "n_ages = len(unique_ages)\n",
    "n_genders = len(unique_genders)\n",
    "\n",
    "data['age'] = {}\n",
    "data['gender'] = {}\n",
    "meta_age = []\n",
    "for age in data['meta']['all'].iloc[:, 0]:\n",
    "    if age < 50:\n",
    "        meta_age += ['pool']\n",
    "    elif age < 60:\n",
    "        meta_age += ['50s']\n",
    "    elif age < 70:\n",
    "        meta_age += ['60s']\n",
    "    elif age < 80:\n",
    "        meta_age += ['70s']\n",
    "    else:\n",
    "        meta_age += ['80+']\n",
    "data['age']['all'] = np.array(meta_age)\n",
    "data['gender']['all'] = data['meta']['all'].iloc[:, 1]\n",
    "\n",
    "data, _ = scale_data('standard', data, device='cpu')"
   ]
  },
  {
   "cell_type": "code",
   "execution_count": null,
   "id": "9ac98c00-641c-4450-8a05-922ce7d6c8c0",
   "metadata": {
    "scrolled": true,
    "tags": []
   },
   "outputs": [],
   "source": [
    "metrics = log_fct(copy.deepcopy(data), unique_labels, unique_batches, metrics)\n",
    "train_fct(copy.deepcopy(data), n_meta, train_models)\n"
   ]
  },
  {
   "cell_type": "markdown",
   "id": "797d3aca-07d5-4df2-92fd-3a17c32aed26",
   "metadata": {
    "toc-hr-collapsed": true
   },
   "source": [
    "# Standard per batch"
   ]
  },
  {
   "cell_type": "code",
   "execution_count": null,
   "id": "cc72749a-5149-4529-8884-635074b31b35",
   "metadata": {
    "tags": []
   },
   "outputs": [],
   "source": [
    "path = 'data/Alzheimer'\n",
    "data, unique_labels, unique_batches = get_alzheimer(path, args)\n",
    "# unique_labels = get_unique_labels(data['labels']['all'])\n",
    "unique_batches = np.unique(data['batches']['all'])\n",
    "unique_cats = np.unique(data['cats']['all'])\n",
    "unique_ages = np.array(['50s', '60s', '70s', '80+'])\n",
    "unique_genders = np.unique(data['meta']['all'].iloc[:, 1])\n",
    "n_cats = len(unique_labels)\n",
    "n_batches = len(unique_batches)\n",
    "n_ages = len(unique_ages)\n",
    "n_genders = len(unique_genders)\n",
    "\n",
    "data['age'] = {}\n",
    "data['gender'] = {}\n",
    "meta_age = []\n",
    "for age in data['meta']['all'].iloc[:, 0]:\n",
    "    if age < 50:\n",
    "        meta_age += ['pool']\n",
    "    elif age < 60:\n",
    "        meta_age += ['50s']\n",
    "    elif age < 70:\n",
    "        meta_age += ['60s']\n",
    "    elif age < 80:\n",
    "        meta_age += ['70s']\n",
    "    else:\n",
    "        meta_age += ['80+']\n",
    "data['age']['all'] = np.array(meta_age)\n",
    "data['gender']['all'] = data['meta']['all'].iloc[:, 1]\n",
    "\n",
    "data, _ = scale_data('standard_per_batch', data, device='cpu')"
   ]
  },
  {
   "cell_type": "code",
   "execution_count": null,
   "id": "2b4e1ddc-3206-471a-8ad7-c9470e87b9a1",
   "metadata": {
    "scrolled": true,
    "tags": []
   },
   "outputs": [],
   "source": [
    "metrics = log_fct(copy.deepcopy(data), unique_labels, unique_batches, metrics)\n",
    "train_fct(copy.deepcopy(data), n_meta, train_models)\n"
   ]
  },
  {
   "cell_type": "markdown",
   "id": "4f4105e1-591a-43c4-8069-bf26642f2a14",
   "metadata": {},
   "source": [
    "# Robust"
   ]
  },
  {
   "cell_type": "code",
   "execution_count": null,
   "id": "d02a0f06-837e-4b1b-bc88-8620d0c3a6f0",
   "metadata": {},
   "outputs": [],
   "source": [
    "path = 'data/Alzheimer'\n",
    "data, unique_labels, unique_batches = get_alzheimer(path, args)\n",
    "# unique_labels = get_unique_labels(data['labels']['all'])\n",
    "unique_batches = np.unique(data['batches']['all'])\n",
    "unique_cats = np.unique(data['cats']['all'])\n",
    "unique_ages = np.array(['50s', '60s', '70s', '80+'])\n",
    "unique_genders = np.unique(data['meta']['all'].iloc[:, 1])\n",
    "n_cats = len(unique_labels)\n",
    "n_batches = len(unique_batches)\n",
    "n_ages = len(unique_ages)\n",
    "n_genders = len(unique_genders)\n",
    "\n",
    "data['age'] = {}\n",
    "data['gender'] = {}\n",
    "meta_age = []\n",
    "for age in data['meta']['all'].iloc[:, 0]:\n",
    "    if age < 50:\n",
    "        meta_age += ['pool']\n",
    "    elif age < 60:\n",
    "        meta_age += ['50s']\n",
    "    elif age < 70:\n",
    "        meta_age += ['60s']\n",
    "    elif age < 80:\n",
    "        meta_age += ['70s']\n",
    "    else:\n",
    "        meta_age += ['80+']\n",
    "data['age']['all'] = np.array(meta_age)\n",
    "data['gender']['all'] = data['meta']['all'].iloc[:, 1]\n",
    "\n",
    "data, _ = scale_data('robust', data, device='cpu')"
   ]
  },
  {
   "cell_type": "code",
   "execution_count": null,
   "id": "72cfce9a-15ff-487e-a25b-0cba7e7005a7",
   "metadata": {
    "scrolled": true,
    "tags": []
   },
   "outputs": [],
   "source": [
    "metrics = log_fct(copy.deepcopy(data), unique_labels, unique_batches, metrics)\n",
    "train_fct(copy.deepcopy(data), n_meta, train_models)\n"
   ]
  },
  {
   "cell_type": "markdown",
   "id": "78827d0f-e01c-4056-8178-e8967675e9fa",
   "metadata": {},
   "source": [
    "# Robust per batch"
   ]
  },
  {
   "cell_type": "code",
   "execution_count": null,
   "id": "585e523a-b86b-45b3-a936-b9e5a73131fd",
   "metadata": {},
   "outputs": [],
   "source": [
    "path = 'data/Alzheimer'\n",
    "data, unique_labels, unique_batches = get_alzheimer(path, args)\n",
    "# unique_labels = get_unique_labels(data['labels']['all'])\n",
    "unique_batches = np.unique(data['batches']['all'])\n",
    "unique_cats = np.unique(data['cats']['all'])\n",
    "unique_ages = np.array(['50s', '60s', '70s', '80+'])\n",
    "unique_genders = np.unique(data['meta']['all'].iloc[:, 1])\n",
    "n_cats = len(unique_labels)\n",
    "n_batches = len(unique_batches)\n",
    "n_ages = len(unique_ages)\n",
    "n_genders = len(unique_genders)\n",
    "\n",
    "data['age'] = {}\n",
    "data['gender'] = {}\n",
    "meta_age = []\n",
    "for age in data['meta']['all'].iloc[:, 0]:\n",
    "    if age < 50:\n",
    "        meta_age += ['pool']\n",
    "    elif age < 60:\n",
    "        meta_age += ['50s']\n",
    "    elif age < 70:\n",
    "        meta_age += ['60s']\n",
    "    elif age < 80:\n",
    "        meta_age += ['70s']\n",
    "    else:\n",
    "        meta_age += ['80+']\n",
    "data['age']['all'] = np.array(meta_age)\n",
    "data['gender']['all'] = data['meta']['all'].iloc[:, 1]\n",
    "\n",
    "data, _ = scale_data('robust_per_batch', data, device='cpu')"
   ]
  },
  {
   "cell_type": "code",
   "execution_count": null,
   "id": "edd47c0d-5b97-4cd5-ba71-07701bb49cdf",
   "metadata": {
    "scrolled": true,
    "tags": []
   },
   "outputs": [],
   "source": [
    "metrics = log_fct(copy.deepcopy(data), unique_labels, unique_batches, metrics)\n",
    "train_fct(copy.deepcopy(data), n_meta, train_models)\n"
   ]
  },
  {
   "cell_type": "markdown",
   "id": "fc3a3dde-1b9a-4d8d-aea4-ab7d060875a8",
   "metadata": {
    "tags": []
   },
   "source": [
    "# Combat"
   ]
  },
  {
   "cell_type": "code",
   "execution_count": null,
   "id": "dd7829bf-154f-4978-8baa-e768345de54b",
   "metadata": {
    "tags": []
   },
   "outputs": [],
   "source": [
    "path = 'data/Alzheimer'\n",
    "data, unique_labels, unique_batches = get_alzheimer(path, args)\n",
    "# unique_labels = get_unique_labels(data['labels']['all'])\n",
    "unique_batches = np.unique(data['batches']['all'])\n",
    "unique_cats = np.unique(data['cats']['all'])\n",
    "unique_ages = np.array(['50s', '60s', '70s', '80+'])\n",
    "unique_genders = np.unique(data['meta']['all'].iloc[:, 1])\n",
    "n_cats = len(unique_labels)\n",
    "n_batches = len(unique_batches)\n",
    "n_ages = len(unique_ages)\n",
    "n_genders = len(unique_genders)\n",
    "\n",
    "data['age'] = {}\n",
    "data['gender'] = {}\n",
    "meta_age = []\n",
    "for age in data['meta']['all'].iloc[:, 0]:\n",
    "    if age < 50:\n",
    "        meta_age += ['pool']\n",
    "    elif age < 60:\n",
    "        meta_age += ['50s']\n",
    "    elif age < 70:\n",
    "        meta_age += ['60s']\n",
    "    elif age < 80:\n",
    "        meta_age += ['70s']\n",
    "    else:\n",
    "        meta_age += ['80+']\n",
    "data['age']['all'] = np.array(meta_age)\n",
    "data['gender']['all'] = data['meta']['all'].iloc[:, 1]\n",
    "\n",
    "data = remove_batch_effect(get_berm('combat'), data)\n",
    "\n",
    "# data['inputs']['all'] = data['inputs']['all'].fillna(0)\n",
    "#data['inputs']['train'][np.isnan(data['inputs']['train'])] = 0\n",
    "# data['inputs']['train_pool'][np.isnan(data['inputs']['train_pool'])] = 0\n",
    "# data['inputs']['valid'][np.isnan(data['inputs']['valid'])] = 0\n",
    "# data['inputs']['valid_pool'][np.isnan(data['inputs']['valid_pool'])] = 0\n",
    "# data['inputs']['test'][np.isnan(data['inputs']['test'])] = 0\n",
    "# data['inputs']['test_pool'][np.isnan(data['inputs']['test_pool'])] = 0\n"
   ]
  },
  {
   "cell_type": "code",
   "execution_count": null,
   "id": "7822054a-16ce-47ec-be3e-97f49c3d8ae5",
   "metadata": {
    "scrolled": true,
    "tags": []
   },
   "outputs": [],
   "source": [
    "metrics = log_fct(copy.deepcopy(data), unique_labels, unique_batches, metrics)\n",
    "train_fct(copy.deepcopy(data), n_meta, train_models)\n"
   ]
  },
  {
   "cell_type": "markdown",
   "id": "6e93871c-7927-4d37-bcf0-172b1af0458a",
   "metadata": {
    "tags": []
   },
   "source": [
    "# pyCombat"
   ]
  },
  {
   "cell_type": "code",
   "execution_count": null,
   "id": "7275bc4e-1133-445c-a24f-4bde7937e15e",
   "metadata": {
    "tags": []
   },
   "outputs": [],
   "source": [
    "from combat.pycombat import pycombat\n",
    "path = 'data/Alzheimer'\n",
    "data, unique_labels, unique_batches = get_alzheimer(path, args)\n",
    "# unique_labels = get_unique_labels(data['labels']['all'])\n",
    "unique_batches = np.unique(data['batches']['all'])\n",
    "unique_cats = np.unique(data['cats']['all'])\n",
    "unique_ages = np.array(['50s', '60s', '70s', '80+'])\n",
    "unique_genders = np.unique(data['meta']['all'].iloc[:, 1])\n",
    "n_cats = len(unique_labels)\n",
    "n_batches = len(unique_batches)\n",
    "n_ages = len(unique_ages)\n",
    "n_genders = len(unique_genders)\n",
    "\n",
    "data['age'] = {}\n",
    "data['gender'] = {}\n",
    "meta_age = []\n",
    "for age in data['meta']['all'].iloc[:, 0]:\n",
    "    if age < 50:\n",
    "        meta_age += ['pool']\n",
    "    elif age < 60:\n",
    "        meta_age += ['50s']\n",
    "    elif age < 70:\n",
    "        meta_age += ['60s']\n",
    "    elif age < 80:\n",
    "        meta_age += ['70s']\n",
    "    else:\n",
    "        meta_age += ['80+']\n",
    "data['age']['all'] = np.array(meta_age)\n",
    "data['gender']['all'] = data['meta']['all'].iloc[:, 1]\n",
    "\n",
    "data = use_pycombat(pycombat, data)\n"
   ]
  },
  {
   "cell_type": "code",
   "execution_count": null,
   "id": "38771054-a15b-4995-b172-7c6548476e90",
   "metadata": {
    "scrolled": true,
    "tags": []
   },
   "outputs": [],
   "source": [
    "metrics = log_fct(copy.deepcopy(data), unique_labels, unique_batches, metrics)\n",
    "train_fct(copy.deepcopy(data), n_meta, train_models)\n"
   ]
  },
  {
   "cell_type": "markdown",
   "id": "65c1508f-2958-4d95-bcf1-c60a4c2d2e4c",
   "metadata": {},
   "source": [
    "# Harmony"
   ]
  },
  {
   "cell_type": "code",
   "execution_count": null,
   "id": "5fb63fd8-c94d-4491-97c9-27133e41fa35",
   "metadata": {
    "scrolled": true,
    "tags": []
   },
   "outputs": [],
   "source": [
    "path = 'data/Alzheimer'\n",
    "data, unique_labels, unique_batches = get_alzheimer(path, args)\n",
    "unique_batches = np.unique(data['batches']['all'])\n",
    "unique_cats = np.unique(data['cats']['all'])\n",
    "unique_ages = np.array(['50s', '60s', '70s', '80+'])\n",
    "unique_genders = np.unique(data['meta']['all'].iloc[:, 1])\n",
    "n_cats = len(unique_labels)\n",
    "n_batches = len(unique_batches)\n",
    "n_ages = len(unique_ages)\n",
    "n_genders = len(unique_genders)\n",
    "data['age'] = {}\n",
    "data['gender'] = {}\n",
    "meta_age = []\n",
    "for age in data['meta']['all'].iloc[:, 0]:\n",
    "    if age < 50:\n",
    "        meta_age += ['pool']\n",
    "    elif age < 60:\n",
    "        meta_age += ['50s']\n",
    "    elif age < 70:\n",
    "        meta_age += ['60s']\n",
    "    elif age < 80:\n",
    "        meta_age += ['70s']\n",
    "    else:\n",
    "        meta_age += ['80+']\n",
    "data['age']['all'] = np.array(meta_age)\n",
    "data['gender']['all'] = data['meta']['all'].iloc[:, 1]\n",
    "\n",
    "data['inputs']['all'].iloc[:] = minmax_scaler.fit_transform(data['inputs']['all'])\n",
    "data['inputs']['all_pool'].iloc[:] = minmax_scaler.transform(data['inputs']['all_pool'])\n",
    "data['inputs']['train'].iloc[:] = minmax_scaler.transform(data['inputs']['train'])\n",
    "data['inputs']['train_pool'].iloc[:] = minmax_scaler.transform(data['inputs']['train_pool'])\n",
    "data['inputs']['valid'].iloc[:] = minmax_scaler.transform(data['inputs']['valid'])\n",
    "data['inputs']['valid_pool'].iloc[:] = minmax_scaler.transform(data['inputs']['valid_pool'])\n",
    "data['inputs']['test'].iloc[:] = minmax_scaler.transform(data['inputs']['test'])\n",
    "data['inputs']['test_pool'].iloc[:] = minmax_scaler.transform(data['inputs']['test_pool'])\n",
    "data = remove_batch_effect(get_berm('harmony'), data)\n",
    "\n"
   ]
  },
  {
   "cell_type": "code",
   "execution_count": null,
   "id": "b4f04940-b9d8-4d19-b926-711ce52deb52",
   "metadata": {
    "scrolled": true,
    "tags": []
   },
   "outputs": [],
   "source": [
    "metrics = log_fct(copy.deepcopy(data), unique_labels, unique_batches, metrics)\n",
    "train_fct(copy.deepcopy(data), n_meta, train_models)\n"
   ]
  },
  {
   "cell_type": "markdown",
   "id": "8638c638-26f8-4997-abb1-c80a8b62e4c1",
   "metadata": {},
   "source": [
    "# WaveICA"
   ]
  },
  {
   "cell_type": "code",
   "execution_count": null,
   "id": "1702d406-3c15-4be5-adf5-b34a4afd2861",
   "metadata": {
    "scrolled": true,
    "tags": []
   },
   "outputs": [],
   "source": [
    "import pandas as pd\n",
    "import rpy2.robjects as robjects\n",
    "from rpy2.robjects import pandas2ri\n",
    "from rpy2.robjects.packages import importr\n",
    "from rpy2.robjects.conversion import localconverter\n",
    "\n",
    "def waveicaR(data, batches):\n",
    "    with localconverter(robjects.default_converter + pandas2ri.converter):\n",
    "        data_r = robjects.conversion.py2rpy(data)\n",
    "\n",
    "    # data_r = robjects.r.matrix(robjects.FloatVector(df.values.reshape(-1)), nrow=df.shape[0])\n",
    "    batches_r = robjects.IntVector(batches.reshape(-1))\n",
    "    waveica = importr('WaveICA')\n",
    "    # data_r.colnames = robjects.StrVector([str(x) for x in range(df.shape[1])])\n",
    "    newdata = waveica.WaveICA(dat=data_r, batch=batches_r)\n",
    "    with localconverter(robjects.default_converter + pandas2ri.converter):\n",
    "        newdata = { key : np.array(robjects.conversion.rpy2py(newdata.rx2(key))) for key in newdata.names }\n",
    "    return newdata['data_wave']\n",
    "\n",
    "\n",
    "path = 'data/Alzheimer'\n",
    "data, unique_labels, unique_batches = get_alzheimer(path, args)\n",
    "unique_batches = np.unique(data['batches']['all'])\n",
    "unique_cats = np.unique(data['cats']['all'])\n",
    "unique_ages = np.array(['50s', '60s', '70s', '80+'])\n",
    "unique_genders = np.unique(data['meta']['all'].iloc[:, 1])\n",
    "n_cats = len(unique_labels)\n",
    "n_batches = len(unique_batches)\n",
    "n_ages = len(unique_ages)\n",
    "n_genders = len(unique_genders)\n",
    "data['age'] = {}\n",
    "data['gender'] = {}\n",
    "meta_age = []\n",
    "for age in data['meta']['all'].iloc[:, 0]:\n",
    "    if age < 50:\n",
    "        meta_age += ['pool']\n",
    "    elif age < 60:\n",
    "        meta_age += ['50s']\n",
    "    elif age < 70:\n",
    "        meta_age += ['60s']\n",
    "    elif age < 80:\n",
    "        meta_age += ['70s']\n",
    "    else:\n",
    "        meta_age += ['80+']\n",
    "data['age']['all'] = np.array(meta_age)\n",
    "data['gender']['all'] = data['meta']['all'].iloc[:, 1]\n",
    "\n",
    "df = data['inputs']['all']\n",
    "all_batches = data['batches']['all']\n",
    "# assert np.sum(all_batches != np.concatenate((data['batches']['train'], data['batches']['valid'], data['batches']['test']))) == 0\n",
    "tmp = waveicaR(df, all_batches)"
   ]
  },
  {
   "cell_type": "code",
   "execution_count": null,
   "id": "8d096024-8483-4877-9445-b776bc5b5672",
   "metadata": {},
   "outputs": [],
   "source": [
    "previous_len = 0\n",
    "for g in list(data['inputs'].keys())[1:-1]:\n",
    "    data['inputs'][g] = pd.DataFrame(\n",
    "        tmp[previous_len:previous_len + data['inputs'][g].shape[0]],\n",
    "        index=data['inputs'][g].index)\n",
    "    previous_len += data['inputs'][g].shape[0]\n",
    "try:\n",
    "    data['inputs']['all'] = pd.DataFrame(tmp, index=df.index, columns=df.columns)\n",
    "except:\n",
    "    data['inputs']['all'] = pd.DataFrame(tmp, index=df.index)\n",
    "\n",
    "if n_meta == 2:\n",
    "    for group in data['inputs']:\n",
    "        data['inputs'][group] = pd.DataFrame(np.concatenate((data['inputs'][group], data['meta'][group]), 1))\n"
   ]
  },
  {
   "cell_type": "code",
   "execution_count": null,
   "id": "c25860b7-9671-492e-9392-fd07f2564f29",
   "metadata": {
    "scrolled": true,
    "tags": []
   },
   "outputs": [],
   "source": [
    "metrics = log_fct(copy.deepcopy(data), unique_labels, unique_batches, metrics)\n",
    "train_fct(copy.deepcopy(data), n_meta, train_models)\n"
   ]
  },
  {
   "cell_type": "code",
   "execution_count": null,
   "id": "a108f06c-37db-4228-8303-a229cd91103b",
   "metadata": {},
   "outputs": [],
   "source": [
    "if log_stuff:\n",
    "    # table = pd.DataFrame(columns=list(metrics['raw']['all'].keys()) + ['delta', 'delta_pool'], index=list(metrics.keys()))\n",
    "    cols = ['qc_aPCC', '[qc_dist/tot_eucl]', 'lisi', 'silhouette', 'kbet', 'shannon', 'adjusted_rand_score', 'adjusted_mutual_info_score']\n",
    "    cols_pool = ['pool lisi', 'pool silhouette', 'pool kbet', 'pool shannon', 'pool adjusted_rand_score', 'pool adjusted_mutual_info_score',]\n",
    "    table = pd.DataFrame(columns=cols + cols_pool, index=list(metrics.keys()))\n",
    "    # table = table.drop(['qc_dist', 'b_euclidean', 'euclidean', \"[b_euclidean/tot_eucl]\"], 1)\n",
    "    for col in cols:\n",
    "        for row in list(table.index):\n",
    "            # if 'delta' in col:\n",
    "            #     table[col][row] = metrics[row][col]\n",
    "            # else:\n",
    "            try:\n",
    "                if isinstance(metrics[row]['all'][col], dict):\n",
    "                    table[col][row] = metrics[row]['all'][col][\"domains\"]\n",
    "                    try:\n",
    "                        table[f'pool {col}'][row] = metrics[row]['all_pool'][col][\"domains\"]\n",
    "                    except:\n",
    "                        pass\n",
    "                    # table[col][row][\"domains\"] = metrics[row]['all'][col][\"domains\"]\n",
    "                    # table[col][row][\"labels\"] = metrics[row]['all'][col][\"labels\"]\n",
    "                else:\n",
    "                    try:\n",
    "                        table[col][row] = metrics[row]['valid'][col]\n",
    "                    except:\n",
    "                        table[col][row] = metrics[row]['all'][col]\n",
    "\n",
    "            except:\n",
    "                try:\n",
    "                    table[col][row] = metrics[row]['all_pool'][col]\n",
    "                except:\n",
    "                    table[col][row] = metrics[row]['valid'][col]\n",
    "\n",
    "table"
   ]
  },
  {
   "cell_type": "markdown",
   "id": "6d443349-8264-4af3-b6a5-dae17f36b17a",
   "metadata": {
    "tags": []
   },
   "source": [
    "# AE "
   ]
  },
  {
   "cell_type": "code",
   "execution_count": null,
   "id": "412abb89-ffe8-49ee-b774-0874dc5d8c9f",
   "metadata": {},
   "outputs": [],
   "source": [
    "from src.dl.models.pytorch.aedann import AutoEncoder2 as AutoEncoder\n"
   ]
  },
  {
   "cell_type": "markdown",
   "id": "76adf46b-97d0-4011-9a84-500d30587ebf",
   "metadata": {},
   "source": [
    "## Encoded"
   ]
  },
  {
   "cell_type": "code",
   "execution_count": null,
   "id": "20491d29-7b08-4ace-a253-020a0254b3f4",
   "metadata": {},
   "outputs": [
    {
     "data": {
      "text/plain": [
       "(921, 896)"
      ]
     },
     "execution_count": 63,
     "metadata": {},
     "output_type": "execute_result"
    }
   ],
   "source": [
    "data['inputs']['all'].shape"
   ]
  },
  {
   "cell_type": "code",
   "execution_count": null,
   "id": "d720cef8-cb9f-46fe-9164-4a12cb64dbdc",
   "metadata": {},
   "outputs": [
    {
     "ename": "NameError",
     "evalue": "name 'AutoEncoder' is not defined",
     "output_type": "error",
     "traceback": [
      "\u001b[1;31m---------------------------------------------------------------------------\u001b[0m",
      "\u001b[1;31mNameError\u001b[0m                                 Traceback (most recent call last)",
      "\u001b[1;32m~\\AppData\\Local\\Temp\\ipykernel_12588\\1012383495.py\u001b[0m in \u001b[0;36m<module>\u001b[1;34m\u001b[0m\n\u001b[0;32m     39\u001b[0m \u001b[1;31m# best score is autoencoder0, best correction autoencoder3\u001b[0m\u001b[1;33m\u001b[0m\u001b[1;33m\u001b[0m\u001b[0m\n\u001b[0;32m     40\u001b[0m \u001b[1;32mif\u001b[0m \u001b[1;32mnot\u001b[0m \u001b[0mbest_correction\u001b[0m\u001b[1;33m:\u001b[0m\u001b[1;33m\u001b[0m\u001b[1;33m\u001b[0m\u001b[0m\n\u001b[1;32m---> 41\u001b[1;33m     best_ae2 = AutoEncoder(data['inputs']['all'].shape[1],\n\u001b[0m\u001b[0;32m     42\u001b[0m                      \u001b[0mn_batches\u001b[0m\u001b[1;33m=\u001b[0m\u001b[1;36m22\u001b[0m\u001b[1;33m,\u001b[0m\u001b[1;33m\u001b[0m\u001b[1;33m\u001b[0m\u001b[0m\n\u001b[0;32m     43\u001b[0m                      \u001b[0mnb_classes\u001b[0m\u001b[1;33m=\u001b[0m\u001b[1;36m2\u001b[0m\u001b[1;33m,\u001b[0m\u001b[1;33m\u001b[0m\u001b[1;33m\u001b[0m\u001b[0m\n",
      "\u001b[1;31mNameError\u001b[0m: name 'AutoEncoder' is not defined"
     ]
    }
   ],
   "source": [
    "path = 'data/Alzheimer'\n",
    "data, unique_labels, unique_batches = get_alzheimer(path, args)\n",
    "# unique_labels = get_unique_labels(data['labels']['all'])\n",
    "unique_batches = np.unique(data['batches']['all'])\n",
    "unique_cats = np.unique(data['cats']['all'])\n",
    "unique_ages = np.array(['50s', '60s', '70s', '80+'])\n",
    "unique_genders = np.unique(data['meta']['all'].iloc[:, 1])\n",
    "n_cats = len(unique_labels)\n",
    "n_batches = len(unique_batches)\n",
    "n_ages = len(unique_ages)\n",
    "n_genders = len(unique_genders)\n",
    "\n",
    "data['age'] = {}\n",
    "data['gender'] = {}\n",
    "meta_age = []\n",
    "for age in data['meta']['all'].iloc[:, 0]:\n",
    "    if age < 50:\n",
    "        meta_age += ['pool']\n",
    "    elif age < 60:\n",
    "        meta_age += ['50s']\n",
    "    elif age < 70:\n",
    "        meta_age += ['60s']\n",
    "    elif age < 80:\n",
    "        meta_age += ['70s']\n",
    "    else:\n",
    "        meta_age += ['80+']\n",
    "data['age']['all'] = np.array(meta_age)\n",
    "data['gender']['all'] = data['meta']['all'].iloc[:, 1]\n",
    "\n",
    "data, _ = scale_data('robust', data, device='cpu')\n",
    "\n",
    "if not best_correction:\n",
    "    # Best score run Brain-1446\n",
    "    path='logs/best_models_server/ae_then_classifier_holdout/no_vae0/model_1.pth'\n",
    "else:\n",
    "    # Run Brain-\n",
    "    path='logs/ae_classifier_holdout/.../model_3.pth'\n",
    "    \n",
    "# best score is autoencoder0, best correction autoencoder3\n",
    "if not best_correction:\n",
    "    best_ae2 = AutoEncoder(data['inputs']['all'].shape[1],\n",
    "                     n_batches=22,\n",
    "                     nb_classes=2,\n",
    "                     layer1=1692,\n",
    "                     mapper=0,\n",
    "                     layer2=183,\n",
    "                     dropout=0,\n",
    "                           n_meta=0,\n",
    "                           n_emb=2,\n",
    "                           n_layers=2,\n",
    "                     variational=0, conditional=False, zinb=0,\n",
    "                     add_noise=0, tied_weights=0, \n",
    "                     use_gnn=0, device='cpu').to('cpu')\n",
    "else:\n",
    "    best_ae2 = AutoEncoder(data['inputs']['all'].shape[1],\n",
    "                 n_batches=21,\n",
    "                 nb_classes=2,\n",
    "                 layer1=595,\n",
    "                 mapper=0,\n",
    "                 layer2=266,\n",
    "                 dropout=0,\n",
    "                 variational=0, conditional=False, zinb=0,\n",
    "                 add_noise=0, tied_weights=0, n_meta=2,\n",
    "                 use_gnn=0, device='cpu').to('cpu')\n",
    "\n",
    "best_ae2.mapper.to('cpu')\n",
    "best_ae2.dec.to('cpu')\n",
    "\n",
    "best_ae2.load_state_dict(torch.load(f'{path}'))\n",
    "best_ae2.eval()\n",
    "pass"
   ]
  },
  {
   "cell_type": "code",
   "execution_count": null,
   "id": "c87795be-1119-4dff-a199-be26159fc03b",
   "metadata": {},
   "outputs": [],
   "source": [
    "batches = torch.Tensor([np.argwhere(unique_batches == x)[0][0] for x in data['batches']['all']]).detach().cpu()\n",
    "enc_data = data.copy()\n",
    "enc_data['inputs']['all'], _, _, _ = best_ae2.cpu()(torch.Tensor(data['inputs']['all'].values), batches, sampling=True, mapping=False)\n",
    "enc_data['inputs']['all_pool'], _, _, _ = best_ae2.cpu()(torch.Tensor(data['inputs']['all_pool'].values), batches, sampling=False, mapping=False)\n",
    "enc_data['inputs']['train'], _, _, _ = best_ae2.cpu()(torch.Tensor(data['inputs']['train'].values), batches, sampling=True, mapping=False)\n",
    "enc_data['inputs']['train_pool'], _, _, _ = best_ae2.cpu()(torch.Tensor(data['inputs']['train_pool'].values), batches, sampling=False, mapping=False)\n",
    "enc_data['inputs']['valid'], _, _, _ = best_ae2.cpu()(torch.Tensor(data['inputs']['valid'].values), batches, sampling=True, mapping=False)\n",
    "enc_data['inputs']['valid_pool'], _, _, _ = best_ae2.cpu()(torch.Tensor(data['inputs']['valid_pool'].values), batches, sampling=False, mapping=False)\n",
    "enc_data['inputs']['test'], _, _, _ = best_ae2.cpu()(torch.Tensor(data['inputs']['test'].values), batches, sampling=True, mapping=False)\n",
    "enc_data['inputs']['test_pool'], _, _, _ = best_ae2.cpu()(torch.Tensor(data['inputs']['test_pool'].values), batches, sampling=False, mapping=False)\n",
    "\n",
    "for group in enc_data['inputs']:\n",
    "    enc_data['inputs'][group] = pd.DataFrame(enc_data['inputs'][group].detach().cpu().numpy())\n"
   ]
  },
  {
   "cell_type": "code",
   "execution_count": null,
   "id": "bba03d4e-3fb9-4fc0-9da0-a1d8dcb024da",
   "metadata": {},
   "outputs": [],
   "source": [
    "from scipy import stats\n",
    "from statsmodels.stats.multitest import multipletests\n",
    "print(\"Mann      pval min    n pvals < 0.05\")\n",
    "table = pd.DataFrame(columns=['pval', 'n'])\n",
    "i = 0\n",
    "for i, label in enumerate(unique_labels[:-1]):\n",
    "    for label2 in unique_labels[i+1:]:\n",
    "        if label != label2 and label != 'pool' and label2 != 'pool':\n",
    "            pvals = stats.mannwhitneyu(\n",
    "                enc_data['inputs']['all'].values[np.argwhere(data['labels']['all'] == label).squeeze()], \n",
    "                enc_data['inputs']['all'].values[np.argwhere(data['labels']['all'] == label2).squeeze()]\n",
    "            )\n",
    "            tmp = multipletests(pvals[1], 0.05, 'fdr_bh')[1]\n",
    "            table.loc[f'{label}_{label2}', 'pval'] = tmp.min()\n",
    "            table.loc[f'{label}_{label2}', 'n'] = len([x for x in tmp if x < 0.05])\n",
    "            i += 1\n",
    "print(tabulate(table))\n",
    "\n",
    "print('ttests')\n",
    "table = pd.DataFrame(columns=['pval'])\n",
    "i = 0\n",
    "for i, label in enumerate(unique_labels[:-1]):\n",
    "    for label2 in unique_labels[i+1:]:\n",
    "        if label != label2 and label != 'pool' and label2 != 'pool':\n",
    "            pvals = stats.ttest_ind(\n",
    "                enc_data['inputs']['all'].values[np.argwhere(data['labels']['all'] == label).squeeze()], \n",
    "                enc_data['inputs']['all'].values[np.argwhere(data['labels']['all'] == label2).squeeze()]\n",
    "            )\n",
    "            tmp = multipletests(pvals[1], 0.05, 'fdr_bh')[1]\n",
    "            table.loc[f'{label}_{label2}', 'pval'] = tmp.min()\n",
    "            table.loc[f'{label}_{label2}', 'n'] = len([x for x in tmp if x < 0.05])\n",
    "            i += 1\n",
    "print(tabulate(table))\n"
   ]
  },
  {
   "cell_type": "code",
   "execution_count": null,
   "id": "aa5bfb34-4183-4f66-a223-d0568767dea3",
   "metadata": {
    "scrolled": true,
    "tags": []
   },
   "outputs": [],
   "source": [
    "if log_stuff:\n",
    "    metrics = log_pool_metrics(enc_data['inputs'], enc_data['batches'], metrics, 'ae-enc')\n",
    "    metrics = log_metrics(enc_data, unique_labels, enc_data['batches'], metrics, 'ae-enc', device='cuda')\n",
    "    # metrics = log_LDA(LDA, enc_data, {'batches': unique_batches, 'labels': unique_labels}, 0, metrics, 'ae-enc')\n"
   ]
  },
  {
   "cell_type": "code",
   "execution_count": null,
   "id": "62094998-3706-4525-8695-9f2730321b7f",
   "metadata": {
    "scrolled": true,
    "tags": []
   },
   "outputs": [],
   "source": [
    "%matplotlib inline\n",
    "log_ORD({'model': PCA(n_components=2), 'name': f'PCA_encs_labels'}, enc_data, \n",
    "        {'batches': unique_batches, 'labels': unique_labels, \n",
    "         # 'age': unique_ages\n",
    "        }, 0)\n",
    "log_ORD({'model': UMAP(n_components=2), 'name': f'UMAP_encs_labels'}, enc_data, \n",
    "        {'batches': unique_batches, 'labels': unique_labels, \n",
    "         # 'age': unique_ages\n",
    "        }, 0)\n"
   ]
  },
  {
   "cell_type": "code",
   "execution_count": null,
   "id": "0103cf2b-683e-44e4-b684-2c921d6551c5",
   "metadata": {},
   "outputs": [],
   "source": []
  },
  {
   "cell_type": "code",
   "execution_count": null,
   "id": "602e7376-4852-4fdd-9109-809038b5969b",
   "metadata": {},
   "outputs": [],
   "source": [
    "for group in enc_data['inputs']:\n",
    "    if n_meta == 2:\n",
    "        enc_data['inputs'][group] = pd.DataFrame(np.concatenate((enc_data['inputs'][group].values, enc_data['meta'][group]), 1))\n"
   ]
  },
  {
   "cell_type": "code",
   "execution_count": null,
   "id": "ec9a3193-56f4-489c-9e84-7012b25e8dfc",
   "metadata": {},
   "outputs": [],
   "source": [
    "if train_models:\n",
    "    train_rfc(enc_data, 'ae-enc', n_meta)\n",
    "    train_linsvc(enc_data, 'ae-enc', n_meta)\n",
    "    # train_logreg(enc_data, 'ae-enc', n_meta)\n",
    "    "
   ]
  },
  {
   "cell_type": "raw",
   "id": "3de76e81-cb30-40d6-9710-0f0ba0fa31a1",
   "metadata": {},
   "source": [
    "## Reconstruction"
   ]
  },
  {
   "cell_type": "raw",
   "id": "4a775f86-3e67-46d5-8d9e-008380af3eae",
   "metadata": {},
   "source": [
    "path = 'data'\n",
    "data, unique_labels = get_data(path, csv_name, bad_batches)\n",
    "unique_batches = np.unique(data['batches']['all'])\n",
    "unique_cats = np.unique(data['cats']['all'])\n",
    "unique_ages = np.array(['50s', '60s', '70s', '80+'])\n",
    "unique_genders = np.unique(data['meta']['all'].iloc[:, 1])\n",
    "n_cats = len(unique_labels)\n",
    "n_batches = len(unique_batches)\n",
    "n_ages = len(unique_ages)\n",
    "n_genders = len(unique_genders)\n",
    "data['age'] = {}\n",
    "data['gender'] = {}\n",
    "meta_age = []\n",
    "for age in data['meta']['all'].iloc[:, 0]:\n",
    "    if age < 50:\n",
    "        meta_age += ['pool']\n",
    "    elif age < 60:\n",
    "        meta_age += ['50s']\n",
    "    elif age < 70:\n",
    "        meta_age += ['60s']\n",
    "    elif age < 80:\n",
    "        meta_age += ['70s']\n",
    "    else:\n",
    "        meta_age += ['80+']\n",
    "data['age']['all'] = np.array(meta_age)\n",
    "data['gender']['all'] = data['meta']['all'].iloc[:, 1]\n",
    "\n",
    "scaler = Pipeline([('standard', RobustScaler()), ('minmax', MinMaxScaler())])\n",
    "# scaler = Pipeline([('standard', StandardScaler()), ('minmax', MinMaxScaler())])\n",
    "# scaler = MinMaxScaler()\n",
    "\n",
    "data['inputs']['all'] = scaler.fit_transform(data['inputs']['all'])\n",
    "data['inputs']['all_pool'] = scaler.transform(data['inputs']['all_pool'])\n",
    "data['inputs']['train'] = scaler.transform(data['inputs']['train'])\n",
    "data['inputs']['train_pool'] = scaler.transform(data['inputs']['train_pool'])\n",
    "data['inputs']['valid'] = scaler.transform(data['inputs']['valid'])\n",
    "data['inputs']['valid_pool'] = scaler.transform(data['inputs']['valid_pool'])\n",
    "data['inputs']['test'] = scaler.transform(data['inputs']['test'])\n",
    "data['inputs']['test_pool'] = scaler.transform(data['inputs']['test_pool'])\n"
   ]
  },
  {
   "cell_type": "raw",
   "id": "c017337d-07dd-485b-82e8-bc9090e0828f",
   "metadata": {},
   "source": [
    "batches = torch.Tensor([np.argwhere(unique_batches == x)[0][0] for x in data['batches']['all']])\n",
    "rec_data = data.copy()\n",
    "_, rec_data['inputs']['all'], _, _ = best_ae2.cpu()(torch.Tensor(data['inputs']['all']), batches, sampling=False)\n",
    "_, rec_data['inputs']['all_pool'], _, _ = best_ae2.cpu()(torch.Tensor(data['inputs']['all_pool']), batches, sampling=False)\n",
    "_, rec_data['inputs']['train'], _, _ = best_ae2.cpu()(torch.Tensor(data['inputs']['train']), batches, sampling=False)\n",
    "_, rec_data['inputs']['train_pool'], _, _ = best_ae2.cpu()(torch.Tensor(data['inputs']['train_pool']), batches, sampling=False)\n",
    "_, rec_data['inputs']['valid'], _, _ = best_ae2.cpu()(torch.Tensor(data['inputs']['valid']), batches, sampling=False)\n",
    "_, rec_data['inputs']['valid_pool'], _, _ = best_ae2.cpu()(torch.Tensor(data['inputs']['valid_pool']), batches, sampling=False)\n",
    "_, rec_data['inputs']['test'], _, _ = best_ae2.cpu()(torch.Tensor(data['inputs']['test']), batches, sampling=False)\n",
    "_, rec_data['inputs']['test_pool'], _, _ = best_ae2.cpu()(torch.Tensor(data['inputs']['test_pool']), batches, sampling=False)\n",
    "\n",
    "for group in enc_data['inputs']:\n",
    "    rec_data['inputs'][group] = rec_data['inputs'][group]['mean'][-1].detach().cpu().numpy()\n",
    "    if n_meta == 2:\n",
    "        rec_data['inputs'][group] = np.concatenate((rec_data['inputs'][group], rec_data['meta'][group]), 1)\n"
   ]
  },
  {
   "cell_type": "raw",
   "id": "ae8baae9-81ae-4714-801d-460e30921f43",
   "metadata": {},
   "source": [
    "from scipy import stats\n",
    "from statsmodels.stats.multitest import multipletests\n",
    "print(\"Mann      pval min    n pvals < 0.05\")\n",
    "table = pd.DataFrame(columns=['pval', 'n'])\n",
    "i = 0\n",
    "for i, label in enumerate(unique_labels[:-1]):\n",
    "    for label2 in unique_labels[i+1:]:\n",
    "        if label != label2 and label != 'pool' and label2 != 'pool':\n",
    "            pvals = stats.mannwhitneyu(\n",
    "                rec_data['inputs']['all'][np.argwhere(data['labels']['all'] == label).squeeze()], \n",
    "                rec_data['inputs']['all'][np.argwhere(data['labels']['all'] == label2).squeeze()]\n",
    "            )\n",
    "            tmp = multipletests(pvals[1], 0.05, 'fdr_bh')[1]\n",
    "            table.loc[f'{label}_{label2}', 'pval'] = tmp.min()\n",
    "            table.loc[f'{label}_{label2}', 'n'] = len([x for x in tmp if x < 0.05])\n",
    "            i += 1\n",
    "print(tabulate(table))\n",
    "\n",
    "print('ttests')\n",
    "table = pd.DataFrame(columns=['pval'])\n",
    "i = 0\n",
    "for i, label in enumerate(unique_labels[:-1]):\n",
    "    for label2 in unique_labels[i+1:]:\n",
    "        if label != label2 and label != 'pool' and label2 != 'pool':\n",
    "            pvals = stats.ttest_ind(\n",
    "                rec_data['inputs']['all'][np.argwhere(data['labels']['all'] == label).squeeze()], \n",
    "                rec_data['inputs']['all'][np.argwhere(data['labels']['all'] == label2).squeeze()]\n",
    "            )\n",
    "            tmp = multipletests(pvals[1], 0.05, 'fdr_bh')[1]\n",
    "            table.loc[f'{label}_{label2}', 'pval'] = tmp.min()\n",
    "            table.loc[f'{label}_{label2}', 'n'] = len([x for x in tmp if x < 0.05])\n",
    "            i += 1\n",
    "print(tabulate(table))\n"
   ]
  },
  {
   "cell_type": "raw",
   "id": "fb734b11-50ff-41d9-be27-eacfb3b7b89a",
   "metadata": {
    "tags": []
   },
   "source": [
    "log_ORD({'model': PCA(n_components=2), 'name': f'PCA_recs_labels'}, rec_data, \n",
    "        {'batches': unique_batches, 'labels': unique_labels, 'age': unique_ages}, 0)\n",
    "log_ORD({'model': UMAP(n_components=2), 'name': f'UMAP_recs_labels'}, rec_data, \n",
    "        {'batches': unique_batches, 'labels': unique_labels, 'age': unique_ages}, 0)\n"
   ]
  },
  {
   "cell_type": "raw",
   "id": "ef7ade47-b0a2-413d-b5f4-5d92815c9e44",
   "metadata": {},
   "source": []
  },
  {
   "cell_type": "raw",
   "id": "8aa404fb-b5f0-4428-a481-8bab55e11586",
   "metadata": {
    "tags": []
   },
   "source": [
    "if log_stuff:\n",
    "    metrics = log_pool_metrics(rec_data['inputs'], rec_data['batches'], metrics, 'ae-rec')\n",
    "    metrics = log_metrics(rec_data, unique_labels, rec_data['batches'], metrics, 'ae-rec', device='cuda')\n",
    "    metrics =log_LDA(LDA, rec_data, {'batches': unique_batches, 'labels': unique_labels}, 0, metrics, 'ae-rec')\n"
   ]
  },
  {
   "cell_type": "raw",
   "id": "ee1f99b3-e679-42a1-ad81-e711f73c026e",
   "metadata": {},
   "source": []
  },
  {
   "cell_type": "raw",
   "id": "077f735a-029b-493d-9592-4e1c4f9f074c",
   "metadata": {},
   "source": [
    "if train_models:\n",
    "    train_rfc(rec_data, 'ae-rec', n_meta)\n",
    "    train_linsvc(rec_data, 'ae-rec', n_meta)\n",
    "    # train_logreg(rec_data, 'ae-rec', n_meta)\n",
    "    "
   ]
  },
  {
   "cell_type": "markdown",
   "id": "0b6c33ca-9f97-4a30-9a35-86f29d08ec10",
   "metadata": {
    "tags": []
   },
   "source": [
    "# NORMAE "
   ]
  },
  {
   "cell_type": "code",
   "execution_count": null,
   "id": "8d73ec76-6d83-4978-9467-9c3605569be3",
   "metadata": {},
   "outputs": [],
   "source": [
    "from src.dl.models.pytorch.aedann import AutoEncoder2 as AutoEncoder\n"
   ]
  },
  {
   "cell_type": "markdown",
   "id": "0aae8343-83ba-4250-9dcf-c6d7dedc9b74",
   "metadata": {},
   "source": [
    "## Encoded"
   ]
  },
  {
   "cell_type": "code",
   "execution_count": null,
   "id": "b42bd27a-493d-4fa5-809b-a87d5779d84f",
   "metadata": {},
   "outputs": [],
   "source": [
    "path = 'data'\n",
    "data, unique_labels, unique_batches = get_alzheimer(path, csv_name, bad_batches, remove_zeros=0)\n",
    "# unique_labels = get_unique_labels(data['labels']['all'])\n",
    "unique_batches = np.unique(data['batches']['all'])\n",
    "unique_cats = np.unique(data['cats']['all'])\n",
    "unique_ages = np.array(['50s', '60s', '70s', '80+'])\n",
    "unique_genders = np.unique(data['meta']['all'].iloc[:, 1])\n",
    "n_cats = len(unique_labels)\n",
    "n_batches = len(unique_batches)\n",
    "n_ages = len(unique_ages)\n",
    "n_genders = len(unique_genders)\n",
    "\n",
    "data['age'] = {}\n",
    "data['gender'] = {}\n",
    "meta_age = []\n",
    "for age in data['meta']['all'].iloc[:, 0]:\n",
    "    if age < 50:\n",
    "        meta_age += ['pool']\n",
    "    elif age < 60:\n",
    "        meta_age += ['50s']\n",
    "    elif age < 70:\n",
    "        meta_age += ['60s']\n",
    "    elif age < 80:\n",
    "        meta_age += ['70s']\n",
    "    else:\n",
    "        meta_age += ['80+']\n",
    "data['age']['all'] = np.array(meta_age)\n",
    "data['gender']['all'] = data['meta']['all'].iloc[:, 1]\n",
    "\n",
    "data, _ = scale_data('standard', data, device='cpu')\n",
    "\n",
    "if not best_correction:\n",
    "    # Best score run Brain-1446\n",
    "    path='logs/best_models_server/ae_then_classifier_holdout/unique_genes/normae_vae0/model_1.pth'\n",
    "else:\n",
    "    # Run Brain-\n",
    "    path='logs/ae_classifier_holdout/.../model_3.pth'\n",
    "    \n",
    "# best score is autoencoder0, best correction autoencoder3\n",
    "if not best_correction:\n",
    "    best_ae2 = AutoEncoder(data['inputs']['all'].shape[1],\n",
    "                     n_batches=22,\n",
    "                     nb_classes=2,\n",
    "                     layer1=1184,\n",
    "                     mapper=0,\n",
    "                     layer2=339,\n",
    "                     dropout=0,\n",
    "                           n_meta=0,\n",
    "                           n_emb=2,\n",
    "                           n_layers=2,\n",
    "                     variational=0, conditional=False, zinb=0,\n",
    "                     add_noise=0, tied_weights=0, \n",
    "                     use_gnn=0, device='cpu').to('cpu')\n",
    "else:\n",
    "    best_ae2 = AutoEncoder(data['inputs']['all'].shape[1],\n",
    "                 n_batches=21,\n",
    "                 nb_classes=2,\n",
    "                 layer1=595,\n",
    "                 mapper=0,\n",
    "                 layer2=266,\n",
    "                 dropout=0,\n",
    "                 variational=0, conditional=False, zinb=0,\n",
    "                 add_noise=0, tied_weights=0, n_meta=2,\n",
    "                 use_gnn=0, device='cpu').to('cpu')\n",
    "\n",
    "best_ae2.mapper.to('cpu')\n",
    "best_ae2.dec.to('cpu')\n",
    "\n",
    "best_ae2.load_state_dict(torch.load(f'{path}'))\n",
    "best_ae2.eval()\n",
    "pass"
   ]
  },
  {
   "cell_type": "code",
   "execution_count": null,
   "id": "35f4a816-6a51-4135-b95a-becb5cbbd40e",
   "metadata": {},
   "outputs": [],
   "source": [
    "batches = torch.Tensor([np.argwhere(unique_batches == x)[0][0] for x in data['batches']['all']]).detach().cpu()\n",
    "enc_data = data.copy()\n",
    "enc_data['inputs']['all'], _, _, _ = best_ae2.cpu()(torch.Tensor(data['inputs']['all'].values), batches, sampling=True)\n",
    "enc_data['inputs']['all_pool'], _, _, _ = best_ae2.cpu()(torch.Tensor(data['inputs']['all_pool'].values), batches, sampling=False)\n",
    "enc_data['inputs']['train'], _, _, _ = best_ae2.cpu()(torch.Tensor(data['inputs']['train'].values), batches, sampling=True)\n",
    "enc_data['inputs']['train_pool'], _, _, _ = best_ae2.cpu()(torch.Tensor(data['inputs']['train_pool'].values), batches, sampling=False)\n",
    "enc_data['inputs']['valid'], _, _, _ = best_ae2.cpu()(torch.Tensor(data['inputs']['valid'].values), batches, sampling=True)\n",
    "enc_data['inputs']['valid_pool'], _, _, _ = best_ae2.cpu()(torch.Tensor(data['inputs']['valid_pool'].values), batches, sampling=False)\n",
    "enc_data['inputs']['test'], _, _, _ = best_ae2.cpu()(torch.Tensor(data['inputs']['test'].values), batches, sampling=True)\n",
    "enc_data['inputs']['test_pool'], _, _, _ = best_ae2.cpu()(torch.Tensor(data['inputs']['test_pool'].values), batches, sampling=False)\n",
    "\n",
    "for group in enc_data['inputs']:\n",
    "    enc_data['inputs'][group] = pd.DataFrame(enc_data['inputs'][group].detach().cpu().numpy())\n"
   ]
  },
  {
   "cell_type": "code",
   "execution_count": null,
   "id": "d3704776-bf63-4631-aa9b-a177259fa0c8",
   "metadata": {},
   "outputs": [],
   "source": [
    "from scipy import stats\n",
    "from statsmodels.stats.multitest import multipletests\n",
    "print(\"Mann      pval min    n pvals < 0.05\")\n",
    "table = pd.DataFrame(columns=['pval', 'n'])\n",
    "i = 0\n",
    "for i, label in enumerate(unique_labels[:-1]):\n",
    "    for label2 in unique_labels[i+1:]:\n",
    "        if label != label2 and label != 'pool' and label2 != 'pool':\n",
    "            pvals = stats.mannwhitneyu(\n",
    "                enc_data['inputs']['all'].values[np.argwhere(data['labels']['all'] == label).squeeze()], \n",
    "                enc_data['inputs']['all'].values[np.argwhere(data['labels']['all'] == label2).squeeze()]\n",
    "            )\n",
    "            tmp = multipletests(pvals[1], 0.05, 'fdr_bh')[1]\n",
    "            table.loc[f'{label}_{label2}', 'pval'] = tmp.min()\n",
    "            table.loc[f'{label}_{label2}', 'n'] = len([x for x in tmp if x < 0.05])\n",
    "            i += 1\n",
    "print(tabulate(table))\n",
    "\n",
    "print('ttests')\n",
    "table = pd.DataFrame(columns=['pval'])\n",
    "i = 0\n",
    "for i, label in enumerate(unique_labels[:-1]):\n",
    "    for label2 in unique_labels[i+1:]:\n",
    "        if label != label2 and label != 'pool' and label2 != 'pool':\n",
    "            pvals = stats.ttest_ind(\n",
    "                enc_data['inputs']['all'].values[np.argwhere(data['labels']['all'] == label).squeeze()], \n",
    "                enc_data['inputs']['all'].values[np.argwhere(data['labels']['all'] == label2).squeeze()]\n",
    "            )\n",
    "            tmp = multipletests(pvals[1], 0.05, 'fdr_bh')[1]\n",
    "            table.loc[f'{label}_{label2}', 'pval'] = tmp.min()\n",
    "            table.loc[f'{label}_{label2}', 'n'] = len([x for x in tmp if x < 0.05])\n",
    "            i += 1\n",
    "print(tabulate(table))\n"
   ]
  },
  {
   "cell_type": "code",
   "execution_count": null,
   "id": "0116c4b6-6648-464e-82d8-2e535e0e2398",
   "metadata": {
    "scrolled": true,
    "tags": []
   },
   "outputs": [],
   "source": [
    "if log_stuff:\n",
    "    metrics = log_pool_metrics(enc_data['inputs'], enc_data['batches'], metrics, 'normae-enc')\n",
    "    metrics = log_metrics(enc_data, unique_labels, enc_data['batches'], metrics, 'normae-enc', device='cuda')\n",
    "    # metrics = log_LDA(LDA, enc_data, {'batches': unique_batches, 'labels': unique_labels}, 0, metrics, 'ae-enc')\n"
   ]
  },
  {
   "cell_type": "code",
   "execution_count": null,
   "id": "62e1b6b0-eddd-42f3-aa6c-66f4f43a67b6",
   "metadata": {
    "scrolled": true,
    "tags": []
   },
   "outputs": [],
   "source": [
    "%matplotlib inline\n",
    "log_ORD({'model': PCA(n_components=2), 'name': f'PCA_encs_labels'}, enc_data, \n",
    "        {'batches': unique_batches, 'labels': unique_labels, \n",
    "         # 'age': unique_ages\n",
    "        }, 0)\n",
    "log_ORD({'model': UMAP(n_components=2), 'name': f'UMAP_encs_labels'}, enc_data, \n",
    "        {'batches': unique_batches, 'labels': unique_labels, \n",
    "         # 'age': unique_ages\n",
    "        }, 0)\n"
   ]
  },
  {
   "cell_type": "code",
   "execution_count": null,
   "id": "bc70a328-5d15-4536-b1ce-4f0c6e27d478",
   "metadata": {},
   "outputs": [],
   "source": []
  },
  {
   "cell_type": "code",
   "execution_count": null,
   "id": "be9381fd-3714-41eb-9f8b-9e4a44603341",
   "metadata": {},
   "outputs": [],
   "source": [
    "for group in enc_data['inputs']:\n",
    "    if n_meta == 2:\n",
    "        enc_data['inputs'][group] = pd.DataFrame(np.concatenate((enc_data['inputs'][group].values, enc_data['meta'][group]), 1))\n"
   ]
  },
  {
   "cell_type": "code",
   "execution_count": null,
   "id": "c6c7593f-232a-4706-b88f-2fd29d2d210c",
   "metadata": {},
   "outputs": [],
   "source": [
    "if train_models:\n",
    "    train_rfc(enc_data, 'ae-enc', n_meta)\n",
    "    train_linsvc(enc_data, 'ae-enc', n_meta)\n",
    "    # train_logreg(enc_data, 'ae-enc', n_meta)\n",
    "    "
   ]
  },
  {
   "cell_type": "raw",
   "id": "57839817-23f2-4a0a-ac4b-e1335aea7004",
   "metadata": {},
   "source": [
    "## Reconstruction"
   ]
  },
  {
   "cell_type": "raw",
   "id": "9db0e3f8-10f7-4111-b6c9-8e31d4786397",
   "metadata": {},
   "source": [
    "path = 'data'\n",
    "data, unique_labels = get_data(path, csv_name, bad_batches)\n",
    "unique_batches = np.unique(data['batches']['all'])\n",
    "unique_cats = np.unique(data['cats']['all'])\n",
    "unique_ages = np.array(['50s', '60s', '70s', '80+'])\n",
    "unique_genders = np.unique(data['meta']['all'].iloc[:, 1])\n",
    "n_cats = len(unique_labels)\n",
    "n_batches = len(unique_batches)\n",
    "n_ages = len(unique_ages)\n",
    "n_genders = len(unique_genders)\n",
    "data['age'] = {}\n",
    "data['gender'] = {}\n",
    "meta_age = []\n",
    "for age in data['meta']['all'].iloc[:, 0]:\n",
    "    if age < 50:\n",
    "        meta_age += ['pool']\n",
    "    elif age < 60:\n",
    "        meta_age += ['50s']\n",
    "    elif age < 70:\n",
    "        meta_age += ['60s']\n",
    "    elif age < 80:\n",
    "        meta_age += ['70s']\n",
    "    else:\n",
    "        meta_age += ['80+']\n",
    "data['age']['all'] = np.array(meta_age)\n",
    "data['gender']['all'] = data['meta']['all'].iloc[:, 1]\n",
    "\n",
    "scaler = Pipeline([('standard', RobustScaler()), ('minmax', MinMaxScaler())])\n",
    "# scaler = Pipeline([('standard', StandardScaler()), ('minmax', MinMaxScaler())])\n",
    "# scaler = MinMaxScaler()\n",
    "\n",
    "data['inputs']['all'] = scaler.fit_transform(data['inputs']['all'])\n",
    "data['inputs']['all_pool'] = scaler.transform(data['inputs']['all_pool'])\n",
    "data['inputs']['train'] = scaler.transform(data['inputs']['train'])\n",
    "data['inputs']['train_pool'] = scaler.transform(data['inputs']['train_pool'])\n",
    "data['inputs']['valid'] = scaler.transform(data['inputs']['valid'])\n",
    "data['inputs']['valid_pool'] = scaler.transform(data['inputs']['valid_pool'])\n",
    "data['inputs']['test'] = scaler.transform(data['inputs']['test'])\n",
    "data['inputs']['test_pool'] = scaler.transform(data['inputs']['test_pool'])\n"
   ]
  },
  {
   "cell_type": "raw",
   "id": "dbbfb900-21b6-4cab-bb30-96a42adc1d91",
   "metadata": {},
   "source": [
    "batches = torch.Tensor([np.argwhere(unique_batches == x)[0][0] for x in data['batches']['all']])\n",
    "rec_data = data.copy()\n",
    "_, rec_data['inputs']['all'], _, _ = best_ae2.cpu()(torch.Tensor(data['inputs']['all']), batches, sampling=False)\n",
    "_, rec_data['inputs']['all_pool'], _, _ = best_ae2.cpu()(torch.Tensor(data['inputs']['all_pool']), batches, sampling=False)\n",
    "_, rec_data['inputs']['train'], _, _ = best_ae2.cpu()(torch.Tensor(data['inputs']['train']), batches, sampling=False)\n",
    "_, rec_data['inputs']['train_pool'], _, _ = best_ae2.cpu()(torch.Tensor(data['inputs']['train_pool']), batches, sampling=False)\n",
    "_, rec_data['inputs']['valid'], _, _ = best_ae2.cpu()(torch.Tensor(data['inputs']['valid']), batches, sampling=False)\n",
    "_, rec_data['inputs']['valid_pool'], _, _ = best_ae2.cpu()(torch.Tensor(data['inputs']['valid_pool']), batches, sampling=False)\n",
    "_, rec_data['inputs']['test'], _, _ = best_ae2.cpu()(torch.Tensor(data['inputs']['test']), batches, sampling=False)\n",
    "_, rec_data['inputs']['test_pool'], _, _ = best_ae2.cpu()(torch.Tensor(data['inputs']['test_pool']), batches, sampling=False)\n",
    "\n",
    "for group in enc_data['inputs']:\n",
    "    rec_data['inputs'][group] = rec_data['inputs'][group]['mean'][-1].detach().cpu().numpy()\n",
    "    if n_meta == 2:\n",
    "        rec_data['inputs'][group] = np.concatenate((rec_data['inputs'][group], rec_data['meta'][group]), 1)\n"
   ]
  },
  {
   "cell_type": "raw",
   "id": "0eee0d80-31b2-4bc2-8c9f-be46d38de95f",
   "metadata": {},
   "source": [
    "from scipy import stats\n",
    "from statsmodels.stats.multitest import multipletests\n",
    "print(\"Mann      pval min    n pvals < 0.05\")\n",
    "table = pd.DataFrame(columns=['pval', 'n'])\n",
    "i = 0\n",
    "for i, label in enumerate(unique_labels[:-1]):\n",
    "    for label2 in unique_labels[i+1:]:\n",
    "        if label != label2 and label != 'pool' and label2 != 'pool':\n",
    "            pvals = stats.mannwhitneyu(\n",
    "                rec_data['inputs']['all'][np.argwhere(data['labels']['all'] == label).squeeze()], \n",
    "                rec_data['inputs']['all'][np.argwhere(data['labels']['all'] == label2).squeeze()]\n",
    "            )\n",
    "            tmp = multipletests(pvals[1], 0.05, 'fdr_bh')[1]\n",
    "            table.loc[f'{label}_{label2}', 'pval'] = tmp.min()\n",
    "            table.loc[f'{label}_{label2}', 'n'] = len([x for x in tmp if x < 0.05])\n",
    "            i += 1\n",
    "print(tabulate(table))\n",
    "\n",
    "print('ttests')\n",
    "table = pd.DataFrame(columns=['pval'])\n",
    "i = 0\n",
    "for i, label in enumerate(unique_labels[:-1]):\n",
    "    for label2 in unique_labels[i+1:]:\n",
    "        if label != label2 and label != 'pool' and label2 != 'pool':\n",
    "            pvals = stats.ttest_ind(\n",
    "                rec_data['inputs']['all'][np.argwhere(data['labels']['all'] == label).squeeze()], \n",
    "                rec_data['inputs']['all'][np.argwhere(data['labels']['all'] == label2).squeeze()]\n",
    "            )\n",
    "            tmp = multipletests(pvals[1], 0.05, 'fdr_bh')[1]\n",
    "            table.loc[f'{label}_{label2}', 'pval'] = tmp.min()\n",
    "            table.loc[f'{label}_{label2}', 'n'] = len([x for x in tmp if x < 0.05])\n",
    "            i += 1\n",
    "print(tabulate(table))\n"
   ]
  },
  {
   "cell_type": "raw",
   "id": "d074eb2d-0abd-4f59-9cdc-edb84d1c7ea3",
   "metadata": {
    "tags": []
   },
   "source": [
    "log_ORD({'model': PCA(n_components=2), 'name': f'PCA_recs_labels'}, rec_data, \n",
    "        {'batches': unique_batches, 'labels': unique_labels, 'age': unique_ages}, 0)\n",
    "log_ORD({'model': UMAP(n_components=2), 'name': f'UMAP_recs_labels'}, rec_data, \n",
    "        {'batches': unique_batches, 'labels': unique_labels, 'age': unique_ages}, 0)\n"
   ]
  },
  {
   "cell_type": "raw",
   "id": "95aafca4-b993-42fb-b11b-762529fcbdf5",
   "metadata": {},
   "source": []
  },
  {
   "cell_type": "raw",
   "id": "4aec538b-c1a0-45fb-a307-2477879e1b5e",
   "metadata": {
    "tags": []
   },
   "source": [
    "if log_stuff:\n",
    "    metrics = log_pool_metrics(rec_data['inputs'], rec_data['batches'], metrics, 'ae-rec')\n",
    "    metrics = log_metrics(rec_data, unique_labels, rec_data['batches'], metrics, 'ae-rec', device='cuda')\n",
    "    metrics =log_LDA(LDA, rec_data, {'batches': unique_batches, 'labels': unique_labels}, 0, metrics, 'ae-rec')\n"
   ]
  },
  {
   "cell_type": "raw",
   "id": "e852e940-c1e7-4555-a19a-92564d9775a9",
   "metadata": {},
   "source": []
  },
  {
   "cell_type": "raw",
   "id": "00a1d9f3-7ccd-4ddd-b406-e34bbc2c7230",
   "metadata": {},
   "source": [
    "if train_models:\n",
    "    train_rfc(rec_data, 'ae-rec', n_meta)\n",
    "    train_linsvc(rec_data, 'ae-rec', n_meta)\n",
    "    # train_logreg(rec_data, 'ae-rec', n_meta)\n",
    "    "
   ]
  },
  {
   "cell_type": "markdown",
   "id": "0b271430-a7a3-411f-a549-f29a2dee3172",
   "metadata": {
    "tags": []
   },
   "source": [
    "# AEDANN"
   ]
  },
  {
   "cell_type": "markdown",
   "id": "d1a84a07-bb19-4f9d-89fc-7100cbe8806d",
   "metadata": {},
   "source": [
    "## Encoded"
   ]
  },
  {
   "cell_type": "code",
   "execution_count": null,
   "id": "42669552-e922-4a7d-ab05-0a5854d65c19",
   "metadata": {},
   "outputs": [
    {
     "name": "stdout",
     "output_type": "stream",
     "text": [
      "(577, 896)\n"
     ]
    },
    {
     "ename": "RuntimeError",
     "evalue": "Error(s) in loading state_dict for AutoEncoder2:\n\tsize mismatch for enc.linear1.0.weight: copying a param with shape torch.Size([666, 887]) from checkpoint, the shape in current model is torch.Size([666, 896]).\n\tsize mismatch for dec.linear2.0.weight: copying a param with shape torch.Size([887, 666]) from checkpoint, the shape in current model is torch.Size([896, 666]).\n\tsize mismatch for dec.linear2.0.bias: copying a param with shape torch.Size([887]) from checkpoint, the shape in current model is torch.Size([896]).\n\tsize mismatch for _dec_mean.0.weight: copying a param with shape torch.Size([887, 666]) from checkpoint, the shape in current model is torch.Size([896, 666]).\n\tsize mismatch for _dec_mean.0.bias: copying a param with shape torch.Size([887]) from checkpoint, the shape in current model is torch.Size([896]).\n\tsize mismatch for _dec_disp.0.weight: copying a param with shape torch.Size([887, 666]) from checkpoint, the shape in current model is torch.Size([896, 666]).\n\tsize mismatch for _dec_disp.0.bias: copying a param with shape torch.Size([887]) from checkpoint, the shape in current model is torch.Size([896]).\n\tsize mismatch for _dec_pi.0.weight: copying a param with shape torch.Size([887, 666]) from checkpoint, the shape in current model is torch.Size([896, 666]).\n\tsize mismatch for _dec_pi.0.bias: copying a param with shape torch.Size([887]) from checkpoint, the shape in current model is torch.Size([896]).",
     "output_type": "error",
     "traceback": [
      "\u001b[1;31m---------------------------------------------------------------------------\u001b[0m",
      "\u001b[1;31mRuntimeError\u001b[0m                              Traceback (most recent call last)",
      "\u001b[1;32m~\\AppData\\Local\\Temp\\ipykernel_19708\\2438445212.py\u001b[0m in \u001b[0;36m<module>\u001b[1;34m\u001b[0m\n\u001b[0;32m     69\u001b[0m \u001b[0mbest_ae2\u001b[0m\u001b[1;33m.\u001b[0m\u001b[0mdec\u001b[0m\u001b[1;33m.\u001b[0m\u001b[0mto\u001b[0m\u001b[1;33m(\u001b[0m\u001b[1;34m'cpu'\u001b[0m\u001b[1;33m)\u001b[0m\u001b[1;33m\u001b[0m\u001b[1;33m\u001b[0m\u001b[0m\n\u001b[0;32m     70\u001b[0m \u001b[1;33m\u001b[0m\u001b[0m\n\u001b[1;32m---> 71\u001b[1;33m \u001b[0mbest_ae2\u001b[0m\u001b[1;33m.\u001b[0m\u001b[0mload_state_dict\u001b[0m\u001b[1;33m(\u001b[0m\u001b[0mtorch\u001b[0m\u001b[1;33m.\u001b[0m\u001b[0mload\u001b[0m\u001b[1;33m(\u001b[0m\u001b[1;34mf'{path}'\u001b[0m\u001b[1;33m,\u001b[0m \u001b[0mmap_location\u001b[0m\u001b[1;33m=\u001b[0m\u001b[1;34m'cpu'\u001b[0m\u001b[1;33m)\u001b[0m\u001b[1;33m)\u001b[0m\u001b[1;33m\u001b[0m\u001b[1;33m\u001b[0m\u001b[0m\n\u001b[0m\u001b[0;32m     72\u001b[0m \u001b[0mbest_ae2\u001b[0m\u001b[1;33m.\u001b[0m\u001b[0meval\u001b[0m\u001b[1;33m(\u001b[0m\u001b[1;33m)\u001b[0m\u001b[1;33m\u001b[0m\u001b[1;33m\u001b[0m\u001b[0m\n\u001b[0;32m     73\u001b[0m \u001b[1;32mpass\u001b[0m\u001b[1;33m\u001b[0m\u001b[1;33m\u001b[0m\u001b[0m\n",
      "\u001b[1;32m~\\anaconda3\\lib\\site-packages\\torch\\nn\\modules\\module.py\u001b[0m in \u001b[0;36mload_state_dict\u001b[1;34m(self, state_dict, strict)\u001b[0m\n\u001b[0;32m   1665\u001b[0m \u001b[1;33m\u001b[0m\u001b[0m\n\u001b[0;32m   1666\u001b[0m         \u001b[1;32mif\u001b[0m \u001b[0mlen\u001b[0m\u001b[1;33m(\u001b[0m\u001b[0merror_msgs\u001b[0m\u001b[1;33m)\u001b[0m \u001b[1;33m>\u001b[0m \u001b[1;36m0\u001b[0m\u001b[1;33m:\u001b[0m\u001b[1;33m\u001b[0m\u001b[1;33m\u001b[0m\u001b[0m\n\u001b[1;32m-> 1667\u001b[1;33m             raise RuntimeError('Error(s) in loading state_dict for {}:\\n\\t{}'.format(\n\u001b[0m\u001b[0;32m   1668\u001b[0m                                self.__class__.__name__, \"\\n\\t\".join(error_msgs)))\n\u001b[0;32m   1669\u001b[0m         \u001b[1;32mreturn\u001b[0m \u001b[0m_IncompatibleKeys\u001b[0m\u001b[1;33m(\u001b[0m\u001b[0mmissing_keys\u001b[0m\u001b[1;33m,\u001b[0m \u001b[0munexpected_keys\u001b[0m\u001b[1;33m)\u001b[0m\u001b[1;33m\u001b[0m\u001b[1;33m\u001b[0m\u001b[0m\n",
      "\u001b[1;31mRuntimeError\u001b[0m: Error(s) in loading state_dict for AutoEncoder2:\n\tsize mismatch for enc.linear1.0.weight: copying a param with shape torch.Size([666, 887]) from checkpoint, the shape in current model is torch.Size([666, 896]).\n\tsize mismatch for dec.linear2.0.weight: copying a param with shape torch.Size([887, 666]) from checkpoint, the shape in current model is torch.Size([896, 666]).\n\tsize mismatch for dec.linear2.0.bias: copying a param with shape torch.Size([887]) from checkpoint, the shape in current model is torch.Size([896]).\n\tsize mismatch for _dec_mean.0.weight: copying a param with shape torch.Size([887, 666]) from checkpoint, the shape in current model is torch.Size([896, 666]).\n\tsize mismatch for _dec_mean.0.bias: copying a param with shape torch.Size([887]) from checkpoint, the shape in current model is torch.Size([896]).\n\tsize mismatch for _dec_disp.0.weight: copying a param with shape torch.Size([887, 666]) from checkpoint, the shape in current model is torch.Size([896, 666]).\n\tsize mismatch for _dec_disp.0.bias: copying a param with shape torch.Size([887]) from checkpoint, the shape in current model is torch.Size([896]).\n\tsize mismatch for _dec_pi.0.weight: copying a param with shape torch.Size([887, 666]) from checkpoint, the shape in current model is torch.Size([896, 666]).\n\tsize mismatch for _dec_pi.0.bias: copying a param with shape torch.Size([887]) from checkpoint, the shape in current model is torch.Size([896])."
     ]
    }
   ],
   "source": [
    "path = 'data/Alzheimer'\n",
    "args.remove_zeros=0\n",
    "data, unique_labels, unique_batches = get_alzheimer(path, args)\n",
    "print(data['inputs']['train'].shape)\n",
    "# unique_labels = get_unique_labels(data['labels']['all'])\n",
    "unique_batches = np.unique(data['batches']['all'])\n",
    "unique_cats = np.unique(data['cats']['all'])\n",
    "unique_ages = np.array(['50s', '60s', '70s', '80+'])\n",
    "unique_genders = np.unique(data['meta']['all'].iloc[:, 1])\n",
    "n_cats = len(unique_labels)\n",
    "n_batches = len(unique_batches)\n",
    "n_ages = len(unique_ages)\n",
    "n_genders = len(unique_genders)\n",
    "\n",
    "data['age'] = {}\n",
    "data['gender'] = {}\n",
    "meta_age = []\n",
    "for age in data['meta']['all'].iloc[:, 0]:\n",
    "    if age < 50:\n",
    "        meta_age += ['pool']\n",
    "    elif age < 60:\n",
    "        meta_age += ['50s']\n",
    "    elif age < 70:\n",
    "        meta_age += ['60s']\n",
    "    elif age < 80:\n",
    "        meta_age += ['70s']\n",
    "    else:\n",
    "        meta_age += ['80+']\n",
    "data['age']['all'] = np.array(meta_age)\n",
    "data['gender']['all'] = data['meta']['all'].iloc[:, 1]\n",
    "\n",
    "data, _ = scale_data('robust', data, device='cpu')\n",
    "\n",
    "if not best_correction:\n",
    "    # Best score run Brain-1446\n",
    "    path='logs/best_models_server/ae_then_classifier_holdout/DANN_vae0/model_1.pth'\n",
    "else:\n",
    "    # Run Brain-\n",
    "    path='logs/ae_classifier_holdout/.../model_3.pth'\n",
    "    \n",
    "# best score is autoencoder0, best correction autoencoder3\n",
    "if not best_correction:\n",
    "    best_ae2 = AutoEncoder(data['inputs']['all'].shape[1],\n",
    "                     n_batches=22,\n",
    "                     nb_classes=2,\n",
    "                     layer1=666,\n",
    "                     mapper=0,\n",
    "                     layer2=748,\n",
    "                     dropout=0,\n",
    "                           n_meta=0,\n",
    "                           n_emb=2,\n",
    "                           n_layers=2,\n",
    "                     variational=0, conditional=False, zinb=0,\n",
    "                     add_noise=0, tied_weights=0, \n",
    "                     use_gnn=0, device='cpu').to('cpu')\n",
    "else:\n",
    "    best_ae2 = AutoEncoder(data['inputs']['all'].shape[1],\n",
    "                 n_batches=21,\n",
    "                 nb_classes=2,\n",
    "                 layer1=595,\n",
    "                 mapper=0,\n",
    "                 layer2=266,\n",
    "                 dropout=0,\n",
    "                 variational=0, conditional=False, zinb=0,\n",
    "                 add_noise=0, tied_weights=0, n_meta=2,\n",
    "                 use_gnn=0, device='cpu').to('cpu')\n",
    "\n",
    "best_ae2.mapper.to('cpu')\n",
    "best_ae2.dec.to('cpu')\n",
    "\n",
    "best_ae2.load_state_dict(torch.load(f'{path}', map_location='cpu'))\n",
    "best_ae2.eval()\n",
    "pass"
   ]
  },
  {
   "cell_type": "code",
   "execution_count": null,
   "id": "7806e84c-2a37-40dd-bf05-fe172fb8020e",
   "metadata": {},
   "outputs": [],
   "source": [
    "batches = torch.Tensor([np.argwhere(unique_batches == x)[0][0] for x in data['batches']['all']]).detach().cpu()\n",
    "enc_data = data.copy()\n",
    "enc_data['inputs']['all'], _, _, _ = best_ae2.cpu()(torch.Tensor(data['inputs']['all'].values), batches, sampling=True, mapping=False)\n",
    "enc_data['inputs']['all_pool'], _, _, _ = best_ae2.cpu()(torch.Tensor(data['inputs']['all_pool'].values), batches, sampling=True, mapping=False)\n",
    "enc_data['inputs']['train'], _, _, _ = best_ae2.cpu()(torch.Tensor(data['inputs']['train'].values), batches, sampling=True, mapping=False)\n",
    "enc_data['inputs']['train_pool'], _, _, _ = best_ae2.cpu()(torch.Tensor(data['inputs']['train_pool'].values), batches, sampling=True, mapping=False)\n",
    "enc_data['inputs']['valid'], _, _, _ = best_ae2.cpu()(torch.Tensor(data['inputs']['valid'].values), batches, sampling=True, mapping=False)\n",
    "enc_data['inputs']['valid_pool'], _, _, _ = best_ae2.cpu()(torch.Tensor(data['inputs']['valid_pool'].values), batches, sampling=True, mapping=False)\n",
    "enc_data['inputs']['test'], _, _, _ = best_ae2.cpu()(torch.Tensor(data['inputs']['test'].values), batches, sampling=True, mapping=False)\n",
    "enc_data['inputs']['test_pool'], _, _, _ = best_ae2.cpu()(torch.Tensor(data['inputs']['test_pool'].values), batches, sampling=True, mapping=False)\n",
    "\n",
    "for group in enc_data['inputs']:\n",
    "    enc_data['inputs'][group] = pd.DataFrame(enc_data['inputs'][group].detach().cpu().numpy())\n"
   ]
  },
  {
   "cell_type": "code",
   "execution_count": null,
   "id": "a7fabbc0-10bf-4156-aab4-027c6ce393f3",
   "metadata": {},
   "outputs": [],
   "source": [
    "enc_data['inputs']['train']"
   ]
  },
  {
   "cell_type": "code",
   "execution_count": null,
   "id": "72d672d3-aea5-4ad4-9946-6b194f024e22",
   "metadata": {},
   "outputs": [],
   "source": [
    "from scipy import stats\n",
    "from statsmodels.stats.multitest import multipletests\n",
    "print(\"Mann      pval min    n pvals < 0.05\")\n",
    "table = pd.DataFrame(columns=['pval', 'n'])\n",
    "i = 0\n",
    "for i, label in enumerate(unique_labels[:-1]):\n",
    "    for label2 in unique_labels[i+1:]:\n",
    "        if label != label2 and label != 'pool' and label2 != 'pool':\n",
    "            pvals = stats.mannwhitneyu(\n",
    "                enc_data['inputs']['all'].values[np.argwhere(data['labels']['all'] == label).squeeze()], \n",
    "                enc_data['inputs']['all'].values[np.argwhere(data['labels']['all'] == label2).squeeze()]\n",
    "            )\n",
    "            tmp = multipletests(pvals[1], 0.05, 'fdr_bh')[1]\n",
    "            table.loc[f'{label}_{label2}', 'pval'] = tmp.min()\n",
    "            table.loc[f'{label}_{label2}', 'n'] = len([x for x in tmp if x < 0.05])\n",
    "            i += 1\n",
    "print(tabulate(table))\n",
    "\n",
    "print('ttests')\n",
    "table = pd.DataFrame(columns=['pval'])\n",
    "i = 0\n",
    "for i, label in enumerate(unique_labels[:-1]):\n",
    "    for label2 in unique_labels[i+1:]:\n",
    "        if label != label2 and label != 'pool' and label2 != 'pool':\n",
    "            pvals = stats.ttest_ind(\n",
    "                enc_data['inputs']['all'].values[np.argwhere(data['labels']['all'] == label).squeeze()], \n",
    "                enc_data['inputs']['all'].values[np.argwhere(data['labels']['all'] == label2).squeeze()]\n",
    "            )\n",
    "            tmp = multipletests(pvals[1], 0.05, 'fdr_bh')[1]\n",
    "            table.loc[f'{label}_{label2}', 'pval'] = tmp.min()\n",
    "            table.loc[f'{label}_{label2}', 'n'] = len([x for x in tmp if x < 0.05])\n",
    "            i += 1\n",
    "print(tabulate(table))\n"
   ]
  },
  {
   "cell_type": "code",
   "execution_count": null,
   "id": "45957d90-61e7-41bd-9f81-4c604038db9e",
   "metadata": {},
   "outputs": [],
   "source": [
    "if log_stuff:\n",
    "    metrics = log_pool_metrics(enc_data['inputs'], enc_data['batches'], metrics, 'aedann-enc')\n",
    "    metrics = log_metrics(enc_data, unique_labels, enc_data['batches'], metrics, 'aedann-enc', device='cuda')\n",
    "    # metrics = log_LDA(LDA, enc_data, {'batches': unique_batches, 'labels': unique_labels}, 0, metrics, 'aedann-enc')\n",
    "    "
   ]
  },
  {
   "cell_type": "code",
   "execution_count": null,
   "id": "36ed11b8-337d-41e6-a500-8906e7187c5c",
   "metadata": {
    "scrolled": true,
    "tags": []
   },
   "outputs": [],
   "source": [
    "%matplotlib inline\n",
    "log_ORD({'model': PCA(n_components=2), 'name': f'PCA_encs_labels'}, enc_data, \n",
    "        {'batches': unique_batches, 'labels': unique_labels, \n",
    "         # 'age': unique_ages\n",
    "        }, 0)\n",
    "log_ORD({'model': UMAP(n_components=2), 'name': f'UMAP_encs_labels'}, enc_data, \n",
    "        {'batches': unique_batches, 'labels': unique_labels, \n",
    "         # 'age': unique_ages\n",
    "        }, 0)\n"
   ]
  },
  {
   "cell_type": "code",
   "execution_count": null,
   "id": "a7004e72-2a56-4c40-b948-4b690721e26c",
   "metadata": {},
   "outputs": [],
   "source": [
    "for group in enc_data['inputs']:\n",
    "    if n_meta == 2:\n",
    "        enc_data['inputs'][group] = pd.DataFrame(np.concatenate((enc_data['inputs'][group].values, enc_data['meta'][group]), 1))\n"
   ]
  },
  {
   "cell_type": "code",
   "execution_count": null,
   "id": "06dcddab-2564-451e-9b3d-e084573e6110",
   "metadata": {},
   "outputs": [],
   "source": [
    "if train_models:\n",
    "    train_rfc(enc_data, 'aedann-enc', n_meta)\n",
    "    train_linsvc(enc_data, 'aedann-enc', n_meta)\n",
    "    # train_logreg(enc_data, 'aedann-enc', n_meta)\n",
    "    "
   ]
  },
  {
   "cell_type": "raw",
   "id": "8fb40959-81da-49a8-9cf5-eb3b41552247",
   "metadata": {},
   "source": [
    "## Reconstruction"
   ]
  },
  {
   "cell_type": "raw",
   "id": "aa28b037-bd6d-4e18-a5e1-db0121efe0a3",
   "metadata": {},
   "source": [
    "path = 'data'\n",
    "data, unique_labels = get_alzheimer(path, 'unique_genes.csv', 'CU_DEM-AD')\n",
    "unique_batches = np.unique(data['batches']['all'])\n",
    "unique_cats = np.unique(data['cats']['all'])\n",
    "unique_ages = np.array(['50s', '60s', '70s', '80+'])\n",
    "unique_genders = np.unique(data['meta']['all'].iloc[:, 1])\n",
    "n_cats = len(unique_labels)\n",
    "n_batches = len(unique_batches)\n",
    "n_ages = len(unique_ages)\n",
    "n_genders = len(unique_genders)\n",
    "data['age'] = {}\n",
    "data['gender'] = {}\n",
    "meta_age = []\n",
    "for age in data['meta']['all'].iloc[:, 0]:\n",
    "    if age < 50:\n",
    "        meta_age += ['pool']\n",
    "    elif age < 60:\n",
    "        meta_age += ['50s']\n",
    "    elif age < 70:\n",
    "        meta_age += ['60s']\n",
    "    elif age < 80:\n",
    "        meta_age += ['70s']\n",
    "    else:\n",
    "        meta_age += ['80+']\n",
    "data['age']['all'] = np.array(meta_age)\n",
    "data['gender']['all'] = data['meta']['all'].iloc[:, 1]\n",
    "\n",
    "data, _ = scale_data('minmax', data, device='cpu')"
   ]
  },
  {
   "cell_type": "raw",
   "id": "6caa6f4f-be66-4111-9673-f6515287124f",
   "metadata": {},
   "source": [
    "batches = torch.Tensor([np.argwhere(unique_batches == x)[0][0] for x in data['batches']['all']])\n",
    "rec_data = data.copy()\n",
    "_, rec_data['inputs']['all'], _, _ = best_ae2.cpu()(torch.Tensor(data['inputs']['all'].values), batches, sampling=False)\n",
    "_, rec_data['inputs']['all_pool'], _, _ = best_ae2.cpu()(torch.Tensor(data['inputs']['all_pool'].values), batches, sampling=False)\n",
    "_, rec_data['inputs']['train'], _, _ = best_ae2.cpu()(torch.Tensor(data['inputs']['train'].values), batches, sampling=False)\n",
    "_, rec_data['inputs']['train_pool'], _, _ = best_ae2.cpu()(torch.Tensor(data['inputs']['train_pool'].values), batches, sampling=False)\n",
    "_, rec_data['inputs']['valid'], _, _ = best_ae2.cpu()(torch.Tensor(data['inputs']['valid'].values), batches, sampling=False)\n",
    "_, rec_data['inputs']['valid_pool'], _, _ = best_ae2.cpu()(torch.Tensor(data['inputs']['valid_pool'].values), batches, sampling=False)\n",
    "_, rec_data['inputs']['test'], _, _ = best_ae2.cpu()(torch.Tensor(data['inputs']['test'].values), batches, sampling=False)\n",
    "_, rec_data['inputs']['test_pool'], _, _ = best_ae2.cpu()(torch.Tensor(data['inputs']['test_pool'].values), batches, sampling=False)\n",
    "\n",
    "for group in rec_data['inputs']:\n",
    "    rec_data['inputs'][group] = rec_data['inputs'][group]['mean'][-1].detach().cpu().numpy()\n",
    "    if n_meta == 2:\n",
    "        rec_data['inputs'][group] = np.concatenate((rec_data['inputs'][group], rec_data['meta'][group]), 1)\n",
    "for group in rec_data['inputs']:\n",
    "    rec_data['inputs'][group] = pd.DataFrame(rec_data['inputs'][group])\n"
   ]
  },
  {
   "cell_type": "raw",
   "id": "dcf85148-0370-4e61-8803-0e40899ffaea",
   "metadata": {},
   "source": [
    "from scipy import stats\n",
    "from statsmodels.stats.multitest import multipletests\n",
    "print(\"Mann      pval min    n pvals < 0.05\")\n",
    "table = pd.DataFrame(columns=['pval', 'n'])\n",
    "i = 0\n",
    "for i, label in enumerate(unique_labels[:-1]):\n",
    "    for label2 in unique_labels[i+1:]:\n",
    "        if label != label2 and label != 'pool' and label2 != 'pool':\n",
    "            pvals = stats.mannwhitneyu(\n",
    "                rec_data['inputs']['all'].iloc[np.argwhere(data['labels']['all'] == label).squeeze()], \n",
    "                rec_data['inputs']['all'].iloc[np.argwhere(data['labels']['all'] == label2).squeeze()]\n",
    "            )\n",
    "            tmp = multipletests(pvals[1], 0.05, 'fdr_bh')[1]\n",
    "            table.loc[f'{label}_{label2}', 'pval'] = tmp.min()\n",
    "            table.loc[f'{label}_{label2}', 'n'] = len([x for x in tmp if x < 0.05])\n",
    "            i += 1\n",
    "print(tabulate(table))\n",
    "\n",
    "print('ttests')\n",
    "table = pd.DataFrame(columns=['pval'])\n",
    "i = 0\n",
    "for i, label in enumerate(unique_labels[:-1]):\n",
    "    for label2 in unique_labels[i+1:]:\n",
    "        if label != label2 and label != 'pool' and label2 != 'pool':\n",
    "            pvals = stats.ttest_ind(\n",
    "                rec_data['inputs']['all'].iloc[np.argwhere(data['labels']['all'] == label).squeeze()], \n",
    "                rec_data['inputs']['all'].iloc[np.argwhere(data['labels']['all'] == label2).squeeze()]\n",
    "            )\n",
    "            tmp = multipletests(pvals[1], 0.05, 'fdr_bh')[1]\n",
    "            table.loc[f'{label}_{label2}', 'pval'] = tmp.min()\n",
    "            table.loc[f'{label}_{label2}', 'n'] = len([x for x in tmp if x < 0.05])\n",
    "            i += 1\n",
    "print(tabulate(table))\n"
   ]
  },
  {
   "cell_type": "raw",
   "id": "50232974-9498-47f9-98c0-d53476f9ce18",
   "metadata": {
    "tags": []
   },
   "source": [
    "log_ORD({'model': PCA(n_components=2), 'name': f'PCA_recs_labels'}, rec_data, \n",
    "        {'batches': unique_batches, 'labels': unique_labels, 'age': unique_ages}, 0)\n",
    "log_ORD({'model': UMAP(n_components=2), 'name': f'UMAP_recs_labels'}, rec_data, \n",
    "        {'batches': unique_batches, 'labels': unique_labels, 'age': unique_ages}, 0)\n"
   ]
  },
  {
   "cell_type": "raw",
   "id": "5a8c1b70-ef37-43e9-9c2c-e43e0ab3a0fa",
   "metadata": {},
   "source": []
  },
  {
   "cell_type": "raw",
   "id": "508749c4-bea1-4306-ab1f-782937fb868e",
   "metadata": {
    "tags": []
   },
   "source": [
    "if log_stuff:\n",
    "    metrics = log_pool_metrics(rec_data['inputs'], rec_data['batches'], metrics, 'aedann-rec')\n",
    "    metrics = log_metrics(rec_data, unique_labels, rec_data['batches'], metrics, 'aedann-rec', device='cuda')\n",
    "    # metrics['aedann-rec']['all']['LDA_score'] = log_LDA(LDA, rec_data, {'batches': unique_batches, 'labels': unique_labels}, 0, metrics, 'aedann-rec')\n"
   ]
  },
  {
   "cell_type": "raw",
   "id": "9e0ef210-8f0b-41e1-aadd-6dabdbb8ede3",
   "metadata": {},
   "source": [
    "if train_models:\n",
    "    train_rfc(rec_data, 'aedann-rec', n_meta)\n",
    "    train_linsvc(rec_data, 'aedann-rec', n_meta)\n",
    "    # train_logreg(rec_data, 'aedann-rec', n_meta)\n",
    "    "
   ]
  },
  {
   "cell_type": "markdown",
   "id": "89b83117-c4a9-4dc3-86bf-5702821386d8",
   "metadata": {
    "tags": []
   },
   "source": [
    "# AE-invTriplet"
   ]
  },
  {
   "cell_type": "markdown",
   "id": "19f6b19b-858b-4ab8-9122-fc4f147066ec",
   "metadata": {},
   "source": [
    "## Encoded"
   ]
  },
  {
   "cell_type": "code",
   "execution_count": null,
   "id": "1583d621-0f04-444e-9a74-eba2018983e6",
   "metadata": {},
   "outputs": [],
   "source": [
    "path = 'data'\n",
    "data, unique_labels, unique_batches = get_alzheimer(path, csv_name, bad_batches, remove_zeros=0)\n",
    "# unique_labels = get_unique_labels(data['labels']['all'])\n",
    "unique_batches = np.unique(data['batches']['all'])\n",
    "unique_cats = np.unique(data['cats']['all'])\n",
    "unique_ages = np.array(['50s', '60s', '70s', '80+'])\n",
    "unique_genders = np.unique(data['meta']['all'].iloc[:, 1])\n",
    "n_cats = len(unique_labels)\n",
    "n_batches = len(unique_batches)\n",
    "n_ages = len(unique_ages)\n",
    "n_genders = len(unique_genders)\n",
    "\n",
    "data['age'] = {}\n",
    "data['gender'] = {}\n",
    "meta_age = []\n",
    "for age in data['meta']['all'].iloc[:, 0]:\n",
    "    if age < 50:\n",
    "        meta_age += ['pool']\n",
    "    elif age < 60:\n",
    "        meta_age += ['50s']\n",
    "    elif age < 70:\n",
    "        meta_age += ['60s']\n",
    "    elif age < 80:\n",
    "        meta_age += ['70s']\n",
    "    else:\n",
    "        meta_age += ['80+']\n",
    "data['age']['all'] = np.array(meta_age)\n",
    "data['gender']['all'] = data['meta']['all'].iloc[:, 1]\n",
    "\n",
    "data, _ = scale_data('standard', data, device='cpu')\n",
    "\n",
    "if not best_correction:\n",
    "    # Best score run Brain-1446\n",
    "    path='logs/best_models_server/ae_then_classifier_holdout/unique_genes/inverseTriplet_vae0/model_1.pth'\n",
    "else:\n",
    "    # Run Brain-\n",
    "    path='logs/ae_classifier_holdout/.../model_3.pth'\n",
    "    \n",
    "# best score is autoencoder0, best correction autoencoder3\n",
    "if not best_correction:\n",
    "    best_ae2 = AutoEncoder(data['inputs']['all'].shape[1],\n",
    "                     n_batches=22,\n",
    "                     nb_classes=2,\n",
    "                     layer1=1543,\n",
    "                     mapper=0,\n",
    "                     layer2=514,\n",
    "                     dropout=0,\n",
    "                           n_meta=0,\n",
    "                           n_emb=2,\n",
    "                           n_layers=2,\n",
    "                     variational=0, conditional=False, zinb=0,\n",
    "                     add_noise=0, tied_weights=0, \n",
    "                     use_gnn=0, device='cpu').to('cpu')\n",
    "else:\n",
    "    best_ae2 = AutoEncoder(data['inputs']['all'].shape[1],\n",
    "                 n_batches=21,\n",
    "                 nb_classes=2,\n",
    "                 layer1=595,\n",
    "                 mapper=0,\n",
    "                 layer2=266,\n",
    "                 dropout=0,\n",
    "                 variational=0, conditional=False, zinb=0,\n",
    "                 add_noise=0, tied_weights=0, n_meta=2,\n",
    "                 use_gnn=0, device='cpu').to('cpu')\n",
    "\n",
    "best_ae2.mapper.to('cpu')\n",
    "best_ae2.dec.to('cpu')\n",
    "\n",
    "best_ae2.load_state_dict(torch.load(f'{path}', map_location='cpu'))\n",
    "best_ae2.eval()\n",
    "pass"
   ]
  },
  {
   "cell_type": "code",
   "execution_count": null,
   "id": "811406a5-fe78-4aaf-b271-f5d593517f74",
   "metadata": {},
   "outputs": [],
   "source": [
    "batches = torch.Tensor([np.argwhere(unique_batches == x)[0][0] for x in data['batches']['all']]).detach().cpu()\n",
    "enc_data = data.copy()\n",
    "enc_data['inputs']['all'], _, _, _ = best_ae2.cpu()(torch.Tensor(data['inputs']['all'].values), batches, sampling=True)\n",
    "enc_data['inputs']['all_pool'], _, _, _ = best_ae2.cpu()(torch.Tensor(data['inputs']['all_pool'].values), batches, sampling=True)\n",
    "enc_data['inputs']['train'], _, _, _ = best_ae2.cpu()(torch.Tensor(data['inputs']['train'].values), batches, sampling=True)\n",
    "enc_data['inputs']['train_pool'], _, _, _ = best_ae2.cpu()(torch.Tensor(data['inputs']['train_pool'].values), batches, sampling=True)\n",
    "enc_data['inputs']['valid'], _, _, _ = best_ae2.cpu()(torch.Tensor(data['inputs']['valid'].values), batches, sampling=True)\n",
    "enc_data['inputs']['valid_pool'], _, _, _ = best_ae2.cpu()(torch.Tensor(data['inputs']['valid_pool'].values), batches, sampling=True)\n",
    "enc_data['inputs']['test'], _, _, _ = best_ae2.cpu()(torch.Tensor(data['inputs']['test'].values), batches, sampling=True)\n",
    "enc_data['inputs']['test_pool'], _, _, _ = best_ae2.cpu()(torch.Tensor(data['inputs']['test_pool'].values), batches, sampling=True)\n",
    "\n",
    "for group in enc_data['inputs']:\n",
    "    enc_data['inputs'][group] = pd.DataFrame(enc_data['inputs'][group].detach().cpu().numpy())\n"
   ]
  },
  {
   "cell_type": "code",
   "execution_count": null,
   "id": "0920ce8e-1437-4bb5-a3f7-ca5d77448ebc",
   "metadata": {},
   "outputs": [],
   "source": [
    "from scipy import stats\n",
    "from statsmodels.stats.multitest import multipletests\n",
    "print(\"Mann      pval min    n pvals < 0.05\")\n",
    "table = pd.DataFrame(columns=['pval', 'n'])\n",
    "i = 0\n",
    "for i, label in enumerate(unique_labels[:-1]):\n",
    "    for label2 in unique_labels[i+1:]:\n",
    "        if label != label2 and label != 'pool' and label2 != 'pool':\n",
    "            pvals = stats.mannwhitneyu(\n",
    "                enc_data['inputs']['all'].values[np.argwhere(data['labels']['all'] == label).squeeze()], \n",
    "                enc_data['inputs']['all'].values[np.argwhere(data['labels']['all'] == label2).squeeze()]\n",
    "            )\n",
    "            tmp = multipletests(pvals[1], 0.05, 'fdr_bh')[1]\n",
    "            table.loc[f'{label}_{label2}', 'pval'] = tmp.min()\n",
    "            table.loc[f'{label}_{label2}', 'n'] = len([x for x in tmp if x < 0.05])\n",
    "            i += 1\n",
    "print(tabulate(table))\n",
    "\n",
    "print('ttests')\n",
    "table = pd.DataFrame(columns=['pval'])\n",
    "i = 0\n",
    "for i, label in enumerate(unique_labels[:-1]):\n",
    "    for label2 in unique_labels[i+1:]:\n",
    "        if label != label2 and label != 'pool' and label2 != 'pool':\n",
    "            pvals = stats.ttest_ind(\n",
    "                enc_data['inputs']['all'].values[np.argwhere(data['labels']['all'] == label).squeeze()], \n",
    "                enc_data['inputs']['all'].values[np.argwhere(data['labels']['all'] == label2).squeeze()]\n",
    "            )\n",
    "            tmp = multipletests(pvals[1], 0.05, 'fdr_bh')[1]\n",
    "            table.loc[f'{label}_{label2}', 'pval'] = tmp.min()\n",
    "            table.loc[f'{label}_{label2}', 'n'] = len([x for x in tmp if x < 0.05])\n",
    "            i += 1\n",
    "print(tabulate(table))\n"
   ]
  },
  {
   "cell_type": "code",
   "execution_count": null,
   "id": "f9b3064f-fc09-4d50-b49c-bb7d3b916741",
   "metadata": {},
   "outputs": [],
   "source": [
    "if log_stuff:\n",
    "    metrics = log_pool_metrics(enc_data['inputs'], enc_data['batches'], metrics, 'ae-invTriplet-enc')\n",
    "    metrics = log_metrics(enc_data, unique_labels, enc_data['batches'], metrics, 'ae-invTriplet-enc', device='cuda')\n",
    "    # metrics = log_LDA(LDA, enc_data, {'batches': unique_batches, 'labels': unique_labels}, 0, metrics, 'aedann-enc')\n",
    "    "
   ]
  },
  {
   "cell_type": "code",
   "execution_count": null,
   "id": "0479013d-2990-4fc5-9413-5e90b8294c72",
   "metadata": {
    "scrolled": true,
    "tags": []
   },
   "outputs": [],
   "source": [
    "%matplotlib inline\n",
    "log_ORD({'model': PCA(n_components=2), 'name': f'PCA_encs_labels'}, enc_data, \n",
    "        {'batches': unique_batches, 'labels': unique_labels, \n",
    "         # 'age': unique_ages\n",
    "        }, 0)\n",
    "log_ORD({'model': UMAP(n_components=2), 'name': f'UMAP_encs_labels'}, enc_data, \n",
    "        {'batches': unique_batches, 'labels': unique_labels, \n",
    "         # 'age': unique_ages\n",
    "        }, 0)\n"
   ]
  },
  {
   "cell_type": "code",
   "execution_count": null,
   "id": "e2328a60-c277-4046-b72b-b15ce5f2f981",
   "metadata": {},
   "outputs": [],
   "source": []
  },
  {
   "cell_type": "code",
   "execution_count": null,
   "id": "97769c15-bbd1-473b-acf4-fde706b8f9b0",
   "metadata": {},
   "outputs": [],
   "source": [
    "for group in enc_data['inputs']:\n",
    "    if n_meta == 2:\n",
    "        enc_data['inputs'][group] = pd.DataFrame(np.concatenate((enc_data['inputs'][group].values, enc_data['meta'][group]), 1))\n"
   ]
  },
  {
   "cell_type": "code",
   "execution_count": null,
   "id": "afb5c69d-7440-45b3-82a6-a999cfd6d484",
   "metadata": {},
   "outputs": [],
   "source": [
    "if train_models:\n",
    "    train_rfc(enc_data, 'ae-invTriplet-enc', n_meta)\n",
    "    train_linsvc(enc_data, 'ae-invTriplet-enc', n_meta)\n",
    "    # train_logreg(enc_data, 'aedann-enc', n_meta)\n",
    "    "
   ]
  },
  {
   "cell_type": "raw",
   "id": "ce9d6aa7-66fb-4b02-8107-311ab3344c5d",
   "metadata": {},
   "source": [
    "## Reconstruction"
   ]
  },
  {
   "cell_type": "raw",
   "id": "6715b446-ebb1-4f93-809b-1736d059a607",
   "metadata": {},
   "source": [
    "path = 'data'\n",
    "data, unique_labels = get_data(path, csv_name, bad_batches)\n",
    "unique_batches = np.unique(data['batches']['all'])\n",
    "unique_cats = np.unique(data['cats']['all'])\n",
    "unique_ages = np.array(['50s', '60s', '70s', '80+'])\n",
    "unique_genders = np.unique(data['meta']['all'].iloc[:, 1])\n",
    "n_cats = len(unique_labels)\n",
    "n_batches = len(unique_batches)\n",
    "n_ages = len(unique_ages)\n",
    "n_genders = len(unique_genders)\n",
    "data['age'] = {}\n",
    "data['gender'] = {}\n",
    "meta_age = []\n",
    "for age in data['meta']['all'].iloc[:, 0]:\n",
    "    if age < 50:\n",
    "        meta_age += ['pool']\n",
    "    elif age < 60:\n",
    "        meta_age += ['50s']\n",
    "    elif age < 70:\n",
    "        meta_age += ['60s']\n",
    "    elif age < 80:\n",
    "        meta_age += ['70s']\n",
    "    else:\n",
    "        meta_age += ['80+']\n",
    "data['age']['all'] = np.array(meta_age)\n",
    "data['gender']['all'] = data['meta']['all'].iloc[:, 1]\n",
    "\n",
    "scaler = Pipeline([('standard', RobustScaler()), ('minmax', MinMaxScaler())])\n",
    "# scaler = Pipeline([('standard', StandardScaler()), ('minmax', MinMaxScaler())])\n",
    "# scaler = MinMaxScaler()\n",
    "\n",
    "data['inputs']['all'] = scaler.fit_transform(data['inputs']['all'])\n",
    "data['inputs']['all_pool'] = scaler.transform(data['inputs']['all_pool'])\n",
    "data['inputs']['train'] = scaler.transform(data['inputs']['train'])\n",
    "data['inputs']['train_pool'] = scaler.transform(data['inputs']['train_pool'])\n",
    "data['inputs']['valid'] = scaler.transform(data['inputs']['valid'])\n",
    "data['inputs']['valid_pool'] = scaler.transform(data['inputs']['valid_pool'])\n",
    "data['inputs']['test'] = scaler.transform(data['inputs']['test'])\n",
    "data['inputs']['test_pool'] = scaler.transform(data['inputs']['test_pool'])\n"
   ]
  },
  {
   "cell_type": "raw",
   "id": "59697991-32a7-4e0f-a080-50daaf2a0c49",
   "metadata": {},
   "source": [
    "batches = torch.Tensor([np.argwhere(unique_batches == x)[0][0] for x in data['batches']['all']])\n",
    "rec_data = data.copy()\n",
    "_, rec_data['inputs']['all'], _, _ = best_ae2.cpu()(torch.Tensor(data['inputs']['all']), batches, sampling=False)\n",
    "_, rec_data['inputs']['all_pool'], _, _ = best_ae2.cpu()(torch.Tensor(data['inputs']['all_pool']), batches, sampling=False)\n",
    "_, rec_data['inputs']['train'], _, _ = best_ae2.cpu()(torch.Tensor(data['inputs']['train']), batches, sampling=False)\n",
    "_, rec_data['inputs']['train_pool'], _, _ = best_ae2.cpu()(torch.Tensor(data['inputs']['train_pool']), batches, sampling=False)\n",
    "_, rec_data['inputs']['valid'], _, _ = best_ae2.cpu()(torch.Tensor(data['inputs']['valid']), batches, sampling=False)\n",
    "_, rec_data['inputs']['valid_pool'], _, _ = best_ae2.cpu()(torch.Tensor(data['inputs']['valid_pool']), batches, sampling=False)\n",
    "_, rec_data['inputs']['test'], _, _ = best_ae2.cpu()(torch.Tensor(data['inputs']['test']), batches, sampling=False)\n",
    "_, rec_data['inputs']['test_pool'], _, _ = best_ae2.cpu()(torch.Tensor(data['inputs']['test_pool']), batches, sampling=False)\n",
    "\n",
    "for group in enc_data['inputs']:\n",
    "    rec_data['inputs'][group] = rec_data['inputs'][group]['mean'][-1].detach().cpu().numpy()\n",
    "    if n_meta == 2:\n",
    "        rec_data['inputs'][group] = np.concatenate((rec_data['inputs'][group], rec_data['meta'][group]), 1)\n"
   ]
  },
  {
   "cell_type": "raw",
   "id": "3c345ee6-f055-4d4a-a823-c581fa24abf3",
   "metadata": {},
   "source": [
    "from scipy import stats\n",
    "from statsmodels.stats.multitest import multipletests\n",
    "print(\"Mann      pval min    n pvals < 0.05\")\n",
    "table = pd.DataFrame(columns=['pval', 'n'])\n",
    "i = 0\n",
    "for i, label in enumerate(unique_labels[:-1]):\n",
    "    for label2 in unique_labels[i+1:]:\n",
    "        if label != label2 and label != 'pool' and label2 != 'pool':\n",
    "            pvals = stats.mannwhitneyu(\n",
    "                rec_data['inputs']['all'][np.argwhere(data['labels']['all'] == label).squeeze()], \n",
    "                rec_data['inputs']['all'][np.argwhere(data['labels']['all'] == label2).squeeze()]\n",
    "            )\n",
    "            tmp = multipletests(pvals[1], 0.05, 'fdr_bh')[1]\n",
    "            table.loc[f'{label}_{label2}', 'pval'] = tmp.min()\n",
    "            table.loc[f'{label}_{label2}', 'n'] = len([x for x in tmp if x < 0.05])\n",
    "            i += 1\n",
    "print(tabulate(table))\n",
    "\n",
    "print('ttests')\n",
    "table = pd.DataFrame(columns=['pval'])\n",
    "i = 0\n",
    "for i, label in enumerate(unique_labels[:-1]):\n",
    "    for label2 in unique_labels[i+1:]:\n",
    "        if label != label2 and label != 'pool' and label2 != 'pool':\n",
    "            pvals = stats.ttest_ind(\n",
    "                rec_data['inputs']['all'][np.argwhere(data['labels']['all'] == label).squeeze()], \n",
    "                rec_data['inputs']['all'][np.argwhere(data['labels']['all'] == label2).squeeze()]\n",
    "            )\n",
    "            tmp = multipletests(pvals[1], 0.05, 'fdr_bh')[1]\n",
    "            table.loc[f'{label}_{label2}', 'pval'] = tmp.min()\n",
    "            table.loc[f'{label}_{label2}', 'n'] = len([x for x in tmp if x < 0.05])\n",
    "            i += 1\n",
    "print(tabulate(table))\n"
   ]
  },
  {
   "cell_type": "raw",
   "id": "76ede5f3-371a-486e-9cc7-1bf98df22f07",
   "metadata": {},
   "source": [
    "sel = VarianceThreshold(threshold=0.01)\n",
    "sel.fit(data['inputs']['all'])\n",
    "features = np.array([int(x.split('x')[1]) for x in sel.get_feature_names_out()])\n",
    "rec_data['inputs']['all'] = rec_data['inputs']['all'][:, features]\n",
    "rec_data['inputs']['all_pool'] = rec_data['inputs']['all_pool'][:, features]\n",
    "rec_data['inputs']['train'] = rec_data['inputs']['train'][:, features]\n",
    "rec_data['inputs']['train_pool'] = rec_data['inputs']['train_pool'][:, features]\n",
    "rec_data['inputs']['valid'] = rec_data['inputs']['valid'][:, features]\n",
    "rec_data['inputs']['valid_pool'] = rec_data['inputs']['valid_pool'][:, features]\n",
    "rec_data['inputs']['test'] = rec_data['inputs']['test'][:, features]\n",
    "rec_data['inputs']['test_pool'] = rec_data['inputs']['test_pool'][:, features]\n",
    "\n",
    "# rec_data['inputs']['all'].shape"
   ]
  },
  {
   "cell_type": "raw",
   "id": "8e048bb4-a6c3-4e64-adf5-6ad9ce7a43a9",
   "metadata": {
    "tags": []
   },
   "source": [
    "log_ORD({'model': PCA(n_components=2), 'name': f'PCA_recs_labels'}, rec_data, \n",
    "        {'batches': unique_batches, 'labels': unique_labels, 'age': unique_ages}, 0)\n",
    "log_ORD({'model': UMAP(n_components=2), 'name': f'UMAP_recs_labels'}, rec_data, \n",
    "        {'batches': unique_batches, 'labels': unique_labels, 'age': unique_ages}, 0)\n"
   ]
  },
  {
   "cell_type": "raw",
   "id": "9b1a93f1-aef7-4aa9-bfd8-bdc8deaa64cf",
   "metadata": {},
   "source": []
  },
  {
   "cell_type": "raw",
   "id": "d229220e-3b1c-4329-a48c-fe0766b67141",
   "metadata": {
    "tags": []
   },
   "source": [
    "if log_stuff:\n",
    "    metrics = log_pool_metrics(rec_data['inputs'], rec_data['batches'], metrics, 'aedann-rec')\n",
    "    metrics = log_metrics(rec_data, unique_labels, rec_data['batches'], metrics, 'aedann-rec', device='cuda')\n",
    "    metrics['aedann-rec']['all']['LDA_score'] = log_LDA(LDA, rec_data, {'batches': unique_batches, 'labels': unique_labels}, 0, metrics, 'aedann-rec')\n"
   ]
  },
  {
   "cell_type": "raw",
   "id": "b361b336-2b67-42f0-a875-1f2c86080ed2",
   "metadata": {},
   "source": [
    "sel = VarianceThreshold(threshold=0.95)\n",
    "sel.fit(enc_data['inputs']['all'])\n",
    "features = np.array([int(x.split('x')[1]) for x in sel.get_feature_names_out()])\n",
    "enc_data['inputs']['all'] = enc_data['inputs']['all'][:, features]\n",
    "enc_data['inputs']['all_pool'] = enc_data['inputs']['all_pool'][:, features]\n",
    "enc_data['inputs']['train'] = enc_data['inputs']['train'][:, features]\n",
    "enc_data['inputs']['train_pool'] = enc_data['inputs']['train_pool'][:, features]\n",
    "enc_data['inputs']['valid'] = enc_data['inputs']['valid'][:, features]\n",
    "enc_data['inputs']['valid_pool'] = enc_data['inputs']['valid_pool'][:, features]\n",
    "enc_data['inputs']['test'] = enc_data['inputs']['test'][:, features]\n",
    "enc_data['inputs']['test_pool'] = enc_data['inputs']['test_pool'][:, features]\n",
    "\n",
    "enc_data['inputs']['all'].shape"
   ]
  },
  {
   "cell_type": "raw",
   "id": "3bd02d9b-4857-4935-814b-e415da4657ae",
   "metadata": {
    "tags": []
   },
   "source": [
    "%matplotlib inline\n",
    "log_ORD({'model': PCA(n_components=2), 'name': f'PCA_encs_labels'}, enc_data, \n",
    "        {'batches': unique_batches, 'labels': unique_labels, 'age': unique_ages}, 0)\n",
    "log_ORD({'model': UMAP(n_components=2), 'name': f'UMAP_encs_labels'}, enc_data, \n",
    "        {'batches': unique_batches, 'labels': unique_labels, 'age': unique_ages}, 0)\n"
   ]
  },
  {
   "cell_type": "raw",
   "id": "2203dda1-a47f-449a-982b-b18a83c3b206",
   "metadata": {
    "tags": []
   },
   "source": [
    "%matplotlib inline\n",
    "log_ORD({'model': PCA(n_components=2), 'name': f'PCA_encs_labels'}, rec_data, \n",
    "        {'batches': unique_batches, 'labels': unique_labels, 'age': unique_ages}, 0)\n",
    "log_ORD({'model': UMAP(n_components=2), 'name': f'UMAP_encs_labels'}, rec_data, \n",
    "        {'batches': unique_batches, 'labels': unique_labels, 'age': unique_ages}, 0)\n"
   ]
  },
  {
   "cell_type": "raw",
   "id": "a25f91a2-572f-4b36-afcc-31bef517c4f9",
   "metadata": {
    "tags": []
   },
   "source": []
  },
  {
   "cell_type": "raw",
   "id": "09eb4d1d-3588-4821-bfa1-4a021571bf62",
   "metadata": {
    "tags": []
   },
   "source": [
    "if log_stuff:\n",
    "    metrics = log_pool_metrics(rec_data['inputs'], rec_data['batches'], metrics, 'aedann-rec')\n",
    "    metrics = log_metrics(rec_data, unique_labels, rec_data['batches'], metrics, 'aedann-rec', device='cuda')\n",
    "    # metrics = log_LDA(LDA, rec_data, {'batches': unique_batches, 'labels': unique_labels}, 0, metrics, 'aedann-rec')\n"
   ]
  },
  {
   "cell_type": "raw",
   "id": "0bde94d6-2882-4c35-9ed8-05a448b70061",
   "metadata": {},
   "source": [
    "if train_models:\n",
    "    train_rfc(rec_data, 'aedann-rec', n_meta)\n",
    "    train_linsvc(rec_data, 'aedann-rec', n_meta)\n",
    "    # train_logreg(rec_data, 'aedann-rec', n_meta)\n",
    "    "
   ]
  },
  {
   "cell_type": "code",
   "execution_count": null,
   "id": "b5c8f298-4bdc-44d4-bd14-fd6dd57ba565",
   "metadata": {
    "tags": []
   },
   "outputs": [],
   "source": []
  },
  {
   "cell_type": "markdown",
   "id": "04693986-a26c-4048-a325-c3dd3dc41ab9",
   "metadata": {
    "tags": []
   },
   "source": [
    "# AE-revTriplet"
   ]
  },
  {
   "cell_type": "code",
   "execution_count": null,
   "id": "df85fcc4-79f6-4eca-bc91-f19d4f260f35",
   "metadata": {},
   "outputs": [],
   "source": []
  },
  {
   "cell_type": "markdown",
   "id": "5cf88620-0d3b-4d6a-97d2-8b639e3bbd0f",
   "metadata": {},
   "source": [
    "## Encoded"
   ]
  },
  {
   "cell_type": "code",
   "execution_count": null,
   "id": "9b5d034e-0c52-4895-90cb-fc14715bc568",
   "metadata": {},
   "outputs": [],
   "source": [
    "path = 'data'\n",
    "data, unique_labels, unique_batches = get_alzheimer(path, csv_name, bad_batches, remove_zeros=0)\n",
    "# unique_labels = get_unique_labels(data['labels']['all'])\n",
    "unique_batches = np.unique(data['batches']['all'])\n",
    "unique_cats = np.unique(data['cats']['all'])\n",
    "unique_ages = np.array(['50s', '60s', '70s', '80+'])\n",
    "unique_genders = np.unique(data['meta']['all'].iloc[:, 1])\n",
    "n_cats = len(unique_labels)\n",
    "n_batches = len(unique_batches)\n",
    "n_ages = len(unique_ages)\n",
    "n_genders = len(unique_genders)\n",
    "\n",
    "data['age'] = {}\n",
    "data['gender'] = {}\n",
    "meta_age = []\n",
    "for age in data['meta']['all'].iloc[:, 0]:\n",
    "    if age < 50:\n",
    "        meta_age += ['pool']\n",
    "    elif age < 60:\n",
    "        meta_age += ['50s']\n",
    "    elif age < 70:\n",
    "        meta_age += ['60s']\n",
    "    elif age < 80:\n",
    "        meta_age += ['70s']\n",
    "    else:\n",
    "        meta_age += ['80+']\n",
    "data['age']['all'] = np.array(meta_age)\n",
    "data['gender']['all'] = data['meta']['all'].iloc[:, 1]\n",
    "\n",
    "data, _ = scale_data('standard', data, device='cpu')\n",
    "\n",
    "if not best_correction:\n",
    "    # Best score run Brain-1446\n",
    "    path='logs/best_models_server/ae_then_classifier_holdout/unique_genes/revTriplet_vae0/model_1.pth'\n",
    "else:\n",
    "    # Run Brain-\n",
    "    path='logs/ae_classifier_holdout/.../model_3.pth'\n",
    "    \n",
    "# best score is autoencoder0, best correction autoencoder3\n",
    "if not best_correction:\n",
    "    best_ae2 = AutoEncoder(data['inputs']['all'].shape[1],\n",
    "                     n_batches=22,\n",
    "                     nb_classes=2,\n",
    "                     layer1=1365,\n",
    "                     mapper=0,\n",
    "                     layer2=493,\n",
    "                     dropout=0,\n",
    "                           n_meta=0,\n",
    "                           n_emb=2,\n",
    "                           n_layers=2,\n",
    "                     variational=0, conditional=False, zinb=0,\n",
    "                     add_noise=0, tied_weights=0, \n",
    "                     use_gnn=0, device='cpu').to('cpu')\n",
    "else:\n",
    "    best_ae2 = AutoEncoder(data['inputs']['all'].shape[1],\n",
    "                 n_batches=21,\n",
    "                 nb_classes=2,\n",
    "                 layer1=595,\n",
    "                 mapper=0,\n",
    "                 layer2=266,\n",
    "                 dropout=0,\n",
    "                 variational=0, conditional=False, zinb=0,\n",
    "                 add_noise=0, tied_weights=0, n_meta=2,\n",
    "                 use_gnn=0, device='cpu').to('cpu')\n",
    "\n",
    "best_ae2.mapper.to('cpu')\n",
    "best_ae2.dec.to('cpu')\n",
    "\n",
    "best_ae2.load_state_dict(torch.load(f'{path}', map_location='cpu'))\n",
    "best_ae2.eval()\n",
    "pass"
   ]
  },
  {
   "cell_type": "code",
   "execution_count": null,
   "id": "35539dc1-3045-41bd-914c-3f02e6a8d92c",
   "metadata": {},
   "outputs": [],
   "source": [
    "batches = torch.Tensor([np.argwhere(unique_batches == x)[0][0] for x in data['batches']['all']]).detach().cpu()\n",
    "enc_data = data.copy()\n",
    "enc_data['inputs']['all'], _, _, _ = best_ae2.cpu()(torch.Tensor(data['inputs']['all'].values), batches, sampling=True)\n",
    "enc_data['inputs']['all_pool'], _, _, _ = best_ae2.cpu()(torch.Tensor(data['inputs']['all_pool'].values), batches, sampling=False)\n",
    "enc_data['inputs']['train'], _, _, _ = best_ae2.cpu()(torch.Tensor(data['inputs']['train'].values), batches, sampling=True)\n",
    "enc_data['inputs']['train_pool'], _, _, _ = best_ae2.cpu()(torch.Tensor(data['inputs']['train_pool'].values), batches, sampling=False)\n",
    "enc_data['inputs']['valid'], _, _, _ = best_ae2.cpu()(torch.Tensor(data['inputs']['valid'].values), batches, sampling=True)\n",
    "enc_data['inputs']['valid_pool'], _, _, _ = best_ae2.cpu()(torch.Tensor(data['inputs']['valid_pool'].values), batches, sampling=False)\n",
    "enc_data['inputs']['test'], _, _, _ = best_ae2.cpu()(torch.Tensor(data['inputs']['test'].values), batches, sampling=True)\n",
    "enc_data['inputs']['test_pool'], _, _, _ = best_ae2.cpu()(torch.Tensor(data['inputs']['test_pool'].values), batches, sampling=False)\n",
    "\n",
    "for group in enc_data['inputs']:\n",
    "    enc_data['inputs'][group] = pd.DataFrame(enc_data['inputs'][group].detach().cpu().numpy())\n"
   ]
  },
  {
   "cell_type": "code",
   "execution_count": null,
   "id": "664a71fd-c76c-46b5-b254-ed07ec9906f8",
   "metadata": {},
   "outputs": [],
   "source": [
    "from scipy import stats\n",
    "from statsmodels.stats.multitest import multipletests\n",
    "print(\"Mann      pval min    n pvals < 0.05\")\n",
    "table = pd.DataFrame(columns=['pval', 'n'])\n",
    "i = 0\n",
    "for i, label in enumerate(unique_labels[:-1]):\n",
    "    for label2 in unique_labels[i+1:]:\n",
    "        if label != label2 and label != 'pool' and label2 != 'pool':\n",
    "            pvals = stats.mannwhitneyu(\n",
    "                enc_data['inputs']['all'].values[np.argwhere(data['labels']['all'] == label).squeeze()], \n",
    "                enc_data['inputs']['all'].values[np.argwhere(data['labels']['all'] == label2).squeeze()]\n",
    "            )\n",
    "            tmp = multipletests(pvals[1], 0.05, 'fdr_bh')[1]\n",
    "            table.loc[f'{label}_{label2}', 'pval'] = tmp.min()\n",
    "            table.loc[f'{label}_{label2}', 'n'] = len([x for x in tmp if x < 0.05])\n",
    "            i += 1\n",
    "print(tabulate(table))\n",
    "\n",
    "print('ttests')\n",
    "table = pd.DataFrame(columns=['pval'])\n",
    "i = 0\n",
    "for i, label in enumerate(unique_labels[:-1]):\n",
    "    for label2 in unique_labels[i+1:]:\n",
    "        if label != label2 and label != 'pool' and label2 != 'pool':\n",
    "            pvals = stats.ttest_ind(\n",
    "                enc_data['inputs']['all'].values[np.argwhere(data['labels']['all'] == label).squeeze()], \n",
    "                enc_data['inputs']['all'].values[np.argwhere(data['labels']['all'] == label2).squeeze()]\n",
    "            )\n",
    "            tmp = multipletests(pvals[1], 0.05, 'fdr_bh')[1]\n",
    "            table.loc[f'{label}_{label2}', 'pval'] = tmp.min()\n",
    "            table.loc[f'{label}_{label2}', 'n'] = len([x for x in tmp if x < 0.05])\n",
    "            i += 1\n",
    "print(tabulate(table))\n"
   ]
  },
  {
   "cell_type": "code",
   "execution_count": null,
   "id": "a4f42dce-1b4f-4a65-aeff-2edb2d37b16f",
   "metadata": {},
   "outputs": [],
   "source": [
    "if log_stuff:\n",
    "    metrics = log_pool_metrics(enc_data['inputs'], enc_data['batches'], metrics, 'ae-revTriplet-enc')\n",
    "    metrics = log_metrics(enc_data, unique_labels, enc_data['batches'], metrics, 'ae-revTriplet-enc', device='cuda')\n",
    "    # metrics = log_LDA(LDA, enc_data, {'batches': unique_batches, 'labels': unique_labels}, 0, metrics, 'aedann-enc')\n",
    "    "
   ]
  },
  {
   "cell_type": "code",
   "execution_count": null,
   "id": "ad433cc4-cc32-4704-87bb-719f330c1871",
   "metadata": {},
   "outputs": [],
   "source": [
    "for group in enc_data['inputs']:\n",
    "    if n_meta == 2:\n",
    "        enc_data['inputs'][group] = pd.DataFrame(np.concatenate((enc_data['inputs'][group], enc_data['meta'][group]), 1))\n"
   ]
  },
  {
   "cell_type": "code",
   "execution_count": null,
   "id": "aba081ba-1a51-455d-b83e-3f1fd9a1212d",
   "metadata": {
    "scrolled": true,
    "tags": []
   },
   "outputs": [],
   "source": [
    "%matplotlib inline\n",
    "log_ORD({'model': PCA(n_components=2), 'name': f'PCA_encs_labels'}, enc_data, \n",
    "        {'batches': unique_batches, 'labels': unique_labels, \n",
    "         # 'age': unique_ages\n",
    "        }, 0)\n",
    "log_ORD({'model': UMAP(n_components=2), 'name': f'UMAP_encs_labels'}, enc_data, \n",
    "        {'batches': unique_batches, 'labels': unique_labels, \n",
    "         # 'age': unique_ages\n",
    "        }, 0)\n"
   ]
  },
  {
   "cell_type": "code",
   "execution_count": null,
   "id": "6b6b7db8-7f41-4a82-8059-d13d3882aa75",
   "metadata": {},
   "outputs": [],
   "source": []
  },
  {
   "cell_type": "code",
   "execution_count": null,
   "id": "1b1b79ed-0dc6-4662-8a27-79986b29c6b8",
   "metadata": {},
   "outputs": [],
   "source": [
    "if train_models:\n",
    "    train_rfc(enc_data, 'ae-revTriplet-enc', n_meta)\n",
    "    train_linsvc(enc_data, 'ae-revTriplet-enc', n_meta)\n",
    "    # train_logreg(enc_data, 'aedann-enc', n_meta)\n",
    "    "
   ]
  },
  {
   "cell_type": "raw",
   "id": "b948320e-2046-49bd-9c5a-d6aeeaca6439",
   "metadata": {},
   "source": [
    "## Reconstruction"
   ]
  },
  {
   "cell_type": "raw",
   "id": "c95969c2-90f4-42f7-9efe-e30a0170e960",
   "metadata": {},
   "source": [
    "path = 'data'\n",
    "data, unique_labels = get_data(path, csv_name, bad_batches)\n",
    "unique_batches = np.unique(data['batches']['all'])\n",
    "unique_cats = np.unique(data['cats']['all'])\n",
    "unique_ages = np.array(['50s', '60s', '70s', '80+'])\n",
    "unique_genders = np.unique(data['meta']['all'].iloc[:, 1])\n",
    "n_cats = len(unique_labels)\n",
    "n_batches = len(unique_batches)\n",
    "n_ages = len(unique_ages)\n",
    "n_genders = len(unique_genders)\n",
    "data['age'] = {}\n",
    "data['gender'] = {}\n",
    "meta_age = []\n",
    "for age in data['meta']['all'].iloc[:, 0]:\n",
    "    if age < 50:\n",
    "        meta_age += ['pool']\n",
    "    elif age < 60:\n",
    "        meta_age += ['50s']\n",
    "    elif age < 70:\n",
    "        meta_age += ['60s']\n",
    "    elif age < 80:\n",
    "        meta_age += ['70s']\n",
    "    else:\n",
    "        meta_age += ['80+']\n",
    "data['age']['all'] = np.array(meta_age)\n",
    "data['gender']['all'] = data['meta']['all'].iloc[:, 1]\n",
    "\n",
    "scaler = Pipeline([('standard', RobustScaler()), ('minmax', MinMaxScaler())])\n",
    "# scaler = Pipeline([('standard', StandardScaler()), ('minmax', MinMaxScaler())])\n",
    "# scaler = MinMaxScaler()\n",
    "\n",
    "data['inputs']['all'] = scaler.fit_transform(data['inputs']['all'])\n",
    "data['inputs']['all_pool'] = scaler.transform(data['inputs']['all_pool'])\n",
    "data['inputs']['train'] = scaler.transform(data['inputs']['train'])\n",
    "data['inputs']['train_pool'] = scaler.transform(data['inputs']['train_pool'])\n",
    "data['inputs']['valid'] = scaler.transform(data['inputs']['valid'])\n",
    "data['inputs']['valid_pool'] = scaler.transform(data['inputs']['valid_pool'])\n",
    "data['inputs']['test'] = scaler.transform(data['inputs']['test'])\n",
    "data['inputs']['test_pool'] = scaler.transform(data['inputs']['test_pool'])\n"
   ]
  },
  {
   "cell_type": "raw",
   "id": "19857527-cadc-4b7c-82c7-3e85dba2fcd4",
   "metadata": {},
   "source": [
    "batches = torch.Tensor([np.argwhere(unique_batches == x)[0][0] for x in data['batches']['all']])\n",
    "rec_data = data.copy()\n",
    "_, rec_data['inputs']['all'], _, _ = best_ae2.cpu()(torch.Tensor(data['inputs']['all']), batches, sampling=False)\n",
    "_, rec_data['inputs']['all_pool'], _, _ = best_ae2.cpu()(torch.Tensor(data['inputs']['all_pool']), batches, sampling=False)\n",
    "_, rec_data['inputs']['train'], _, _ = best_ae2.cpu()(torch.Tensor(data['inputs']['train']), batches, sampling=False)\n",
    "_, rec_data['inputs']['train_pool'], _, _ = best_ae2.cpu()(torch.Tensor(data['inputs']['train_pool']), batches, sampling=False)\n",
    "_, rec_data['inputs']['valid'], _, _ = best_ae2.cpu()(torch.Tensor(data['inputs']['valid']), batches, sampling=False)\n",
    "_, rec_data['inputs']['valid_pool'], _, _ = best_ae2.cpu()(torch.Tensor(data['inputs']['valid_pool']), batches, sampling=False)\n",
    "_, rec_data['inputs']['test'], _, _ = best_ae2.cpu()(torch.Tensor(data['inputs']['test']), batches, sampling=False)\n",
    "_, rec_data['inputs']['test_pool'], _, _ = best_ae2.cpu()(torch.Tensor(data['inputs']['test_pool']), batches, sampling=False)\n",
    "\n",
    "for group in enc_data['inputs']:\n",
    "    rec_data['inputs'][group] = rec_data['inputs'][group]['mean'][-1].detach().cpu().numpy()\n",
    "    if n_meta == 2:\n",
    "        rec_data['inputs'][group] = np.concatenate((rec_data['inputs'][group], rec_data['meta'][group]), 1)\n"
   ]
  },
  {
   "cell_type": "raw",
   "id": "6cdca2e7-2e31-4cd9-80bb-b68d89dd97ff",
   "metadata": {},
   "source": [
    "from scipy import stats\n",
    "from statsmodels.stats.multitest import multipletests\n",
    "print(\"Mann      pval min    n pvals < 0.05\")\n",
    "table = pd.DataFrame(columns=['pval', 'n'])\n",
    "i = 0\n",
    "for i, label in enumerate(unique_labels[:-1]):\n",
    "    for label2 in unique_labels[i+1:]:\n",
    "        if label != label2 and label != 'pool' and label2 != 'pool':\n",
    "            pvals = stats.mannwhitneyu(\n",
    "                rec_data['inputs']['all'][np.argwhere(data['labels']['all'] == label).squeeze()], \n",
    "                rec_data['inputs']['all'][np.argwhere(data['labels']['all'] == label2).squeeze()]\n",
    "            )\n",
    "            tmp = multipletests(pvals[1], 0.05, 'fdr_bh')[1]\n",
    "            table.loc[f'{label}_{label2}', 'pval'] = tmp.min()\n",
    "            table.loc[f'{label}_{label2}', 'n'] = len([x for x in tmp if x < 0.05])\n",
    "            i += 1\n",
    "print(tabulate(table))\n",
    "\n",
    "print('ttests')\n",
    "table = pd.DataFrame(columns=['pval'])\n",
    "i = 0\n",
    "for i, label in enumerate(unique_labels[:-1]):\n",
    "    for label2 in unique_labels[i+1:]:\n",
    "        if label != label2 and label != 'pool' and label2 != 'pool':\n",
    "            pvals = stats.ttest_ind(\n",
    "                rec_data['inputs']['all'][np.argwhere(data['labels']['all'] == label).squeeze()], \n",
    "                rec_data['inputs']['all'][np.argwhere(data['labels']['all'] == label2).squeeze()]\n",
    "            )\n",
    "            tmp = multipletests(pvals[1], 0.05, 'fdr_bh')[1]\n",
    "            table.loc[f'{label}_{label2}', 'pval'] = tmp.min()\n",
    "            table.loc[f'{label}_{label2}', 'n'] = len([x for x in tmp if x < 0.05])\n",
    "            i += 1\n",
    "print(tabulate(table))\n"
   ]
  },
  {
   "cell_type": "raw",
   "id": "caf9973c-ed47-4350-a06e-86ec424d023f",
   "metadata": {},
   "source": [
    "sel = VarianceThreshold(threshold=0.01)\n",
    "sel.fit(data['inputs']['all'])\n",
    "features = np.array([int(x.split('x')[1]) for x in sel.get_feature_names_out()])\n",
    "rec_data['inputs']['all'] = rec_data['inputs']['all'][:, features]\n",
    "rec_data['inputs']['all_pool'] = rec_data['inputs']['all_pool'][:, features]\n",
    "rec_data['inputs']['train'] = rec_data['inputs']['train'][:, features]\n",
    "rec_data['inputs']['train_pool'] = rec_data['inputs']['train_pool'][:, features]\n",
    "rec_data['inputs']['valid'] = rec_data['inputs']['valid'][:, features]\n",
    "rec_data['inputs']['valid_pool'] = rec_data['inputs']['valid_pool'][:, features]\n",
    "rec_data['inputs']['test'] = rec_data['inputs']['test'][:, features]\n",
    "rec_data['inputs']['test_pool'] = rec_data['inputs']['test_pool'][:, features]\n",
    "\n",
    "# rec_data['inputs']['all'].shape"
   ]
  },
  {
   "cell_type": "raw",
   "id": "d0379cb5-bafd-4ed4-bdb2-26b5e773a020",
   "metadata": {
    "tags": []
   },
   "source": [
    "log_ORD({'model': PCA(n_components=2), 'name': f'PCA_recs_labels'}, rec_data, \n",
    "        {'batches': unique_batches, 'labels': unique_labels, 'age': unique_ages}, 0)\n",
    "log_ORD({'model': UMAP(n_components=2), 'name': f'UMAP_recs_labels'}, rec_data, \n",
    "        {'batches': unique_batches, 'labels': unique_labels, 'age': unique_ages}, 0)\n"
   ]
  },
  {
   "cell_type": "raw",
   "id": "ed434cf9-3440-4082-9b32-399de69034a8",
   "metadata": {},
   "source": []
  },
  {
   "cell_type": "raw",
   "id": "3f9ac090-f32c-442e-a0c1-abbdc8c5286e",
   "metadata": {
    "tags": []
   },
   "source": [
    "if log_stuff:\n",
    "    metrics = log_pool_metrics(rec_data['inputs'], rec_data['batches'], metrics, 'aedann-rec')\n",
    "    metrics = log_metrics(rec_data, unique_labels, rec_data['batches'], metrics, 'aedann-rec', device='cuda')\n",
    "    metrics['aedann-rec']['all']['LDA_score'] = log_LDA(LDA, rec_data, {'batches': unique_batches, 'labels': unique_labels}, 0, metrics, 'aedann-rec')\n"
   ]
  },
  {
   "cell_type": "raw",
   "id": "28656414-1171-4af8-9c65-c0ad4246b5b7",
   "metadata": {},
   "source": [
    "sel = VarianceThreshold(threshold=0.95)\n",
    "sel.fit(enc_data['inputs']['all'])\n",
    "features = np.array([int(x.split('x')[1]) for x in sel.get_feature_names_out()])\n",
    "enc_data['inputs']['all'] = enc_data['inputs']['all'][:, features]\n",
    "enc_data['inputs']['all_pool'] = enc_data['inputs']['all_pool'][:, features]\n",
    "enc_data['inputs']['train'] = enc_data['inputs']['train'][:, features]\n",
    "enc_data['inputs']['train_pool'] = enc_data['inputs']['train_pool'][:, features]\n",
    "enc_data['inputs']['valid'] = enc_data['inputs']['valid'][:, features]\n",
    "enc_data['inputs']['valid_pool'] = enc_data['inputs']['valid_pool'][:, features]\n",
    "enc_data['inputs']['test'] = enc_data['inputs']['test'][:, features]\n",
    "enc_data['inputs']['test_pool'] = enc_data['inputs']['test_pool'][:, features]\n",
    "\n",
    "enc_data['inputs']['all'].shape"
   ]
  },
  {
   "cell_type": "raw",
   "id": "4ef52468-3ccc-4292-8c66-8e1734e72de3",
   "metadata": {
    "tags": []
   },
   "source": [
    "%matplotlib inline\n",
    "log_ORD({'model': PCA(n_components=2), 'name': f'PCA_encs_labels'}, enc_data, \n",
    "        {'batches': unique_batches, 'labels': unique_labels, 'age': unique_ages}, 0)\n",
    "log_ORD({'model': UMAP(n_components=2), 'name': f'UMAP_encs_labels'}, enc_data, \n",
    "        {'batches': unique_batches, 'labels': unique_labels, 'age': unique_ages}, 0)\n"
   ]
  },
  {
   "cell_type": "raw",
   "id": "999e191c-1def-4d50-80d8-a9d6cefd24a1",
   "metadata": {
    "tags": []
   },
   "source": [
    "%matplotlib inline\n",
    "log_ORD({'model': PCA(n_components=2), 'name': f'PCA_encs_labels'}, rec_data, \n",
    "        {'batches': unique_batches, 'labels': unique_labels, 'age': unique_ages}, 0)\n",
    "log_ORD({'model': UMAP(n_components=2), 'name': f'UMAP_encs_labels'}, rec_data, \n",
    "        {'batches': unique_batches, 'labels': unique_labels, 'age': unique_ages}, 0)\n"
   ]
  },
  {
   "cell_type": "raw",
   "id": "95575397-a069-4b64-8712-d0494ff3d5b3",
   "metadata": {
    "tags": []
   },
   "source": []
  },
  {
   "cell_type": "raw",
   "id": "e0b0ccd4-a462-4c96-8f50-94300a0cff53",
   "metadata": {
    "tags": []
   },
   "source": [
    "if log_stuff:\n",
    "    metrics = log_pool_metrics(rec_data['inputs'], rec_data['batches'], metrics, 'aedann-rec')\n",
    "    metrics = log_metrics(rec_data, unique_labels, rec_data['batches'], metrics, 'aedann-rec', device='cuda')\n",
    "    # metrics = log_LDA(LDA, rec_data, {'batches': unique_batches, 'labels': unique_labels}, 0, metrics, 'aedann-rec')\n"
   ]
  },
  {
   "cell_type": "raw",
   "id": "b9f4bbc2-2233-464a-995d-70404c96328a",
   "metadata": {},
   "source": [
    "if train_models:\n",
    "    train_rfc(rec_data, 'aedann-rec', n_meta)\n",
    "    train_linsvc(rec_data, 'aedann-rec', n_meta)\n",
    "    # train_logreg(rec_data, 'aedann-rec', n_meta)\n",
    "    "
   ]
  },
  {
   "cell_type": "markdown",
   "id": "9b5c2dc4-8e43-424b-93ce-2c7529000995",
   "metadata": {},
   "source": [
    "# NORMVAE"
   ]
  },
  {
   "cell_type": "markdown",
   "id": "d9eefce3-9600-432b-951b-2a8a4a23f9bd",
   "metadata": {},
   "source": [
    "## Encoded"
   ]
  },
  {
   "cell_type": "code",
   "execution_count": null,
   "id": "527794f5-32c9-43c1-8d9b-0113fa8ce8ba",
   "metadata": {},
   "outputs": [],
   "source": [
    "path = 'data'\n",
    "data, unique_labels, unique_batches = get_alzheimer(path, csv_name, bad_batches, remove_zeros=0)\n",
    "# unique_labels = get_unique_labels(data['labels']['all'])\n",
    "unique_batches = np.unique(data['batches']['all'])\n",
    "unique_cats = np.unique(data['cats']['all'])\n",
    "unique_ages = np.array(['50s', '60s', '70s', '80+'])\n",
    "unique_genders = np.unique(data['meta']['all'].iloc[:, 1])\n",
    "n_cats = len(unique_labels)\n",
    "n_batches = len(unique_batches)\n",
    "n_ages = len(unique_ages)\n",
    "n_genders = len(unique_genders)\n",
    "\n",
    "data['age'] = {}\n",
    "data['gender'] = {}\n",
    "meta_age = []\n",
    "for age in data['meta']['all'].iloc[:, 0]:\n",
    "    if age < 50:\n",
    "        meta_age += ['pool']\n",
    "    elif age < 60:\n",
    "        meta_age += ['50s']\n",
    "    elif age < 70:\n",
    "        meta_age += ['60s']\n",
    "    elif age < 80:\n",
    "        meta_age += ['70s']\n",
    "    else:\n",
    "        meta_age += ['80+']\n",
    "data['age']['all'] = np.array(meta_age)\n",
    "data['gender']['all'] = data['meta']['all'].iloc[:, 1]\n",
    "\n",
    "data, _ = scale_data('standard', data, device='cpu')\n",
    "\n",
    "if not best_correction:\n",
    "    # Best score run Brain-1446\n",
    "    path='logs/best_models_server/ae_then_classifier_holdout/unique_genes/normae_vae1/model_1.pth'\n",
    "else:\n",
    "    # Run Brain-\n",
    "    path='logs/ae_classifier_holdout/.../model_3.pth'\n",
    "    \n",
    "# best score is autoencoder0, best correction autoencoder3\n",
    "if not best_correction:\n",
    "    best_ae2 = AutoEncoder(data['inputs']['all'].shape[1],\n",
    "                     n_batches=22,\n",
    "                     nb_classes=2,\n",
    "                     layer1=1181,\n",
    "                     mapper=0,\n",
    "                     layer2=433,\n",
    "                     dropout=0,\n",
    "                           n_meta=0,\n",
    "                           n_emb=2,\n",
    "                           n_layers=2,\n",
    "                     variational=1, conditional=False, zinb=0,\n",
    "                     add_noise=0, tied_weights=0, \n",
    "                     use_gnn=0, device='cpu').to('cpu')\n",
    "else:\n",
    "    best_ae2 = AutoEncoder(data['inputs']['all'].shape[1],\n",
    "                 n_batches=21,\n",
    "                 nb_classes=2,\n",
    "                 layer1=595,\n",
    "                 mapper=0,\n",
    "                 layer2=266,\n",
    "                 dropout=0,\n",
    "                 variational=0, conditional=False, zinb=0,\n",
    "                 add_noise=0, tied_weights=0, n_meta=2,\n",
    "                 use_gnn=0, device='cpu').to('cpu')\n",
    "\n",
    "best_ae2.load_state_dict(torch.load(f'{path}', map_location='cpu'))\n",
    "best_ae2.mapper.to('cpu')\n",
    "best_ae2.dec.to('cpu')\n",
    "\n",
    "best_ae2.eval()\n",
    "pass"
   ]
  },
  {
   "cell_type": "code",
   "execution_count": null,
   "id": "f5f8b553-3356-4f05-8bdf-fa3b6562e1df",
   "metadata": {},
   "outputs": [],
   "source": [
    "batches = torch.Tensor([np.argwhere(unique_batches == x)[0][0] for x in data['batches']['all']]).detach().cpu()\n",
    "enc_data = data.copy()\n",
    "enc_data['inputs']['all'], _, _, _ = best_ae2.cpu()(torch.Tensor(data['inputs']['all'].values), batches, sampling=False)\n",
    "enc_data['inputs']['all_pool'], _, _, _ = best_ae2.cpu()(torch.Tensor(data['inputs']['all_pool'].values), batches, sampling=False)\n",
    "enc_data['inputs']['train'], _, _, _ = best_ae2.cpu()(torch.Tensor(data['inputs']['train'].values), batches, sampling=False)\n",
    "enc_data['inputs']['train_pool'], _, _, _ = best_ae2.cpu()(torch.Tensor(data['inputs']['train_pool'].values), batches, sampling=False)\n",
    "enc_data['inputs']['valid'], _, _, _ = best_ae2.cpu()(torch.Tensor(data['inputs']['valid'].values), batches, sampling=False)\n",
    "enc_data['inputs']['valid_pool'], _, _, _ = best_ae2.cpu()(torch.Tensor(data['inputs']['valid_pool'].values), batches, sampling=False)\n",
    "enc_data['inputs']['test'], _, _, _ = best_ae2.cpu()(torch.Tensor(data['inputs']['test'].values), batches, sampling=False)\n",
    "enc_data['inputs']['test_pool'], _, _, _ = best_ae2.cpu()(torch.Tensor(data['inputs']['test_pool'].values), batches, sampling=False)\n",
    "\n",
    "for group in enc_data['inputs']:\n",
    "    enc_data['inputs'][group] = pd.DataFrame(enc_data['inputs'][group].detach().cpu().numpy())\n"
   ]
  },
  {
   "cell_type": "code",
   "execution_count": null,
   "id": "284c0f22-e169-49a8-84a6-e639c0824d03",
   "metadata": {},
   "outputs": [],
   "source": [
    "from scipy import stats\n",
    "from statsmodels.stats.multitest import multipletests\n",
    "print(\"Mann      pval min    n pvals < 0.05\")\n",
    "table = pd.DataFrame(columns=['pval', 'n'])\n",
    "i = 0\n",
    "for i, label in enumerate(unique_labels[:-1]):\n",
    "    for label2 in unique_labels[i+1:]:\n",
    "        if label != label2 and label != 'pool' and label2 != 'pool':\n",
    "            pvals = stats.mannwhitneyu(\n",
    "                enc_data['inputs']['all'].values[np.argwhere(data['labels']['all'] == label).squeeze()], \n",
    "                enc_data['inputs']['all'].values[np.argwhere(data['labels']['all'] == label2).squeeze()]\n",
    "            )\n",
    "            tmp = multipletests(pvals[1], 0.05, 'fdr_bh')[1]\n",
    "            table.loc[f'{label}_{label2}', 'pval'] = tmp.min()\n",
    "            table.loc[f'{label}_{label2}', 'n'] = len([x for x in tmp if x < 0.05])\n",
    "            i += 1\n",
    "print(tabulate(table))\n",
    "\n",
    "print('ttests')\n",
    "table = pd.DataFrame(columns=['pval'])\n",
    "i = 0\n",
    "for i, label in enumerate(unique_labels[:-1]):\n",
    "    for label2 in unique_labels[i+1:]:\n",
    "        if label != label2 and label != 'pool' and label2 != 'pool':\n",
    "            pvals = stats.ttest_ind(\n",
    "                enc_data['inputs']['all'].values[np.argwhere(data['labels']['all'] == label).squeeze()], \n",
    "                enc_data['inputs']['all'].values[np.argwhere(data['labels']['all'] == label2).squeeze()]\n",
    "            )\n",
    "            tmp = multipletests(pvals[1], 0.05, 'fdr_bh')[1]\n",
    "            table.loc[f'{label}_{label2}', 'pval'] = tmp.min()\n",
    "            table.loc[f'{label}_{label2}', 'n'] = len([x for x in tmp if x < 0.05])\n",
    "            i += 1\n",
    "print(tabulate(table))\n"
   ]
  },
  {
   "cell_type": "code",
   "execution_count": null,
   "id": "cdbffd3f-0d9d-425b-959e-4923b4a7a5d9",
   "metadata": {
    "scrolled": true,
    "tags": []
   },
   "outputs": [],
   "source": [
    "if log_stuff:\n",
    "    metrics = log_pool_metrics(enc_data['inputs'], enc_data['batches'], metrics, 'normvae-enc')\n",
    "    metrics = log_metrics(enc_data, unique_labels, enc_data['batches'], metrics, 'normvae-enc', device='cuda')\n",
    "    # metrics = log_LDA(LDA, enc_data, {'batches': unique_batches, 'labels': unique_labels}, 0, metrics, 'vae-enc')\n"
   ]
  },
  {
   "cell_type": "code",
   "execution_count": null,
   "id": "de57fefe-d21c-4614-9ff1-4ece9ad6742b",
   "metadata": {
    "scrolled": true,
    "tags": []
   },
   "outputs": [],
   "source": [
    "%matplotlib inline\n",
    "log_ORD({'model': PCA(n_components=2), 'name': f'PCA_encs_labels'}, enc_data, \n",
    "        {'batches': unique_batches, 'labels': unique_labels, \n",
    "         # 'age': unique_ages\n",
    "        }, 0)\n",
    "log_ORD({'model': UMAP(n_components=2), 'name': f'UMAP_encs_labels'}, enc_data, \n",
    "        {'batches': unique_batches, 'labels': unique_labels, \n",
    "         # 'age': unique_ages\n",
    "        }, 0)\n"
   ]
  },
  {
   "cell_type": "code",
   "execution_count": null,
   "id": "c308930e-42a5-4d26-8531-9495b537a1a1",
   "metadata": {},
   "outputs": [],
   "source": [
    "for group in enc_data['inputs']:\n",
    "    if n_meta == 2:\n",
    "        enc_data['inputs'][group] = pd.DataFrame(np.concatenate((enc_data['inputs'][group], enc_data['meta'][group]), 1))\n"
   ]
  },
  {
   "cell_type": "code",
   "execution_count": null,
   "id": "9eae896f-5902-4fa6-9f8b-331511a08e99",
   "metadata": {
    "scrolled": true,
    "tags": []
   },
   "outputs": [],
   "source": []
  },
  {
   "cell_type": "code",
   "execution_count": null,
   "id": "2936aca8-6024-474d-942e-9cf44436997c",
   "metadata": {},
   "outputs": [],
   "source": [
    "if train_models:\n",
    "    train_rfc(enc_data, 'vae-enc', n_meta)\n",
    "    train_linsvc(enc_data, 'vae-enc', n_meta)\n",
    "    # train_logreg(enc_data, 'vae-enc', n_meta)\n",
    "    "
   ]
  },
  {
   "cell_type": "raw",
   "id": "5b454f47-ae24-4fb5-85d3-739d0e00d640",
   "metadata": {},
   "source": [
    "## Reconstruction"
   ]
  },
  {
   "cell_type": "raw",
   "id": "f84805ab-997a-4bff-9cca-553c5d78e1ea",
   "metadata": {},
   "source": [
    "path = 'data'\n",
    "data, unique_labels = get_data(path, csv_name, bad_batches)\n",
    "unique_batches = np.unique(data['batches']['all'])\n",
    "unique_cats = np.unique(data['cats']['all'])\n",
    "unique_ages = np.array(['50s', '60s', '70s', '80+'])\n",
    "unique_genders = np.unique(data['meta']['all'].iloc[:, 1])\n",
    "n_cats = len(unique_labels)\n",
    "n_batches = len(unique_batches)\n",
    "n_ages = len(unique_ages)\n",
    "n_genders = len(unique_genders)\n",
    "data['age'] = {}\n",
    "data['gender'] = {}\n",
    "meta_age = []\n",
    "for age in data['meta']['all'].iloc[:, 0]:\n",
    "    if age < 50:\n",
    "        meta_age += ['pool']\n",
    "    elif age < 60:\n",
    "        meta_age += ['50s']\n",
    "    elif age < 70:\n",
    "        meta_age += ['60s']\n",
    "    elif age < 80:\n",
    "        meta_age += ['70s']\n",
    "    else:\n",
    "        meta_age += ['80+']\n",
    "data['age']['all'] = np.array(meta_age)\n",
    "data['gender']['all'] = data['meta']['all'].iloc[:, 1]\n",
    "\n",
    "scaler = Pipeline([('standard', RobustScaler()), ('minmax', MinMaxScaler())])\n",
    "# scaler = Pipeline([('standard', StandardScaler()), ('minmax', MinMaxScaler())])\n",
    "# scaler = MinMaxScaler()\n",
    "\n",
    "data['inputs']['all'] = scaler.fit_transform(data['inputs']['all'])\n",
    "data['inputs']['all_pool'] = scaler.transform(data['inputs']['all_pool'])\n",
    "data['inputs']['train'] = scaler.transform(data['inputs']['train'])\n",
    "data['inputs']['train_pool'] = scaler.transform(data['inputs']['train_pool'])\n",
    "data['inputs']['valid'] = scaler.transform(data['inputs']['valid'])\n",
    "data['inputs']['valid_pool'] = scaler.transform(data['inputs']['valid_pool'])\n",
    "data['inputs']['test'] = scaler.transform(data['inputs']['test'])\n",
    "data['inputs']['test_pool'] = scaler.transform(data['inputs']['test_pool'])\n"
   ]
  },
  {
   "cell_type": "raw",
   "id": "3f67871b-85f5-45c8-ac84-f78fa5dba3f3",
   "metadata": {},
   "source": [
    "data['inputs'][group].shape"
   ]
  },
  {
   "cell_type": "raw",
   "id": "16fee744-3c0c-473b-b1fa-64a710bbecab",
   "metadata": {},
   "source": [
    "batches = torch.Tensor([np.argwhere(unique_batches == x)[0][0] for x in data['batches']['all']])\n",
    "rec_data = data.copy()\n",
    "_, rec_data['inputs']['all'], _, _ = best_ae2.cpu()(torch.Tensor(data['inputs']['all']), batches, sampling=False)\n",
    "_, rec_data['inputs']['all_pool'], _, _ = best_ae2.cpu()(torch.Tensor(data['inputs']['all_pool']), batches, sampling=False)\n",
    "_, rec_data['inputs']['train'], _, _ = best_ae2.cpu()(torch.Tensor(data['inputs']['train']), batches, sampling=False)\n",
    "_, rec_data['inputs']['train_pool'], _, _ = best_ae2.cpu()(torch.Tensor(data['inputs']['train_pool']), batches, sampling=False)\n",
    "_, rec_data['inputs']['valid'], _, _ = best_ae2.cpu()(torch.Tensor(data['inputs']['valid']), batches, sampling=False)\n",
    "_, rec_data['inputs']['valid_pool'], _, _ = best_ae2.cpu()(torch.Tensor(data['inputs']['valid_pool']), batches, sampling=False)\n",
    "_, rec_data['inputs']['test'], _, _ = best_ae2.cpu()(torch.Tensor(data['inputs']['test']), batches, sampling=False)\n",
    "_, rec_data['inputs']['test_pool'], _, _ = best_ae2.cpu()(torch.Tensor(data['inputs']['test_pool']), batches, sampling=False)\n",
    "\n",
    "for group in enc_data['inputs']:\n",
    "    rec_data['inputs'][group] = rec_data['inputs'][group]['mean'][-1].detach().cpu().numpy()\n",
    "    if n_meta == 2:\n",
    "        rec_data['inputs'][group] = np.concatenate((rec_data['inputs'][group], rec_data['meta'][group]), 1)\n"
   ]
  },
  {
   "cell_type": "raw",
   "id": "11ce81b7-97bc-413f-8a25-772181c09af1",
   "metadata": {},
   "source": [
    "from scipy import stats\n",
    "from statsmodels.stats.multitest import multipletests\n",
    "print(\"Mann      pval min    n pvals < 0.05\")\n",
    "table = pd.DataFrame(columns=['pval', 'n'])\n",
    "i = 0\n",
    "for i, label in enumerate(unique_labels[:-1]):\n",
    "    for label2 in unique_labels[i+1:]:\n",
    "        if label != label2 and label != 'pool' and label2 != 'pool':\n",
    "            pvals = stats.mannwhitneyu(\n",
    "                rec_data['inputs']['all'][np.argwhere(data['labels']['all'] == label).squeeze()], \n",
    "                rec_data['inputs']['all'][np.argwhere(data['labels']['all'] == label2).squeeze()]\n",
    "            )\n",
    "            tmp = multipletests(pvals[1], 0.05, 'fdr_bh')[1]\n",
    "            table.loc[f'{label}_{label2}', 'pval'] = tmp.min()\n",
    "            table.loc[f'{label}_{label2}', 'n'] = len([x for x in tmp if x < 0.05])\n",
    "            i += 1\n",
    "print(tabulate(table))\n",
    "\n",
    "print('ttests')\n",
    "table = pd.DataFrame(columns=['pval'])\n",
    "i = 0\n",
    "for i, label in enumerate(unique_labels[:-1]):\n",
    "    for label2 in unique_labels[i+1:]:\n",
    "        if label != label2 and label != 'pool' and label2 != 'pool':\n",
    "            pvals = stats.ttest_ind(\n",
    "                rec_data['inputs']['all'][np.argwhere(data['labels']['all'] == label).squeeze()], \n",
    "                rec_data['inputs']['all'][np.argwhere(data['labels']['all'] == label2).squeeze()]\n",
    "            )\n",
    "            tmp = multipletests(pvals[1], 0.05, 'fdr_bh')[1]\n",
    "            table.loc[f'{label}_{label2}', 'pval'] = tmp.min()\n",
    "            table.loc[f'{label}_{label2}', 'n'] = len([x for x in tmp if x < 0.05])\n",
    "            i += 1\n",
    "print(tabulate(table))\n"
   ]
  },
  {
   "cell_type": "raw",
   "id": "4c065f51-f98c-4bd6-b9cf-9c437ec72c85",
   "metadata": {
    "tags": []
   },
   "source": [
    "log_ORD({'model': PCA(n_components=2), 'name': f'PCA_recs_labels'}, rec_data, \n",
    "        {'batches': unique_batches, 'labels': unique_labels, 'age': unique_ages}, 0)\n",
    "log_ORD({'model': UMAP(n_components=2), 'name': f'UMAP_recs_labels'}, rec_data, \n",
    "        {'batches': unique_batches, 'labels': unique_labels, 'age': unique_ages}, 0)\n"
   ]
  },
  {
   "cell_type": "raw",
   "id": "ada523da-b7af-4f70-a6c1-ed711e2625f0",
   "metadata": {},
   "source": []
  },
  {
   "cell_type": "raw",
   "id": "8a0deb3a-c936-4aff-8718-b87fad938408",
   "metadata": {
    "tags": []
   },
   "source": [
    "if log_stuff:\n",
    "    metrics = log_pool_metrics(rec_data['inputs'], rec_data['batches'], metrics, 'vae-rec')\n",
    "    metrics = log_metrics(rec_data, unique_labels, rec_data['batches'], metrics, 'vae-rec', device='cuda')\n",
    "    # metrics = log_LDA(LDA, rec_data, {'batches': unique_batches, 'labels': unique_labels}, 0, metrics, 'vae-rec')\n"
   ]
  },
  {
   "cell_type": "raw",
   "id": "568744a6-f2e8-4597-adcf-750034a238f5",
   "metadata": {},
   "source": [
    "if train_models:\n",
    "    train_rfc(enc_data, 'vae-rec', n_meta)\n",
    "    train_linsvc(enc_data, 'vae-rec', n_meta)\n",
    "    # train_logreg(enc_data, 'vae-rec', n_meta)\n",
    "    "
   ]
  },
  {
   "cell_type": "markdown",
   "id": "cbcab8ce-0ef3-4fcc-bfe8-50c0d43f5002",
   "metadata": {},
   "source": [
    "# VAE"
   ]
  },
  {
   "cell_type": "markdown",
   "id": "c3985bdb-e34a-49c9-aad8-1f86c4ee6973",
   "metadata": {},
   "source": [
    "## Encoded"
   ]
  },
  {
   "cell_type": "code",
   "execution_count": null,
   "id": "fbc6f71c-f138-471a-af05-a0402ec0b891",
   "metadata": {},
   "outputs": [],
   "source": [
    "path = 'data'\n",
    "data, unique_labels, unique_batches = get_alzheimer(path, csv_name, bad_batches, remove_zeros=0)\n",
    "# unique_labels = get_unique_labels(data['labels']['all'])\n",
    "unique_batches = np.unique(data['batches']['all'])\n",
    "unique_cats = np.unique(data['cats']['all'])\n",
    "unique_ages = np.array(['50s', '60s', '70s', '80+'])\n",
    "unique_genders = np.unique(data['meta']['all'].iloc[:, 1])\n",
    "n_cats = len(unique_labels)\n",
    "n_batches = len(unique_batches)\n",
    "n_ages = len(unique_ages)\n",
    "n_genders = len(unique_genders)\n",
    "\n",
    "data['age'] = {}\n",
    "data['gender'] = {}\n",
    "meta_age = []\n",
    "for age in data['meta']['all'].iloc[:, 0]:\n",
    "    if age < 50:\n",
    "        meta_age += ['pool']\n",
    "    elif age < 60:\n",
    "        meta_age += ['50s']\n",
    "    elif age < 70:\n",
    "        meta_age += ['60s']\n",
    "    elif age < 80:\n",
    "        meta_age += ['70s']\n",
    "    else:\n",
    "        meta_age += ['80+']\n",
    "data['age']['all'] = np.array(meta_age)\n",
    "data['gender']['all'] = data['meta']['all'].iloc[:, 1]\n",
    "\n",
    "data, _ = scale_data('standard', data, device='cpu')\n",
    "\n",
    "if not best_correction:\n",
    "    # Best score run Brain-1446\n",
    "    path='logs/best_models_server/ae_then_classifier_holdout/unique_genes/no_vae1/model_1.pth'\n",
    "else:\n",
    "    # Run Brain-\n",
    "    path='logs/ae_classifier_holdout/.../model_3.pth'\n",
    "    \n",
    "# best score is autoencoder0, best correction autoencoder3\n",
    "if not best_correction:\n",
    "    best_ae2 = AutoEncoder(data['inputs']['all'].shape[1],\n",
    "                     n_batches=22,\n",
    "                     nb_classes=2,\n",
    "                     layer1=1629,\n",
    "                     mapper=0,\n",
    "                     layer2=136,\n",
    "                     dropout=0,\n",
    "                           n_meta=0,\n",
    "                           n_emb=2,\n",
    "                           n_layers=2,\n",
    "                     variational=1, conditional=False, zinb=0,\n",
    "                     add_noise=0, tied_weights=0, \n",
    "                     use_gnn=0, device='cpu').to('cpu')\n",
    "else:\n",
    "    best_ae2 = AutoEncoder(data['inputs']['all'].shape[1],\n",
    "                 n_batches=21,\n",
    "                 nb_classes=2,\n",
    "                 layer1=595,\n",
    "                 mapper=0,\n",
    "                 layer2=266,\n",
    "                 dropout=0,\n",
    "                 variational=0, conditional=False, zinb=0,\n",
    "                 add_noise=0, tied_weights=0, n_meta=2,\n",
    "                 use_gnn=0, device='cpu').to('cpu')\n",
    "\n",
    "best_ae2.load_state_dict(torch.load(f'{path}', map_location='cpu'))\n",
    "best_ae2.mapper.to('cpu')\n",
    "best_ae2.dec.to('cpu')\n",
    "\n",
    "best_ae2.eval()\n",
    "pass"
   ]
  },
  {
   "cell_type": "code",
   "execution_count": null,
   "id": "e140bd36-b26f-4e97-beec-933e1c2f3f89",
   "metadata": {},
   "outputs": [],
   "source": [
    "batches = torch.Tensor([np.argwhere(unique_batches == x)[0][0] for x in data['batches']['all']]).detach().cpu()\n",
    "enc_data = data.copy()\n",
    "enc_data['inputs']['all'], _, _, _ = best_ae2.cpu()(torch.Tensor(data['inputs']['all'].values), batches, sampling=False)\n",
    "enc_data['inputs']['all_pool'], _, _, _ = best_ae2.cpu()(torch.Tensor(data['inputs']['all_pool'].values), batches, sampling=False)\n",
    "enc_data['inputs']['train'], _, _, _ = best_ae2.cpu()(torch.Tensor(data['inputs']['train'].values), batches, sampling=False)\n",
    "enc_data['inputs']['train_pool'], _, _, _ = best_ae2.cpu()(torch.Tensor(data['inputs']['train_pool'].values), batches, sampling=False)\n",
    "enc_data['inputs']['valid'], _, _, _ = best_ae2.cpu()(torch.Tensor(data['inputs']['valid'].values), batches, sampling=False)\n",
    "enc_data['inputs']['valid_pool'], _, _, _ = best_ae2.cpu()(torch.Tensor(data['inputs']['valid_pool'].values), batches, sampling=False)\n",
    "enc_data['inputs']['test'], _, _, _ = best_ae2.cpu()(torch.Tensor(data['inputs']['test'].values), batches, sampling=False)\n",
    "enc_data['inputs']['test_pool'], _, _, _ = best_ae2.cpu()(torch.Tensor(data['inputs']['test_pool'].values), batches, sampling=False)\n",
    "\n",
    "for group in enc_data['inputs']:\n",
    "    enc_data['inputs'][group] = pd.DataFrame(enc_data['inputs'][group].detach().cpu().numpy())\n"
   ]
  },
  {
   "cell_type": "code",
   "execution_count": null,
   "id": "905e5f55-9299-47dd-be21-ff32c158d8be",
   "metadata": {},
   "outputs": [],
   "source": [
    "from scipy import stats\n",
    "from statsmodels.stats.multitest import multipletests\n",
    "print(\"Mann      pval min    n pvals < 0.05\")\n",
    "table = pd.DataFrame(columns=['pval', 'n'])\n",
    "i = 0\n",
    "for i, label in enumerate(unique_labels[:-1]):\n",
    "    for label2 in unique_labels[i+1:]:\n",
    "        if label != label2 and label != 'pool' and label2 != 'pool':\n",
    "            pvals = stats.mannwhitneyu(\n",
    "                enc_data['inputs']['all'].values[np.argwhere(data['labels']['all'] == label).squeeze()], \n",
    "                enc_data['inputs']['all'].values[np.argwhere(data['labels']['all'] == label2).squeeze()]\n",
    "            )\n",
    "            tmp = multipletests(pvals[1], 0.05, 'fdr_bh')[1]\n",
    "            table.loc[f'{label}_{label2}', 'pval'] = tmp.min()\n",
    "            table.loc[f'{label}_{label2}', 'n'] = len([x for x in tmp if x < 0.05])\n",
    "            i += 1\n",
    "print(tabulate(table))\n",
    "\n",
    "print('ttests')\n",
    "table = pd.DataFrame(columns=['pval'])\n",
    "i = 0\n",
    "for i, label in enumerate(unique_labels[:-1]):\n",
    "    for label2 in unique_labels[i+1:]:\n",
    "        if label != label2 and label != 'pool' and label2 != 'pool':\n",
    "            pvals = stats.ttest_ind(\n",
    "                enc_data['inputs']['all'].values[np.argwhere(data['labels']['all'] == label).squeeze()], \n",
    "                enc_data['inputs']['all'].values[np.argwhere(data['labels']['all'] == label2).squeeze()]\n",
    "            )\n",
    "            tmp = multipletests(pvals[1], 0.05, 'fdr_bh')[1]\n",
    "            table.loc[f'{label}_{label2}', 'pval'] = tmp.min()\n",
    "            table.loc[f'{label}_{label2}', 'n'] = len([x for x in tmp if x < 0.05])\n",
    "            i += 1\n",
    "print(tabulate(table))\n"
   ]
  },
  {
   "cell_type": "code",
   "execution_count": null,
   "id": "7e08d769-2233-4f5a-8053-7b3e0ba01e48",
   "metadata": {
    "scrolled": true,
    "tags": []
   },
   "outputs": [],
   "source": [
    "if log_stuff:\n",
    "    metrics = log_pool_metrics(enc_data['inputs'], enc_data['batches'], metrics, 'vae-enc')\n",
    "    metrics = log_metrics(enc_data, unique_labels, enc_data['batches'], metrics, 'vae-enc', device='cuda')\n",
    "    # metrics = log_LDA(LDA, enc_data, {'batches': unique_batches, 'labels': unique_labels}, 0, metrics, 'vae-enc')\n"
   ]
  },
  {
   "cell_type": "code",
   "execution_count": null,
   "id": "7e7c8ceb-6ad1-4149-a518-02bb17e53046",
   "metadata": {
    "scrolled": true,
    "tags": []
   },
   "outputs": [],
   "source": [
    "%matplotlib inline\n",
    "log_ORD({'model': PCA(n_components=2), 'name': f'PCA_encs_labels'}, enc_data, \n",
    "        {'batches': unique_batches, 'labels': unique_labels, \n",
    "         # 'age': unique_ages\n",
    "        }, 0)\n",
    "log_ORD({'model': UMAP(n_components=2), 'name': f'UMAP_encs_labels'}, enc_data, \n",
    "        {'batches': unique_batches, 'labels': unique_labels, \n",
    "         # 'age': unique_ages\n",
    "        }, 0)\n"
   ]
  },
  {
   "cell_type": "code",
   "execution_count": null,
   "id": "5364e228-fa9b-430f-a771-fe5483c4ef53",
   "metadata": {},
   "outputs": [],
   "source": [
    "for group in enc_data['inputs']:\n",
    "    if n_meta == 2:\n",
    "        enc_data['inputs'][group] = pd.DataFrame(np.concatenate((enc_data['inputs'][group], enc_data['meta'][group]), 1))\n"
   ]
  },
  {
   "cell_type": "code",
   "execution_count": null,
   "id": "000b95e2-bb4d-4e99-90d3-ed257d2daf30",
   "metadata": {
    "scrolled": true,
    "tags": []
   },
   "outputs": [],
   "source": []
  },
  {
   "cell_type": "code",
   "execution_count": null,
   "id": "17f2c023-1844-4f35-8cc5-897669738703",
   "metadata": {},
   "outputs": [],
   "source": [
    "if train_models:\n",
    "    train_rfc(enc_data, 'vae-enc', n_meta)\n",
    "    train_linsvc(enc_data, 'vae-enc', n_meta)\n",
    "    # train_logreg(enc_data, 'vae-enc', n_meta)\n",
    "    "
   ]
  },
  {
   "cell_type": "raw",
   "id": "99a68e3d-58a2-4cd0-aa78-b91f6aa73ea1",
   "metadata": {},
   "source": [
    "## Reconstruction"
   ]
  },
  {
   "cell_type": "raw",
   "id": "9a59c874-06c5-44f6-acc1-e314a185b2ba",
   "metadata": {},
   "source": [
    "path = 'data'\n",
    "data, unique_labels = get_data(path, csv_name, bad_batches)\n",
    "unique_batches = np.unique(data['batches']['all'])\n",
    "unique_cats = np.unique(data['cats']['all'])\n",
    "unique_ages = np.array(['50s', '60s', '70s', '80+'])\n",
    "unique_genders = np.unique(data['meta']['all'].iloc[:, 1])\n",
    "n_cats = len(unique_labels)\n",
    "n_batches = len(unique_batches)\n",
    "n_ages = len(unique_ages)\n",
    "n_genders = len(unique_genders)\n",
    "data['age'] = {}\n",
    "data['gender'] = {}\n",
    "meta_age = []\n",
    "for age in data['meta']['all'].iloc[:, 0]:\n",
    "    if age < 50:\n",
    "        meta_age += ['pool']\n",
    "    elif age < 60:\n",
    "        meta_age += ['50s']\n",
    "    elif age < 70:\n",
    "        meta_age += ['60s']\n",
    "    elif age < 80:\n",
    "        meta_age += ['70s']\n",
    "    else:\n",
    "        meta_age += ['80+']\n",
    "data['age']['all'] = np.array(meta_age)\n",
    "data['gender']['all'] = data['meta']['all'].iloc[:, 1]\n",
    "\n",
    "scaler = Pipeline([('standard', RobustScaler()), ('minmax', MinMaxScaler())])\n",
    "# scaler = Pipeline([('standard', StandardScaler()), ('minmax', MinMaxScaler())])\n",
    "# scaler = MinMaxScaler()\n",
    "\n",
    "data['inputs']['all'] = scaler.fit_transform(data['inputs']['all'])\n",
    "data['inputs']['all_pool'] = scaler.transform(data['inputs']['all_pool'])\n",
    "data['inputs']['train'] = scaler.transform(data['inputs']['train'])\n",
    "data['inputs']['train_pool'] = scaler.transform(data['inputs']['train_pool'])\n",
    "data['inputs']['valid'] = scaler.transform(data['inputs']['valid'])\n",
    "data['inputs']['valid_pool'] = scaler.transform(data['inputs']['valid_pool'])\n",
    "data['inputs']['test'] = scaler.transform(data['inputs']['test'])\n",
    "data['inputs']['test_pool'] = scaler.transform(data['inputs']['test_pool'])\n"
   ]
  },
  {
   "cell_type": "raw",
   "id": "bfd077c0-85c0-49c6-a02a-a0a9ad4fa453",
   "metadata": {},
   "source": [
    "data['inputs'][group].shape"
   ]
  },
  {
   "cell_type": "raw",
   "id": "2953efe5-e37b-4aad-9673-f70b0ff3c8d8",
   "metadata": {},
   "source": [
    "batches = torch.Tensor([np.argwhere(unique_batches == x)[0][0] for x in data['batches']['all']])\n",
    "rec_data = data.copy()\n",
    "_, rec_data['inputs']['all'], _, _ = best_ae2.cpu()(torch.Tensor(data['inputs']['all']), batches, sampling=False)\n",
    "_, rec_data['inputs']['all_pool'], _, _ = best_ae2.cpu()(torch.Tensor(data['inputs']['all_pool']), batches, sampling=False)\n",
    "_, rec_data['inputs']['train'], _, _ = best_ae2.cpu()(torch.Tensor(data['inputs']['train']), batches, sampling=False)\n",
    "_, rec_data['inputs']['train_pool'], _, _ = best_ae2.cpu()(torch.Tensor(data['inputs']['train_pool']), batches, sampling=False)\n",
    "_, rec_data['inputs']['valid'], _, _ = best_ae2.cpu()(torch.Tensor(data['inputs']['valid']), batches, sampling=False)\n",
    "_, rec_data['inputs']['valid_pool'], _, _ = best_ae2.cpu()(torch.Tensor(data['inputs']['valid_pool']), batches, sampling=False)\n",
    "_, rec_data['inputs']['test'], _, _ = best_ae2.cpu()(torch.Tensor(data['inputs']['test']), batches, sampling=False)\n",
    "_, rec_data['inputs']['test_pool'], _, _ = best_ae2.cpu()(torch.Tensor(data['inputs']['test_pool']), batches, sampling=False)\n",
    "\n",
    "for group in enc_data['inputs']:\n",
    "    rec_data['inputs'][group] = rec_data['inputs'][group]['mean'][-1].detach().cpu().numpy()\n",
    "    if n_meta == 2:\n",
    "        rec_data['inputs'][group] = np.concatenate((rec_data['inputs'][group], rec_data['meta'][group]), 1)\n"
   ]
  },
  {
   "cell_type": "raw",
   "id": "e4a489de-d312-4f03-a77c-b1e329fc81ca",
   "metadata": {},
   "source": [
    "from scipy import stats\n",
    "from statsmodels.stats.multitest import multipletests\n",
    "print(\"Mann      pval min    n pvals < 0.05\")\n",
    "table = pd.DataFrame(columns=['pval', 'n'])\n",
    "i = 0\n",
    "for i, label in enumerate(unique_labels[:-1]):\n",
    "    for label2 in unique_labels[i+1:]:\n",
    "        if label != label2 and label != 'pool' and label2 != 'pool':\n",
    "            pvals = stats.mannwhitneyu(\n",
    "                rec_data['inputs']['all'][np.argwhere(data['labels']['all'] == label).squeeze()], \n",
    "                rec_data['inputs']['all'][np.argwhere(data['labels']['all'] == label2).squeeze()]\n",
    "            )\n",
    "            tmp = multipletests(pvals[1], 0.05, 'fdr_bh')[1]\n",
    "            table.loc[f'{label}_{label2}', 'pval'] = tmp.min()\n",
    "            table.loc[f'{label}_{label2}', 'n'] = len([x for x in tmp if x < 0.05])\n",
    "            i += 1\n",
    "print(tabulate(table))\n",
    "\n",
    "print('ttests')\n",
    "table = pd.DataFrame(columns=['pval'])\n",
    "i = 0\n",
    "for i, label in enumerate(unique_labels[:-1]):\n",
    "    for label2 in unique_labels[i+1:]:\n",
    "        if label != label2 and label != 'pool' and label2 != 'pool':\n",
    "            pvals = stats.ttest_ind(\n",
    "                rec_data['inputs']['all'][np.argwhere(data['labels']['all'] == label).squeeze()], \n",
    "                rec_data['inputs']['all'][np.argwhere(data['labels']['all'] == label2).squeeze()]\n",
    "            )\n",
    "            tmp = multipletests(pvals[1], 0.05, 'fdr_bh')[1]\n",
    "            table.loc[f'{label}_{label2}', 'pval'] = tmp.min()\n",
    "            table.loc[f'{label}_{label2}', 'n'] = len([x for x in tmp if x < 0.05])\n",
    "            i += 1\n",
    "print(tabulate(table))\n"
   ]
  },
  {
   "cell_type": "raw",
   "id": "144f83f8-dfee-487b-9d7a-c1892ed9b2dd",
   "metadata": {
    "tags": []
   },
   "source": [
    "log_ORD({'model': PCA(n_components=2), 'name': f'PCA_recs_labels'}, rec_data, \n",
    "        {'batches': unique_batches, 'labels': unique_labels, 'age': unique_ages}, 0)\n",
    "log_ORD({'model': UMAP(n_components=2), 'name': f'UMAP_recs_labels'}, rec_data, \n",
    "        {'batches': unique_batches, 'labels': unique_labels, 'age': unique_ages}, 0)\n"
   ]
  },
  {
   "cell_type": "raw",
   "id": "05720704-511a-42b1-9ae9-17af81af5b9c",
   "metadata": {},
   "source": []
  },
  {
   "cell_type": "raw",
   "id": "3b015179-ca1d-4b41-a0a3-4f0cf531a60b",
   "metadata": {
    "tags": []
   },
   "source": [
    "if log_stuff:\n",
    "    metrics = log_pool_metrics(rec_data['inputs'], rec_data['batches'], metrics, 'vae-rec')\n",
    "    metrics = log_metrics(rec_data, unique_labels, rec_data['batches'], metrics, 'vae-rec', device='cuda')\n",
    "    # metrics = log_LDA(LDA, rec_data, {'batches': unique_batches, 'labels': unique_labels}, 0, metrics, 'vae-rec')\n"
   ]
  },
  {
   "cell_type": "raw",
   "id": "0144cd17-98ab-4422-a96b-ca2706b408ab",
   "metadata": {},
   "source": [
    "if train_models:\n",
    "    train_rfc(enc_data, 'vae-rec', n_meta)\n",
    "    train_linsvc(enc_data, 'vae-rec', n_meta)\n",
    "    # train_logreg(enc_data, 'vae-rec', n_meta)\n",
    "    "
   ]
  },
  {
   "cell_type": "markdown",
   "id": "209c7cbf-3190-4bb4-b388-ce6678d0201f",
   "metadata": {
    "tags": []
   },
   "source": [
    "# VAEDANN"
   ]
  },
  {
   "cell_type": "code",
   "execution_count": null,
   "id": "a035fa0d-6e8e-43d5-97f0-864d03e6c43b",
   "metadata": {
    "tags": []
   },
   "outputs": [],
   "source": []
  },
  {
   "cell_type": "markdown",
   "id": "ac57b724-fa84-479f-a7df-dd2b331cefbf",
   "metadata": {},
   "source": [
    "## Encoded"
   ]
  },
  {
   "cell_type": "code",
   "execution_count": null,
   "id": "a1e889fb-b11a-4771-bb63-24689bbbc18d",
   "metadata": {},
   "outputs": [],
   "source": [
    "path = 'data'\n",
    "data, unique_labels, unique_batches = get_alzheimer('data/Alzheimer', csv_name, bad_batches, remove_zeros=0)\n",
    "# unique_labels = get_unique_labels(data['labels']['all'])\n",
    "unique_batches = np.unique(data['batches']['all'])\n",
    "unique_cats = np.unique(data['cats']['all'])\n",
    "unique_ages = np.array(['50s', '60s', '70s', '80+'])\n",
    "unique_genders = np.unique(data['meta']['all'].iloc[:, 1])\n",
    "n_cats = len(unique_labels)\n",
    "n_batches = len(unique_batches)\n",
    "n_ages = len(unique_ages)\n",
    "n_genders = len(unique_genders)\n",
    "\n",
    "data['age'] = {}\n",
    "data['gender'] = {}\n",
    "meta_age = []\n",
    "for age in data['meta']['all'].iloc[:, 0]:\n",
    "    if age < 50:\n",
    "        meta_age += ['pool']\n",
    "    elif age < 60:\n",
    "        meta_age += ['50s']\n",
    "    elif age < 70:\n",
    "        meta_age += ['60s']\n",
    "    elif age < 80:\n",
    "        meta_age += ['70s']\n",
    "    else:\n",
    "        meta_age += ['80+']\n",
    "data['age']['all'] = np.array(meta_age)\n",
    "data['gender']['all'] = data['meta']['all'].iloc[:, 1]\n",
    "\n",
    "data, _ = scale_data('standard', data, device='cpu')\n",
    "\n",
    "if not best_correction:\n",
    "    # Best score run Brain-1446\n",
    "    path='logs/best_models_server/ae_then_classifier_holdout/unique_genes/DANN_vae1/model_1.pth'\n",
    "else:\n",
    "    # Run Brain-\n",
    "    path='logs/ae_classifier_holdout/.../model_3.pth'\n",
    "    \n",
    "# best score is autoencoder0, best correction autoencoder3\n",
    "if not best_correction:\n",
    "    best_ae2 = AutoEncoder(data['inputs']['all'].shape[1],\n",
    "                     n_batches=22,\n",
    "                     nb_classes=2,\n",
    "                     layer1=941,\n",
    "                     mapper=0,\n",
    "                     layer2=265,\n",
    "                     dropout=0,\n",
    "                           n_meta=0,\n",
    "                           n_emb=2,\n",
    "                           n_layers=2,\n",
    "                     variational=1, conditional=False, zinb=0,\n",
    "                     add_noise=0, tied_weights=0, \n",
    "                     use_gnn=0, device='cpu').to('cpu')\n",
    "else:\n",
    "    best_ae2 = AutoEncoder(data['inputs']['all'].shape[1],\n",
    "                 n_batches=21,\n",
    "                 nb_classes=2,\n",
    "                 layer1=595,\n",
    "                 mapper=0,\n",
    "                 layer2=266,\n",
    "                 dropout=0,\n",
    "                 variational=0, conditional=False, zinb=0,\n",
    "                 add_noise=0, tied_weights=0, n_meta=2,\n",
    "                 use_gnn=0, device='cpu').to('cpu')\n",
    "\n",
    "best_ae2.mapper.to('cpu')\n",
    "best_ae2.dec.to('cpu')\n",
    "\n",
    "best_ae2.load_state_dict(torch.load(f'{path}', map_location='cpu'))\n",
    "best_ae2.eval()\n",
    "pass"
   ]
  },
  {
   "cell_type": "code",
   "execution_count": null,
   "id": "1d236298-60a0-44af-a97c-8443c45e4e98",
   "metadata": {},
   "outputs": [],
   "source": [
    "batches = torch.Tensor([np.argwhere(unique_batches == x)[0][0] for x in data['batches']['all']]).detach().cpu()\n",
    "enc_data = data.copy()\n",
    "enc_data['inputs']['all'], _, _, _ = best_ae2.cpu()(torch.Tensor(data['inputs']['all'].values), batches, sampling=False)\n",
    "enc_data['inputs']['all_pool'], _, _, _ = best_ae2.cpu()(torch.Tensor(data['inputs']['all_pool'].values), batches, sampling=False)\n",
    "enc_data['inputs']['train'], _, _, _ = best_ae2.cpu()(torch.Tensor(data['inputs']['train'].values), batches, sampling=False)\n",
    "enc_data['inputs']['train_pool'], _, _, _ = best_ae2.cpu()(torch.Tensor(data['inputs']['train_pool'].values), batches, sampling=False)\n",
    "enc_data['inputs']['valid'], _, _, _ = best_ae2.cpu()(torch.Tensor(data['inputs']['valid'].values), batches, sampling=False)\n",
    "enc_data['inputs']['valid_pool'], _, _, _ = best_ae2.cpu()(torch.Tensor(data['inputs']['valid_pool'].values), batches, sampling=False)\n",
    "enc_data['inputs']['test'], _, _, _ = best_ae2.cpu()(torch.Tensor(data['inputs']['test'].values), batches, sampling=False)\n",
    "enc_data['inputs']['test_pool'], _, _, _ = best_ae2.cpu()(torch.Tensor(data['inputs']['test_pool'].values), batches, sampling=False)\n",
    "\n",
    "for group in enc_data['inputs']:\n",
    "    enc_data['inputs'][group] = pd.DataFrame(enc_data['inputs'][group].detach().cpu().numpy())\n"
   ]
  },
  {
   "cell_type": "code",
   "execution_count": null,
   "id": "8596daa9-4624-4e3a-9b58-4dae63870cc5",
   "metadata": {},
   "outputs": [],
   "source": [
    "from scipy import stats\n",
    "from statsmodels.stats.multitest import multipletests\n",
    "print(\"Mann      pval min    n pvals < 0.05\")\n",
    "table = pd.DataFrame(columns=['pval', 'n'])\n",
    "i = 0\n",
    "for i, label in enumerate(unique_labels[:-1]):\n",
    "    for label2 in unique_labels[i+1:]:\n",
    "        if label != label2 and label != 'pool' and label2 != 'pool':\n",
    "            pvals = stats.mannwhitneyu(\n",
    "                enc_data['inputs']['all'].values[np.argwhere(data['labels']['all'] == label).squeeze()], \n",
    "                enc_data['inputs']['all'].values[np.argwhere(data['labels']['all'] == label2).squeeze()]\n",
    "            )\n",
    "            tmp = multipletests(pvals[1], 0.05, 'fdr_bh')[1]\n",
    "            table.loc[f'{label}_{label2}', 'pval'] = tmp.min()\n",
    "            table.loc[f'{label}_{label2}', 'n'] = len([x for x in tmp if x < 0.05])\n",
    "            i += 1\n",
    "print(tabulate(table))\n",
    "\n",
    "print('ttests')\n",
    "table = pd.DataFrame(columns=['pval'])\n",
    "i = 0\n",
    "for i, label in enumerate(unique_labels[:-1]):\n",
    "    for label2 in unique_labels[i+1:]:\n",
    "        if label != label2 and label != 'pool' and label2 != 'pool':\n",
    "            pvals = stats.ttest_ind(\n",
    "                enc_data['inputs']['all'].values[np.argwhere(data['labels']['all'] == label).squeeze()], \n",
    "                enc_data['inputs']['all'].values[np.argwhere(data['labels']['all'] == label2).squeeze()]\n",
    "            )\n",
    "            tmp = multipletests(pvals[1], 0.05, 'fdr_bh')[1]\n",
    "            table.loc[f'{label}_{label2}', 'pval'] = tmp.min()\n",
    "            table.loc[f'{label}_{label2}', 'n'] = len([x for x in tmp if x < 0.05])\n",
    "            i += 1\n",
    "print(tabulate(table))\n"
   ]
  },
  {
   "cell_type": "code",
   "execution_count": null,
   "id": "6bbf1939-3923-4b26-8e6b-a49dd9a5b716",
   "metadata": {},
   "outputs": [],
   "source": [
    "if log_stuff:\n",
    "    metrics = log_pool_metrics(enc_data['inputs'], enc_data['batches'], metrics, 'vaedann-enc')\n",
    "    metrics = log_metrics(enc_data, unique_labels, enc_data['batches'], metrics, 'vaedann-enc', device='cuda')\n",
    "    # metrics = log_LDA(LDA, enc_data, {'batches': unique_batches, 'labels': unique_labels}, 0, metrics, 'aedann-enc')\n",
    "    "
   ]
  },
  {
   "cell_type": "code",
   "execution_count": null,
   "id": "8b96d6d0-3300-4afc-80d0-3a8fbc4dd98f",
   "metadata": {
    "scrolled": true,
    "tags": []
   },
   "outputs": [],
   "source": [
    "%matplotlib inline\n",
    "log_ORD({'model': PCA(n_components=2), 'name': f'PCA_encs_labels'}, enc_data, \n",
    "        {'batches': unique_batches, 'labels': unique_labels, \n",
    "         # 'age': unique_ages\n",
    "        }, 0)\n",
    "log_ORD({'model': UMAP(n_components=2), 'name': f'UMAP_encs_labels'}, enc_data, \n",
    "        {'batches': unique_batches, 'labels': unique_labels, \n",
    "         # 'age': unique_ages\n",
    "        }, 0)\n"
   ]
  },
  {
   "cell_type": "code",
   "execution_count": null,
   "id": "9e53b94c-3d29-4546-bfb5-0c1ae425bfa4",
   "metadata": {},
   "outputs": [],
   "source": [
    "for group in enc_data['inputs']:\n",
    "    if n_meta == 2:\n",
    "        enc_data['inputs'][group] = pd.DataFrame(np.concatenate((enc_data['inputs'][group].values, enc_data['meta'][group]), 1))\n"
   ]
  },
  {
   "cell_type": "code",
   "execution_count": null,
   "id": "2aca546f-7726-4324-b071-704340b51e62",
   "metadata": {},
   "outputs": [],
   "source": [
    "if train_models:\n",
    "    train_rfc(enc_data, 'vaedann-enc', n_meta)\n",
    "    train_linsvc(enc_data, 'vaedann-enc', n_meta)\n",
    "    # train_logreg(enc_data, 'aedann-enc', n_meta)\n",
    "    "
   ]
  },
  {
   "cell_type": "raw",
   "id": "54f12fce-d262-4804-bb19-8a3cda03f378",
   "metadata": {},
   "source": [
    "## Reconstruction"
   ]
  },
  {
   "cell_type": "raw",
   "id": "31cfee9f-64f2-40f2-bf10-1a2b9db9ff34",
   "metadata": {},
   "source": [
    "path = 'data'\n",
    "data, unique_labels = get_alzheimer(path, 'unique_genes.csv', 'CU_DEM-AD')\n",
    "unique_batches = np.unique(data['batches']['all'])\n",
    "unique_cats = np.unique(data['cats']['all'])\n",
    "unique_ages = np.array(['50s', '60s', '70s', '80+'])\n",
    "unique_genders = np.unique(data['meta']['all'].iloc[:, 1])\n",
    "n_cats = len(unique_labels)\n",
    "n_batches = len(unique_batches)\n",
    "n_ages = len(unique_ages)\n",
    "n_genders = len(unique_genders)\n",
    "data['age'] = {}\n",
    "data['gender'] = {}\n",
    "meta_age = []\n",
    "for age in data['meta']['all'].iloc[:, 0]:\n",
    "    if age < 50:\n",
    "        meta_age += ['pool']\n",
    "    elif age < 60:\n",
    "        meta_age += ['50s']\n",
    "    elif age < 70:\n",
    "        meta_age += ['60s']\n",
    "    elif age < 80:\n",
    "        meta_age += ['70s']\n",
    "    else:\n",
    "        meta_age += ['80+']\n",
    "data['age']['all'] = np.array(meta_age)\n",
    "data['gender']['all'] = data['meta']['all'].iloc[:, 1]\n",
    "\n",
    "data, _ = scale_data('minmax', data, device='cpu')"
   ]
  },
  {
   "cell_type": "raw",
   "id": "aabd16cd-5fd7-40b2-94f3-5d6ac63754b4",
   "metadata": {},
   "source": [
    "batches = torch.Tensor([np.argwhere(unique_batches == x)[0][0] for x in data['batches']['all']])\n",
    "rec_data = data.copy()\n",
    "_, rec_data['inputs']['all'], _, _ = best_ae2.cpu()(torch.Tensor(data['inputs']['all'].values), batches, sampling=False)\n",
    "_, rec_data['inputs']['all_pool'], _, _ = best_ae2.cpu()(torch.Tensor(data['inputs']['all_pool'].values), batches, sampling=False)\n",
    "_, rec_data['inputs']['train'], _, _ = best_ae2.cpu()(torch.Tensor(data['inputs']['train'].values), batches, sampling=False)\n",
    "_, rec_data['inputs']['train_pool'], _, _ = best_ae2.cpu()(torch.Tensor(data['inputs']['train_pool'].values), batches, sampling=False)\n",
    "_, rec_data['inputs']['valid'], _, _ = best_ae2.cpu()(torch.Tensor(data['inputs']['valid'].values), batches, sampling=False)\n",
    "_, rec_data['inputs']['valid_pool'], _, _ = best_ae2.cpu()(torch.Tensor(data['inputs']['valid_pool'].values), batches, sampling=False)\n",
    "_, rec_data['inputs']['test'], _, _ = best_ae2.cpu()(torch.Tensor(data['inputs']['test'].values), batches, sampling=False)\n",
    "_, rec_data['inputs']['test_pool'], _, _ = best_ae2.cpu()(torch.Tensor(data['inputs']['test_pool'].values), batches, sampling=False)\n",
    "\n",
    "for group in rec_data['inputs']:\n",
    "    rec_data['inputs'][group] = rec_data['inputs'][group]['mean'][-1].detach().cpu().numpy()\n",
    "    if n_meta == 2:\n",
    "        rec_data['inputs'][group] = np.concatenate((rec_data['inputs'][group], rec_data['meta'][group]), 1)\n",
    "for group in rec_data['inputs']:\n",
    "    rec_data['inputs'][group] = pd.DataFrame(rec_data['inputs'][group])\n"
   ]
  },
  {
   "cell_type": "raw",
   "id": "0d18ce9d-84d0-4019-8d17-9035437b9972",
   "metadata": {},
   "source": [
    "from scipy import stats\n",
    "from statsmodels.stats.multitest import multipletests\n",
    "print(\"Mann      pval min    n pvals < 0.05\")\n",
    "table = pd.DataFrame(columns=['pval', 'n'])\n",
    "i = 0\n",
    "for i, label in enumerate(unique_labels[:-1]):\n",
    "    for label2 in unique_labels[i+1:]:\n",
    "        if label != label2 and label != 'pool' and label2 != 'pool':\n",
    "            pvals = stats.mannwhitneyu(\n",
    "                rec_data['inputs']['all'].iloc[np.argwhere(data['labels']['all'] == label).squeeze()], \n",
    "                rec_data['inputs']['all'].iloc[np.argwhere(data['labels']['all'] == label2).squeeze()]\n",
    "            )\n",
    "            tmp = multipletests(pvals[1], 0.05, 'fdr_bh')[1]\n",
    "            table.loc[f'{label}_{label2}', 'pval'] = tmp.min()\n",
    "            table.loc[f'{label}_{label2}', 'n'] = len([x for x in tmp if x < 0.05])\n",
    "            i += 1\n",
    "print(tabulate(table))\n",
    "\n",
    "print('ttests')\n",
    "table = pd.DataFrame(columns=['pval'])\n",
    "i = 0\n",
    "for i, label in enumerate(unique_labels[:-1]):\n",
    "    for label2 in unique_labels[i+1:]:\n",
    "        if label != label2 and label != 'pool' and label2 != 'pool':\n",
    "            pvals = stats.ttest_ind(\n",
    "                rec_data['inputs']['all'].iloc[np.argwhere(data['labels']['all'] == label).squeeze()], \n",
    "                rec_data['inputs']['all'].iloc[np.argwhere(data['labels']['all'] == label2).squeeze()]\n",
    "            )\n",
    "            tmp = multipletests(pvals[1], 0.05, 'fdr_bh')[1]\n",
    "            table.loc[f'{label}_{label2}', 'pval'] = tmp.min()\n",
    "            table.loc[f'{label}_{label2}', 'n'] = len([x for x in tmp if x < 0.05])\n",
    "            i += 1\n",
    "print(tabulate(table))\n"
   ]
  },
  {
   "cell_type": "raw",
   "id": "a7cd1d17-d4a4-4303-a748-dff3bd744944",
   "metadata": {
    "tags": []
   },
   "source": [
    "log_ORD({'model': PCA(n_components=2), 'name': f'PCA_recs_labels'}, rec_data, \n",
    "        {'batches': unique_batches, 'labels': unique_labels, 'age': unique_ages}, 0)\n",
    "log_ORD({'model': UMAP(n_components=2), 'name': f'UMAP_recs_labels'}, rec_data, \n",
    "        {'batches': unique_batches, 'labels': unique_labels, 'age': unique_ages}, 0)\n"
   ]
  },
  {
   "cell_type": "raw",
   "id": "a6d2424f-2522-48ff-96c6-dc8b4e9e5a08",
   "metadata": {},
   "source": []
  },
  {
   "cell_type": "raw",
   "id": "93abbec9-aa21-4422-93e7-16fd05346c4f",
   "metadata": {
    "tags": []
   },
   "source": [
    "if log_stuff:\n",
    "    metrics = log_pool_metrics(rec_data['inputs'], rec_data['batches'], metrics, 'vaedann-rec')\n",
    "    metrics = log_metrics(rec_data, unique_labels, rec_data['batches'], metrics, 'vaedann-rec', device='cuda')\n",
    "    # metrics['aedann-rec']['all']['LDA_score'] = log_LDA(LDA, rec_data, {'batches': unique_batches, 'labels': unique_labels}, 0, metrics, 'aedann-rec')\n"
   ]
  },
  {
   "cell_type": "raw",
   "id": "c26b095c-93b8-4e0a-8c35-e7c90121ab4b",
   "metadata": {},
   "source": [
    "if train_models:\n",
    "    train_rfc(rec_data, 'vaedann-rec', n_meta)\n",
    "    train_linsvc(rec_data, 'vaedann-rec', n_meta)\n",
    "    # train_logreg(rec_data, 'aedann-rec', n_meta)\n",
    "    "
   ]
  },
  {
   "cell_type": "markdown",
   "id": "bb8316a0-33ec-4a0c-8c38-10c09bfd869a",
   "metadata": {
    "tags": []
   },
   "source": [
    "# VAE-invTriplet"
   ]
  },
  {
   "cell_type": "markdown",
   "id": "9480c263-e000-46c4-a954-9bc1888588d1",
   "metadata": {},
   "source": [
    "## Encoded"
   ]
  },
  {
   "cell_type": "code",
   "execution_count": null,
   "id": "5ffc8d49-daf0-441d-abf2-52c29f8f4a09",
   "metadata": {},
   "outputs": [],
   "source": [
    "path = 'data'\n",
    "data, unique_labels, unique_batches = get_alzheimer(path, csv_name, bad_batches, remove_zeros=0)\n",
    "# unique_labels = get_unique_labels(data['labels']['all'])\n",
    "unique_batches = np.unique(data['batches']['all'])\n",
    "unique_cats = np.unique(data['cats']['all'])\n",
    "unique_ages = np.array(['50s', '60s', '70s', '80+'])\n",
    "unique_genders = np.unique(data['meta']['all'].iloc[:, 1])\n",
    "n_cats = len(unique_labels)\n",
    "n_batches = len(unique_batches)\n",
    "n_ages = len(unique_ages)\n",
    "n_genders = len(unique_genders)\n",
    "\n",
    "data['age'] = {}\n",
    "data['gender'] = {}\n",
    "meta_age = []\n",
    "for age in data['meta']['all'].iloc[:, 0]:\n",
    "    if age < 50:\n",
    "        meta_age += ['pool']\n",
    "    elif age < 60:\n",
    "        meta_age += ['50s']\n",
    "    elif age < 70:\n",
    "        meta_age += ['60s']\n",
    "    elif age < 80:\n",
    "        meta_age += ['70s']\n",
    "    else:\n",
    "        meta_age += ['80+']\n",
    "data['age']['all'] = np.array(meta_age)\n",
    "data['gender']['all'] = data['meta']['all'].iloc[:, 1]\n",
    "\n",
    "data, _ = scale_data('standard', data, device='cpu')\n",
    "\n",
    "if not best_correction:\n",
    "    # Best score run Brain-1446\n",
    "    path='logs/best_models_server/ae_then_classifier_holdout/unique_genes/inverseTriplet_vae1/model_1.pth'\n",
    "else:\n",
    "    # Run Brain-\n",
    "    path='logs/ae_classifier_holdout/.../model_3.pth'\n",
    "    \n",
    "# best score is autoencoder0, best correction autoencoder3\n",
    "if not best_correction:\n",
    "    best_ae2 = AutoEncoder(data['inputs']['all'].shape[1],\n",
    "                     n_batches=22,\n",
    "                     nb_classes=2,\n",
    "                     layer1=1930,\n",
    "                     mapper=0,\n",
    "                     layer2=372,\n",
    "                     dropout=0,\n",
    "                           n_meta=0,\n",
    "                           n_emb=2,\n",
    "                           n_layers=2,\n",
    "                     variational=1, conditional=False, zinb=0,\n",
    "                     add_noise=0, tied_weights=0, \n",
    "                     use_gnn=0, device='cpu').to('cpu')\n",
    "else:\n",
    "    best_ae2 = AutoEncoder(data['inputs']['all'].shape[1],\n",
    "                 n_batches=21,\n",
    "                 nb_classes=2,\n",
    "                 layer1=595,\n",
    "                 mapper=0,\n",
    "                 layer2=266,\n",
    "                 dropout=0,\n",
    "                 variational=0, conditional=False, zinb=0,\n",
    "                 add_noise=0, tied_weights=0, n_meta=2,\n",
    "                 use_gnn=0, device='cpu').to('cpu')\n",
    "\n",
    "best_ae2.mapper.to('cpu')\n",
    "best_ae2.dec.to('cpu')\n",
    "\n",
    "best_ae2.load_state_dict(torch.load(f'{path}', map_location='cpu'))\n",
    "best_ae2.eval()\n",
    "pass"
   ]
  },
  {
   "cell_type": "code",
   "execution_count": null,
   "id": "14956f31-c112-41d4-a6e4-775c7e56ffd6",
   "metadata": {},
   "outputs": [],
   "source": [
    "batches = torch.Tensor([np.argwhere(unique_batches == x)[0][0] for x in data['batches']['all']]).detach().cpu()\n",
    "enc_data = data.copy()\n",
    "enc_data['inputs']['all'], _, _, _ = best_ae2.cpu()(torch.Tensor(data['inputs']['all'].values), batches, sampling=False)\n",
    "enc_data['inputs']['all_pool'], _, _, _ = best_ae2.cpu()(torch.Tensor(data['inputs']['all_pool'].values), batches, sampling=False)\n",
    "enc_data['inputs']['train'], _, _, _ = best_ae2.cpu()(torch.Tensor(data['inputs']['train'].values), batches, sampling=False)\n",
    "enc_data['inputs']['train_pool'], _, _, _ = best_ae2.cpu()(torch.Tensor(data['inputs']['train_pool'].values), batches, sampling=False)\n",
    "enc_data['inputs']['valid'], _, _, _ = best_ae2.cpu()(torch.Tensor(data['inputs']['valid'].values), batches, sampling=False)\n",
    "enc_data['inputs']['valid_pool'], _, _, _ = best_ae2.cpu()(torch.Tensor(data['inputs']['valid_pool'].values), batches, sampling=False)\n",
    "enc_data['inputs']['test'], _, _, _ = best_ae2.cpu()(torch.Tensor(data['inputs']['test'].values), batches, sampling=False)\n",
    "enc_data['inputs']['test_pool'], _, _, _ = best_ae2.cpu()(torch.Tensor(data['inputs']['test_pool'].values), batches, sampling=False)\n",
    "\n",
    "for group in enc_data['inputs']:\n",
    "    enc_data['inputs'][group] = pd.DataFrame(enc_data['inputs'][group].detach().cpu().numpy())\n"
   ]
  },
  {
   "cell_type": "code",
   "execution_count": null,
   "id": "709e87e7-cb62-4e83-a40a-4aa6b4788b77",
   "metadata": {},
   "outputs": [],
   "source": [
    "from scipy import stats\n",
    "from statsmodels.stats.multitest import multipletests\n",
    "print(\"Mann      pval min    n pvals < 0.05\")\n",
    "table = pd.DataFrame(columns=['pval', 'n'])\n",
    "i = 0\n",
    "for i, label in enumerate(unique_labels[:-1]):\n",
    "    for label2 in unique_labels[i+1:]:\n",
    "        if label != label2 and label != 'pool' and label2 != 'pool':\n",
    "            pvals = stats.mannwhitneyu(\n",
    "                enc_data['inputs']['all'].values[np.argwhere(data['labels']['all'] == label).squeeze()], \n",
    "                enc_data['inputs']['all'].values[np.argwhere(data['labels']['all'] == label2).squeeze()]\n",
    "            )\n",
    "            tmp = multipletests(pvals[1], 0.05, 'fdr_bh')[1]\n",
    "            table.loc[f'{label}_{label2}', 'pval'] = tmp.min()\n",
    "            table.loc[f'{label}_{label2}', 'n'] = len([x for x in tmp if x < 0.05])\n",
    "            i += 1\n",
    "print(tabulate(table))\n",
    "\n",
    "print('ttests')\n",
    "table = pd.DataFrame(columns=['pval'])\n",
    "i = 0\n",
    "for i, label in enumerate(unique_labels[:-1]):\n",
    "    for label2 in unique_labels[i+1:]:\n",
    "        if label != label2 and label != 'pool' and label2 != 'pool':\n",
    "            pvals = stats.ttest_ind(\n",
    "                enc_data['inputs']['all'].values[np.argwhere(data['labels']['all'] == label).squeeze()], \n",
    "                enc_data['inputs']['all'].values[np.argwhere(data['labels']['all'] == label2).squeeze()]\n",
    "            )\n",
    "            tmp = multipletests(pvals[1], 0.05, 'fdr_bh')[1]\n",
    "            table.loc[f'{label}_{label2}', 'pval'] = tmp.min()\n",
    "            table.loc[f'{label}_{label2}', 'n'] = len([x for x in tmp if x < 0.05])\n",
    "            i += 1\n",
    "print(tabulate(table))\n"
   ]
  },
  {
   "cell_type": "code",
   "execution_count": null,
   "id": "8ef90e07-496b-4e5a-bcc9-d3b9da4ea068",
   "metadata": {},
   "outputs": [],
   "source": [
    "if log_stuff:\n",
    "    metrics = log_pool_metrics(enc_data['inputs'], enc_data['batches'], metrics, 'vae-invTriplet-enc')\n",
    "    metrics = log_metrics(enc_data, unique_labels, enc_data['batches'], metrics, 'vae-invTriplet-enc', device='cuda')\n",
    "    # metrics = log_LDA(LDA, enc_data, {'batches': unique_batches, 'labels': unique_labels}, 0, metrics, 'aedann-enc')\n",
    "    "
   ]
  },
  {
   "cell_type": "code",
   "execution_count": null,
   "id": "64067699-4ff3-48b9-ade6-df7d8460a1d2",
   "metadata": {
    "scrolled": true,
    "tags": []
   },
   "outputs": [],
   "source": [
    "%matplotlib inline\n",
    "log_ORD({'model': PCA(n_components=2), 'name': f'PCA_encs_labels'}, enc_data, \n",
    "        {'batches': unique_batches, 'labels': unique_labels, \n",
    "         # 'age': unique_ages\n",
    "        }, 0)\n",
    "log_ORD({'model': UMAP(n_components=2), 'name': f'UMAP_encs_labels'}, enc_data, \n",
    "        {'batches': unique_batches, 'labels': unique_labels, \n",
    "         # 'age': unique_ages\n",
    "        }, 0)\n"
   ]
  },
  {
   "cell_type": "code",
   "execution_count": null,
   "id": "4b78c808-4a5e-4ba1-8d8c-c5dafb714eec",
   "metadata": {},
   "outputs": [],
   "source": []
  },
  {
   "cell_type": "code",
   "execution_count": null,
   "id": "c78d09d6-a48b-4c9b-95ef-bcfee46170d6",
   "metadata": {},
   "outputs": [],
   "source": [
    "for group in enc_data['inputs']:\n",
    "    if n_meta == 2:\n",
    "        enc_data['inputs'][group] = pd.DataFrame(np.concatenate((enc_data['inputs'][group].values, enc_data['meta'][group]), 1))\n"
   ]
  },
  {
   "cell_type": "code",
   "execution_count": null,
   "id": "224c6948-16de-4301-8b4c-df5e57d1d16f",
   "metadata": {},
   "outputs": [],
   "source": [
    "if train_models:\n",
    "    train_rfc(enc_data, 'vae-invTriplet-enc', n_meta)\n",
    "    train_linsvc(enc_data, 'vae-invTriplet-enc', n_meta)\n",
    "    # train_logreg(enc_data, 'aedann-enc', n_meta)\n",
    "    "
   ]
  },
  {
   "cell_type": "raw",
   "id": "507effe5-f2ae-40b1-a8c9-768287f19669",
   "metadata": {},
   "source": [
    "## Reconstruction"
   ]
  },
  {
   "cell_type": "raw",
   "id": "3ea11759-1e39-4d2e-a91a-0cfa0983b01d",
   "metadata": {},
   "source": [
    "path = 'data'\n",
    "data, unique_labels = get_data(path, csv_name, bad_batches)\n",
    "unique_batches = np.unique(data['batches']['all'])\n",
    "unique_cats = np.unique(data['cats']['all'])\n",
    "unique_ages = np.array(['50s', '60s', '70s', '80+'])\n",
    "unique_genders = np.unique(data['meta']['all'].iloc[:, 1])\n",
    "n_cats = len(unique_labels)\n",
    "n_batches = len(unique_batches)\n",
    "n_ages = len(unique_ages)\n",
    "n_genders = len(unique_genders)\n",
    "data['age'] = {}\n",
    "data['gender'] = {}\n",
    "meta_age = []\n",
    "for age in data['meta']['all'].iloc[:, 0]:\n",
    "    if age < 50:\n",
    "        meta_age += ['pool']\n",
    "    elif age < 60:\n",
    "        meta_age += ['50s']\n",
    "    elif age < 70:\n",
    "        meta_age += ['60s']\n",
    "    elif age < 80:\n",
    "        meta_age += ['70s']\n",
    "    else:\n",
    "        meta_age += ['80+']\n",
    "data['age']['all'] = np.array(meta_age)\n",
    "data['gender']['all'] = data['meta']['all'].iloc[:, 1]\n",
    "\n",
    "scaler = Pipeline([('standard', RobustScaler()), ('minmax', MinMaxScaler())])\n",
    "# scaler = Pipeline([('standard', StandardScaler()), ('minmax', MinMaxScaler())])\n",
    "# scaler = MinMaxScaler()\n",
    "\n",
    "data['inputs']['all'] = scaler.fit_transform(data['inputs']['all'])\n",
    "data['inputs']['all_pool'] = scaler.transform(data['inputs']['all_pool'])\n",
    "data['inputs']['train'] = scaler.transform(data['inputs']['train'])\n",
    "data['inputs']['train_pool'] = scaler.transform(data['inputs']['train_pool'])\n",
    "data['inputs']['valid'] = scaler.transform(data['inputs']['valid'])\n",
    "data['inputs']['valid_pool'] = scaler.transform(data['inputs']['valid_pool'])\n",
    "data['inputs']['test'] = scaler.transform(data['inputs']['test'])\n",
    "data['inputs']['test_pool'] = scaler.transform(data['inputs']['test_pool'])\n"
   ]
  },
  {
   "cell_type": "raw",
   "id": "dff22d15-de70-435e-8d80-b799e4122df9",
   "metadata": {},
   "source": [
    "batches = torch.Tensor([np.argwhere(unique_batches == x)[0][0] for x in data['batches']['all']])\n",
    "rec_data = data.copy()\n",
    "_, rec_data['inputs']['all'], _, _ = best_ae2.cpu()(torch.Tensor(data['inputs']['all']), batches, sampling=False)\n",
    "_, rec_data['inputs']['all_pool'], _, _ = best_ae2.cpu()(torch.Tensor(data['inputs']['all_pool']), batches, sampling=False)\n",
    "_, rec_data['inputs']['train'], _, _ = best_ae2.cpu()(torch.Tensor(data['inputs']['train']), batches, sampling=False)\n",
    "_, rec_data['inputs']['train_pool'], _, _ = best_ae2.cpu()(torch.Tensor(data['inputs']['train_pool']), batches, sampling=False)\n",
    "_, rec_data['inputs']['valid'], _, _ = best_ae2.cpu()(torch.Tensor(data['inputs']['valid']), batches, sampling=False)\n",
    "_, rec_data['inputs']['valid_pool'], _, _ = best_ae2.cpu()(torch.Tensor(data['inputs']['valid_pool']), batches, sampling=False)\n",
    "_, rec_data['inputs']['test'], _, _ = best_ae2.cpu()(torch.Tensor(data['inputs']['test']), batches, sampling=False)\n",
    "_, rec_data['inputs']['test_pool'], _, _ = best_ae2.cpu()(torch.Tensor(data['inputs']['test_pool']), batches, sampling=False)\n",
    "\n",
    "for group in enc_data['inputs']:\n",
    "    rec_data['inputs'][group] = rec_data['inputs'][group]['mean'][-1].detach().cpu().numpy()\n",
    "    if n_meta == 2:\n",
    "        rec_data['inputs'][group] = np.concatenate((rec_data['inputs'][group], rec_data['meta'][group]), 1)\n"
   ]
  },
  {
   "cell_type": "raw",
   "id": "3c4c42cb-68e5-4721-b25d-891c31698f05",
   "metadata": {},
   "source": [
    "from scipy import stats\n",
    "from statsmodels.stats.multitest import multipletests\n",
    "print(\"Mann      pval min    n pvals < 0.05\")\n",
    "table = pd.DataFrame(columns=['pval', 'n'])\n",
    "i = 0\n",
    "for i, label in enumerate(unique_labels[:-1]):\n",
    "    for label2 in unique_labels[i+1:]:\n",
    "        if label != label2 and label != 'pool' and label2 != 'pool':\n",
    "            pvals = stats.mannwhitneyu(\n",
    "                rec_data['inputs']['all'][np.argwhere(data['labels']['all'] == label).squeeze()], \n",
    "                rec_data['inputs']['all'][np.argwhere(data['labels']['all'] == label2).squeeze()]\n",
    "            )\n",
    "            tmp = multipletests(pvals[1], 0.05, 'fdr_bh')[1]\n",
    "            table.loc[f'{label}_{label2}', 'pval'] = tmp.min()\n",
    "            table.loc[f'{label}_{label2}', 'n'] = len([x for x in tmp if x < 0.05])\n",
    "            i += 1\n",
    "print(tabulate(table))\n",
    "\n",
    "print('ttests')\n",
    "table = pd.DataFrame(columns=['pval'])\n",
    "i = 0\n",
    "for i, label in enumerate(unique_labels[:-1]):\n",
    "    for label2 in unique_labels[i+1:]:\n",
    "        if label != label2 and label != 'pool' and label2 != 'pool':\n",
    "            pvals = stats.ttest_ind(\n",
    "                rec_data['inputs']['all'][np.argwhere(data['labels']['all'] == label).squeeze()], \n",
    "                rec_data['inputs']['all'][np.argwhere(data['labels']['all'] == label2).squeeze()]\n",
    "            )\n",
    "            tmp = multipletests(pvals[1], 0.05, 'fdr_bh')[1]\n",
    "            table.loc[f'{label}_{label2}', 'pval'] = tmp.min()\n",
    "            table.loc[f'{label}_{label2}', 'n'] = len([x for x in tmp if x < 0.05])\n",
    "            i += 1\n",
    "print(tabulate(table))\n"
   ]
  },
  {
   "cell_type": "raw",
   "id": "2a4361a3-02b9-4628-9336-63ba9cde0348",
   "metadata": {
    "tags": []
   },
   "source": [
    "log_ORD({'model': PCA(n_components=2), 'name': f'PCA_recs_labels'}, rec_data, \n",
    "        {'batches': unique_batches, 'labels': unique_labels, 'age': unique_ages}, 0)\n",
    "log_ORD({'model': UMAP(n_components=2), 'name': f'UMAP_recs_labels'}, rec_data, \n",
    "        {'batches': unique_batches, 'labels': unique_labels, 'age': unique_ages}, 0)\n"
   ]
  },
  {
   "cell_type": "raw",
   "id": "28751a64-acee-48ce-be71-14fb33a974ff",
   "metadata": {},
   "source": []
  },
  {
   "cell_type": "raw",
   "id": "4326a742-70a3-43bd-b3e5-70670886a05c",
   "metadata": {
    "tags": []
   },
   "source": [
    "if log_stuff:\n",
    "    metrics = log_pool_metrics(rec_data['inputs'], rec_data['batches'], metrics, 'ae-revTriplet-rec')\n",
    "    metrics = log_metrics(rec_data, unique_labels, rec_data['batches'], metrics, 'ae-revTriplet-rec', device='cuda')\n",
    "    # metrics['ae-revTriplet-rec']['all']['LDA_score'] = log_LDA(LDA, rec_data, {'batches': unique_batches, 'labels': unique_labels}, 0, metrics, 'aedann-rec')\n"
   ]
  },
  {
   "cell_type": "raw",
   "id": "41bde855-5c64-45ab-91fe-176703a52130",
   "metadata": {
    "tags": []
   },
   "source": [
    "%matplotlib inline\n",
    "log_ORD({'model': PCA(n_components=2), 'name': f'PCA_encs_labels'}, enc_data, \n",
    "        {'batches': unique_batches, 'labels': unique_labels, 'age': unique_ages}, 0)\n",
    "log_ORD({'model': UMAP(n_components=2), 'name': f'UMAP_encs_labels'}, enc_data, \n",
    "        {'batches': unique_batches, 'labels': unique_labels, 'age': unique_ages}, 0)\n"
   ]
  },
  {
   "cell_type": "raw",
   "id": "23418371-6b00-4184-8f6b-f9c57658c399",
   "metadata": {
    "tags": []
   },
   "source": [
    "%matplotlib inline\n",
    "log_ORD({'model': PCA(n_components=2), 'name': f'PCA_encs_labels'}, rec_data, \n",
    "        {'batches': unique_batches, 'labels': unique_labels, 'age': unique_ages}, 0)\n",
    "log_ORD({'model': UMAP(n_components=2), 'name': f'UMAP_encs_labels'}, rec_data, \n",
    "        {'batches': unique_batches, 'labels': unique_labels, 'age': unique_ages}, 0)\n"
   ]
  },
  {
   "cell_type": "raw",
   "id": "d42d1688-4f1d-44d0-ad59-b3d3e43bd1e8",
   "metadata": {
    "tags": []
   },
   "source": []
  },
  {
   "cell_type": "raw",
   "id": "0c973b1b-0eda-4f68-98f5-cbbb63c4a353",
   "metadata": {
    "tags": []
   },
   "source": [
    "if log_stuff:\n",
    "    metrics = log_pool_metrics(rec_data['inputs'], rec_data['batches'], metrics, 'ae-revTriplet-rec')\n",
    "    metrics = log_metrics(rec_data, unique_labels, rec_data['batches'], metrics, 'ae-revTriplet-rec', device='cuda')\n",
    "    # metrics = log_LDA(LDA, rec_data, {'batches': unique_batches, 'labels': unique_labels}, 0, metrics, 'aedann-rec')\n"
   ]
  },
  {
   "cell_type": "raw",
   "id": "1ccab136-a6bf-4103-82af-0ee31f482fe9",
   "metadata": {},
   "source": [
    "if train_models:\n",
    "    train_rfc(rec_data, 'ae-revTriplet-rec', n_meta)\n",
    "    train_linsvc(rec_data, 'ae-revTriplet-rec', n_meta)\n",
    "    # train_logreg(rec_data, 'aedann-rec', n_meta)\n",
    "    "
   ]
  },
  {
   "cell_type": "markdown",
   "id": "bf14a851-361f-4b9f-a9bd-5b55fd535111",
   "metadata": {
    "tags": []
   },
   "source": [
    "# VAE-revTriplet"
   ]
  },
  {
   "cell_type": "markdown",
   "id": "ca621422-a516-4996-b047-7e24a3bac528",
   "metadata": {},
   "source": [
    "## Encoded"
   ]
  },
  {
   "cell_type": "code",
   "execution_count": null,
   "id": "95e20180-8bd6-4029-b842-d487cbfd930a",
   "metadata": {},
   "outputs": [],
   "source": [
    "path = 'data'\n",
    "data, unique_labels, unique_batches = get_alzheimer(path, csv_name, bad_batches, remove_zeros=0)\n",
    "# unique_labels = get_unique_labels(data['labels']['all'])\n",
    "unique_batches = np.unique(data['batches']['all'])\n",
    "unique_cats = np.unique(data['cats']['all'])\n",
    "unique_ages = np.array(['50s', '60s', '70s', '80+'])\n",
    "unique_genders = np.unique(data['meta']['all'].iloc[:, 1])\n",
    "n_cats = len(unique_labels)\n",
    "n_batches = len(unique_batches)\n",
    "n_ages = len(unique_ages)\n",
    "n_genders = len(unique_genders)\n",
    "\n",
    "data['age'] = {}\n",
    "data['gender'] = {}\n",
    "meta_age = []\n",
    "for age in data['meta']['all'].iloc[:, 0]:\n",
    "    if age < 50:\n",
    "        meta_age += ['pool']\n",
    "    elif age < 60:\n",
    "        meta_age += ['50s']\n",
    "    elif age < 70:\n",
    "        meta_age += ['60s']\n",
    "    elif age < 80:\n",
    "        meta_age += ['70s']\n",
    "    else:\n",
    "        meta_age += ['80+']\n",
    "data['age']['all'] = np.array(meta_age)\n",
    "data['gender']['all'] = data['meta']['all'].iloc[:, 1]\n",
    "\n",
    "data, _ = scale_data('standard', data, device='cpu')\n",
    "\n",
    "if not best_correction:\n",
    "    # Best score run Brain-1446\n",
    "    path='logs/best_models_server/ae_then_classifier_holdout/unique_genes/revTriplet_vae1/model_1.pth'\n",
    "else:\n",
    "    # Run Brain-\n",
    "    path='logs/ae_classifier_holdout/.../model_3.pth'\n",
    "    \n",
    "# best score is autoencoder0, best correction autoencoder3\n",
    "if not best_correction:\n",
    "    best_ae2 = AutoEncoder(data['inputs']['all'].shape[1],\n",
    "                     n_batches=22,\n",
    "                     nb_classes=2,\n",
    "                     layer1=561,\n",
    "                     mapper=0,\n",
    "                     layer2=893,\n",
    "                     dropout=0,\n",
    "                           n_meta=0,\n",
    "                           n_emb=2,\n",
    "                           n_layers=2,\n",
    "                     variational=1, conditional=False, zinb=0,\n",
    "                     add_noise=0, tied_weights=0, \n",
    "                     use_gnn=0, device='cpu').to('cpu')\n",
    "else:\n",
    "    best_ae2 = AutoEncoder(data['inputs']['all'].shape[1],\n",
    "                 n_batches=21,\n",
    "                 nb_classes=2,\n",
    "                 layer1=595,\n",
    "                 mapper=0,\n",
    "                 layer2=266,\n",
    "                 dropout=0,\n",
    "                 variational=0, conditional=False, zinb=0,\n",
    "                 add_noise=0, tied_weights=0, n_meta=2,\n",
    "                 use_gnn=0, device='cpu').to('cpu')\n",
    "\n",
    "best_ae2.mapper.to('cpu')\n",
    "best_ae2.dec.to('cpu')\n",
    "\n",
    "best_ae2.load_state_dict(torch.load(f'{path}', map_location='cpu'))\n",
    "best_ae2.eval()\n",
    "pass"
   ]
  },
  {
   "cell_type": "code",
   "execution_count": null,
   "id": "13e18044-336b-4599-a066-1cad609dca41",
   "metadata": {},
   "outputs": [],
   "source": [
    "batches = torch.Tensor([np.argwhere(unique_batches == x)[0][0] for x in data['batches']['all']]).detach().cpu()\n",
    "enc_data = data.copy()\n",
    "enc_data['inputs']['all'], _, _, _ = best_ae2.cpu()(torch.Tensor(data['inputs']['all'].values), batches, sampling=False)\n",
    "enc_data['inputs']['all_pool'], _, _, _ = best_ae2.cpu()(torch.Tensor(data['inputs']['all_pool'].values), batches, sampling=False)\n",
    "enc_data['inputs']['train'], _, _, _ = best_ae2.cpu()(torch.Tensor(data['inputs']['train'].values), batches, sampling=False)\n",
    "enc_data['inputs']['train_pool'], _, _, _ = best_ae2.cpu()(torch.Tensor(data['inputs']['train_pool'].values), batches, sampling=False)\n",
    "enc_data['inputs']['valid'], _, _, _ = best_ae2.cpu()(torch.Tensor(data['inputs']['valid'].values), batches, sampling=False)\n",
    "enc_data['inputs']['valid_pool'], _, _, _ = best_ae2.cpu()(torch.Tensor(data['inputs']['valid_pool'].values), batches, sampling=False)\n",
    "enc_data['inputs']['test'], _, _, _ = best_ae2.cpu()(torch.Tensor(data['inputs']['test'].values), batches, sampling=False)\n",
    "enc_data['inputs']['test_pool'], _, _, _ = best_ae2.cpu()(torch.Tensor(data['inputs']['test_pool'].values), batches, sampling=False)\n",
    "\n",
    "for group in enc_data['inputs']:\n",
    "    enc_data['inputs'][group] = pd.DataFrame(enc_data['inputs'][group].detach().cpu().numpy())\n"
   ]
  },
  {
   "cell_type": "code",
   "execution_count": null,
   "id": "58de4440-a8d0-4080-8b28-289128f38fda",
   "metadata": {},
   "outputs": [],
   "source": [
    "from scipy import stats\n",
    "from statsmodels.stats.multitest import multipletests\n",
    "print(\"Mann      pval min    n pvals < 0.05\")\n",
    "table = pd.DataFrame(columns=['pval', 'n'])\n",
    "i = 0\n",
    "for i, label in enumerate(unique_labels[:-1]):\n",
    "    for label2 in unique_labels[i+1:]:\n",
    "        if label != label2 and label != 'pool' and label2 != 'pool':\n",
    "            pvals = stats.mannwhitneyu(\n",
    "                enc_data['inputs']['all'].values[np.argwhere(data['labels']['all'] == label).squeeze()], \n",
    "                enc_data['inputs']['all'].values[np.argwhere(data['labels']['all'] == label2).squeeze()]\n",
    "            )\n",
    "            tmp = multipletests(pvals[1], 0.05, 'fdr_bh')[1]\n",
    "            table.loc[f'{label}_{label2}', 'pval'] = tmp.min()\n",
    "            table.loc[f'{label}_{label2}', 'n'] = len([x for x in tmp if x < 0.05])\n",
    "            i += 1\n",
    "print(tabulate(table))\n",
    "\n",
    "print('ttests')\n",
    "table = pd.DataFrame(columns=['pval'])\n",
    "i = 0\n",
    "for i, label in enumerate(unique_labels[:-1]):\n",
    "    for label2 in unique_labels[i+1:]:\n",
    "        if label != label2 and label != 'pool' and label2 != 'pool':\n",
    "            pvals = stats.ttest_ind(\n",
    "                enc_data['inputs']['all'].values[np.argwhere(data['labels']['all'] == label).squeeze()], \n",
    "                enc_data['inputs']['all'].values[np.argwhere(data['labels']['all'] == label2).squeeze()]\n",
    "            )\n",
    "            tmp = multipletests(pvals[1], 0.05, 'fdr_bh')[1]\n",
    "            table.loc[f'{label}_{label2}', 'pval'] = tmp.min()\n",
    "            table.loc[f'{label}_{label2}', 'n'] = len([x for x in tmp if x < 0.05])\n",
    "            i += 1\n",
    "print(tabulate(table))\n"
   ]
  },
  {
   "cell_type": "code",
   "execution_count": null,
   "id": "e1c81b4b-8ac3-44a6-af4a-53904f1421d6",
   "metadata": {},
   "outputs": [],
   "source": [
    "if log_stuff:\n",
    "    metrics = log_pool_metrics(enc_data['inputs'], enc_data['batches'], metrics, 'vae-revTriplet-enc')\n",
    "    metrics = log_metrics(enc_data, unique_labels, enc_data['batches'], metrics, 'vae-revTriplet-enc', device='cuda')\n",
    "    # metrics = log_LDA(LDA, enc_data, {'batches': unique_batches, 'labels': unique_labels}, 0, metrics, 'aedann-enc')\n",
    "    "
   ]
  },
  {
   "cell_type": "code",
   "execution_count": null,
   "id": "1f887915-f0cf-4e4e-8818-a213091f8ec5",
   "metadata": {
    "scrolled": true,
    "tags": []
   },
   "outputs": [],
   "source": [
    "%matplotlib inline\n",
    "log_ORD({'model': PCA(n_components=2), 'name': f'PCA_encs_labels'}, enc_data, \n",
    "        {'batches': unique_batches, 'labels': unique_labels, \n",
    "         # 'age': unique_ages\n",
    "        }, 0)\n",
    "log_ORD({'model': UMAP(n_components=2), 'name': f'UMAP_encs_labels'}, enc_data, \n",
    "        {'batches': unique_batches, 'labels': unique_labels, \n",
    "         # 'age': unique_ages\n",
    "        }, 0)\n"
   ]
  },
  {
   "cell_type": "code",
   "execution_count": null,
   "id": "847f2591-3f2e-4029-b058-d4c2c0b78b47",
   "metadata": {},
   "outputs": [],
   "source": []
  },
  {
   "cell_type": "code",
   "execution_count": null,
   "id": "34e93336-00b3-4ab0-8686-1e977e7d1f17",
   "metadata": {},
   "outputs": [],
   "source": [
    "for group in enc_data['inputs']:\n",
    "    if n_meta == 2:\n",
    "        enc_data['inputs'][group] = pd.DataFrame(np.concatenate((enc_data['inputs'][group].values, enc_data['meta'][group]), 1))\n"
   ]
  },
  {
   "cell_type": "code",
   "execution_count": null,
   "id": "f5d69f32-d41a-4e24-b0ed-d022fe52b2e5",
   "metadata": {},
   "outputs": [],
   "source": [
    "if train_models:\n",
    "    train_rfc(enc_data, 'vae-revTriplet-enc', n_meta)\n",
    "    train_linsvc(enc_data, 'vae-revTriplet-enc', n_meta)\n",
    "    # train_logreg(enc_data, 'aedann-enc', n_meta)\n",
    "    "
   ]
  },
  {
   "cell_type": "raw",
   "id": "1de68b21-b0f9-4c90-95a4-f8c9eb06f7db",
   "metadata": {},
   "source": [
    "## Reconstruction"
   ]
  },
  {
   "cell_type": "raw",
   "id": "be3dd2ee-29e0-4be0-9f99-c8656135fb52",
   "metadata": {},
   "source": [
    "path = 'data'\n",
    "data, unique_labels = get_data(path, csv_name, bad_batches)\n",
    "unique_batches = np.unique(data['batches']['all'])\n",
    "unique_cats = np.unique(data['cats']['all'])\n",
    "unique_ages = np.array(['50s', '60s', '70s', '80+'])\n",
    "unique_genders = np.unique(data['meta']['all'].iloc[:, 1])\n",
    "n_cats = len(unique_labels)\n",
    "n_batches = len(unique_batches)\n",
    "n_ages = len(unique_ages)\n",
    "n_genders = len(unique_genders)\n",
    "data['age'] = {}\n",
    "data['gender'] = {}\n",
    "meta_age = []\n",
    "for age in data['meta']['all'].iloc[:, 0]:\n",
    "    if age < 50:\n",
    "        meta_age += ['pool']\n",
    "    elif age < 60:\n",
    "        meta_age += ['50s']\n",
    "    elif age < 70:\n",
    "        meta_age += ['60s']\n",
    "    elif age < 80:\n",
    "        meta_age += ['70s']\n",
    "    else:\n",
    "        meta_age += ['80+']\n",
    "data['age']['all'] = np.array(meta_age)\n",
    "data['gender']['all'] = data['meta']['all'].iloc[:, 1]\n",
    "\n",
    "scaler = Pipeline([('standard', RobustScaler()), ('minmax', MinMaxScaler())])\n",
    "# scaler = Pipeline([('standard', StandardScaler()), ('minmax', MinMaxScaler())])\n",
    "# scaler = MinMaxScaler()\n",
    "\n",
    "data['inputs']['all'] = scaler.fit_transform(data['inputs']['all'])\n",
    "data['inputs']['all_pool'] = scaler.transform(data['inputs']['all_pool'])\n",
    "data['inputs']['train'] = scaler.transform(data['inputs']['train'])\n",
    "data['inputs']['train_pool'] = scaler.transform(data['inputs']['train_pool'])\n",
    "data['inputs']['valid'] = scaler.transform(data['inputs']['valid'])\n",
    "data['inputs']['valid_pool'] = scaler.transform(data['inputs']['valid_pool'])\n",
    "data['inputs']['test'] = scaler.transform(data['inputs']['test'])\n",
    "data['inputs']['test_pool'] = scaler.transform(data['inputs']['test_pool'])\n"
   ]
  },
  {
   "cell_type": "raw",
   "id": "729024c3-9328-48cf-aea8-d453bafc902c",
   "metadata": {},
   "source": [
    "batches = torch.Tensor([np.argwhere(unique_batches == x)[0][0] for x in data['batches']['all']])\n",
    "rec_data = data.copy()\n",
    "_, rec_data['inputs']['all'], _, _ = best_ae2.cpu()(torch.Tensor(data['inputs']['all']), batches, sampling=False)\n",
    "_, rec_data['inputs']['all_pool'], _, _ = best_ae2.cpu()(torch.Tensor(data['inputs']['all_pool']), batches, sampling=False)\n",
    "_, rec_data['inputs']['train'], _, _ = best_ae2.cpu()(torch.Tensor(data['inputs']['train']), batches, sampling=False)\n",
    "_, rec_data['inputs']['train_pool'], _, _ = best_ae2.cpu()(torch.Tensor(data['inputs']['train_pool']), batches, sampling=False)\n",
    "_, rec_data['inputs']['valid'], _, _ = best_ae2.cpu()(torch.Tensor(data['inputs']['valid']), batches, sampling=False)\n",
    "_, rec_data['inputs']['valid_pool'], _, _ = best_ae2.cpu()(torch.Tensor(data['inputs']['valid_pool']), batches, sampling=False)\n",
    "_, rec_data['inputs']['test'], _, _ = best_ae2.cpu()(torch.Tensor(data['inputs']['test']), batches, sampling=False)\n",
    "_, rec_data['inputs']['test_pool'], _, _ = best_ae2.cpu()(torch.Tensor(data['inputs']['test_pool']), batches, sampling=False)\n",
    "\n",
    "for group in enc_data['inputs']:\n",
    "    rec_data['inputs'][group] = rec_data['inputs'][group]['mean'][-1].detach().cpu().numpy()\n",
    "    if n_meta == 2:\n",
    "        rec_data['inputs'][group] = np.concatenate((rec_data['inputs'][group], rec_data['meta'][group]), 1)\n"
   ]
  },
  {
   "cell_type": "raw",
   "id": "f1ecf1b1-4173-433b-8ef4-156a21fa56e1",
   "metadata": {},
   "source": [
    "from scipy import stats\n",
    "from statsmodels.stats.multitest import multipletests\n",
    "print(\"Mann      pval min    n pvals < 0.05\")\n",
    "table = pd.DataFrame(columns=['pval', 'n'])\n",
    "i = 0\n",
    "for i, label in enumerate(unique_labels[:-1]):\n",
    "    for label2 in unique_labels[i+1:]:\n",
    "        if label != label2 and label != 'pool' and label2 != 'pool':\n",
    "            pvals = stats.mannwhitneyu(\n",
    "                rec_data['inputs']['all'][np.argwhere(data['labels']['all'] == label).squeeze()], \n",
    "                rec_data['inputs']['all'][np.argwhere(data['labels']['all'] == label2).squeeze()]\n",
    "            )\n",
    "            tmp = multipletests(pvals[1], 0.05, 'fdr_bh')[1]\n",
    "            table.loc[f'{label}_{label2}', 'pval'] = tmp.min()\n",
    "            table.loc[f'{label}_{label2}', 'n'] = len([x for x in tmp if x < 0.05])\n",
    "            i += 1\n",
    "print(tabulate(table))\n",
    "\n",
    "print('ttests')\n",
    "table = pd.DataFrame(columns=['pval'])\n",
    "i = 0\n",
    "for i, label in enumerate(unique_labels[:-1]):\n",
    "    for label2 in unique_labels[i+1:]:\n",
    "        if label != label2 and label != 'pool' and label2 != 'pool':\n",
    "            pvals = stats.ttest_ind(\n",
    "                rec_data['inputs']['all'][np.argwhere(data['labels']['all'] == label).squeeze()], \n",
    "                rec_data['inputs']['all'][np.argwhere(data['labels']['all'] == label2).squeeze()]\n",
    "            )\n",
    "            tmp = multipletests(pvals[1], 0.05, 'fdr_bh')[1]\n",
    "            table.loc[f'{label}_{label2}', 'pval'] = tmp.min()\n",
    "            table.loc[f'{label}_{label2}', 'n'] = len([x for x in tmp if x < 0.05])\n",
    "            i += 1\n",
    "print(tabulate(table))\n"
   ]
  },
  {
   "cell_type": "raw",
   "id": "15aaa320-752f-42c1-9d09-e9b9563d6044",
   "metadata": {
    "tags": []
   },
   "source": [
    "log_ORD({'model': PCA(n_components=2), 'name': f'PCA_recs_labels'}, rec_data, \n",
    "        {'batches': unique_batches, 'labels': unique_labels, 'age': unique_ages}, 0)\n",
    "log_ORD({'model': UMAP(n_components=2), 'name': f'UMAP_recs_labels'}, rec_data, \n",
    "        {'batches': unique_batches, 'labels': unique_labels, 'age': unique_ages}, 0)\n"
   ]
  },
  {
   "cell_type": "raw",
   "id": "c8c3806c-2dc4-4cfd-91b0-017ac45a6203",
   "metadata": {},
   "source": []
  },
  {
   "cell_type": "raw",
   "id": "be928da4-8c9b-4eb8-918c-4600e74f9ad0",
   "metadata": {
    "tags": []
   },
   "source": [
    "if log_stuff:\n",
    "    metrics = log_pool_metrics(rec_data['inputs'], rec_data['batches'], metrics, 'ae-revTriplet-rec')\n",
    "    metrics = log_metrics(rec_data, unique_labels, rec_data['batches'], metrics, 'ae-revTriplet-rec', device='cuda')\n",
    "    # metrics['ae-revTriplet-rec']['all']['LDA_score'] = log_LDA(LDA, rec_data, {'batches': unique_batches, 'labels': unique_labels}, 0, metrics, 'aedann-rec')\n"
   ]
  },
  {
   "cell_type": "raw",
   "id": "55a7765f-fe6c-4174-b392-5dcb2050d0cc",
   "metadata": {
    "tags": []
   },
   "source": [
    "%matplotlib inline\n",
    "log_ORD({'model': PCA(n_components=2), 'name': f'PCA_encs_labels'}, enc_data, \n",
    "        {'batches': unique_batches, 'labels': unique_labels, 'age': unique_ages}, 0)\n",
    "log_ORD({'model': UMAP(n_components=2), 'name': f'UMAP_encs_labels'}, enc_data, \n",
    "        {'batches': unique_batches, 'labels': unique_labels, 'age': unique_ages}, 0)\n"
   ]
  },
  {
   "cell_type": "raw",
   "id": "cb34cbda-3fb7-48de-9423-0fb60afba2ba",
   "metadata": {
    "tags": []
   },
   "source": [
    "%matplotlib inline\n",
    "log_ORD({'model': PCA(n_components=2), 'name': f'PCA_encs_labels'}, rec_data, \n",
    "        {'batches': unique_batches, 'labels': unique_labels, 'age': unique_ages}, 0)\n",
    "log_ORD({'model': UMAP(n_components=2), 'name': f'UMAP_encs_labels'}, rec_data, \n",
    "        {'batches': unique_batches, 'labels': unique_labels, 'age': unique_ages}, 0)\n"
   ]
  },
  {
   "cell_type": "raw",
   "id": "5b54695f-c230-42a2-a0bb-cb2bf9c5d79d",
   "metadata": {
    "tags": []
   },
   "source": []
  },
  {
   "cell_type": "raw",
   "id": "a8f837d7-d606-4ad3-8469-38ec0818205c",
   "metadata": {
    "tags": []
   },
   "source": [
    "if log_stuff:\n",
    "    metrics = log_pool_metrics(rec_data['inputs'], rec_data['batches'], metrics, 'ae-revTriplet-rec')\n",
    "    metrics = log_metrics(rec_data, unique_labels, rec_data['batches'], metrics, 'ae-revTriplet-rec', device='cuda')\n",
    "    # metrics = log_LDA(LDA, rec_data, {'batches': unique_batches, 'labels': unique_labels}, 0, metrics, 'aedann-rec')\n"
   ]
  },
  {
   "cell_type": "raw",
   "id": "8d89488d-ec05-4c62-a915-c261bc41e9f6",
   "metadata": {},
   "source": [
    "if train_models:\n",
    "    train_rfc(rec_data, 'ae-revTriplet-rec', n_meta)\n",
    "    train_linsvc(rec_data, 'ae-revTriplet-rec', n_meta)\n",
    "    # train_logreg(rec_data, 'aedann-rec', n_meta)\n",
    "    "
   ]
  },
  {
   "cell_type": "markdown",
   "id": "d9ad4a86-71ca-4357-89d4-c58b841b3871",
   "metadata": {},
   "source": [
    "# Table"
   ]
  },
  {
   "cell_type": "code",
   "execution_count": null,
   "id": "76be0b48-4437-413c-9674-3d7b1a434323",
   "metadata": {},
   "outputs": [],
   "source": [
    "if log_stuff:\n",
    "    # table = pd.DataFrame(columns=list(metrics['raw']['all'].keys()) + ['delta', 'delta_pool'], index=list(metrics.keys()))\n",
    "    cols = ['qc_aPCC', '[qc_dist/tot_eucl]', 'lisi', 'silhouette', 'kbet', 'shannon', 'adjusted_rand_score', 'adjusted_mutual_info_score']\n",
    "    cols_pool = ['pool lisi', 'pool silhouette', 'pool kbet', 'pool shannon', 'pool adjusted_rand_score', 'pool adjusted_mutual_info_score',]\n",
    "    table = pd.DataFrame(columns=cols + cols_pool, index=list(metrics.keys()))\n",
    "    # table = table.drop(['qc_dist', 'b_euclidean', 'euclidean', \"[b_euclidean/tot_eucl]\"], 1)\n",
    "    for col in cols:\n",
    "        for row in list(table.index):\n",
    "            # if 'delta' in col:\n",
    "            #     table[col][row] = metrics[row][col]\n",
    "            # else:\n",
    "            try:\n",
    "                if isinstance(metrics[row]['all'][col], dict):\n",
    "                    table[col][row] = metrics[row]['all'][col][\"domains\"]\n",
    "                    try:\n",
    "                        table[f'pool {col}'][row] = metrics[row]['all_pool'][col][\"domains\"]\n",
    "                    except:\n",
    "                        pass\n",
    "                    # table[col][row][\"domains\"] = metrics[row]['all'][col][\"domains\"]\n",
    "                    # table[col][row][\"labels\"] = metrics[row]['all'][col][\"labels\"]\n",
    "                else:\n",
    "                    try:\n",
    "                        table[col][row] = metrics[row]['valid'][col]\n",
    "                    except:\n",
    "                        table[col][row] = metrics[row]['all'][col]\n",
    "\n",
    "            except:\n",
    "                try:\n",
    "                    table[col][row] = metrics[row]['all_pool'][col]\n",
    "                except:\n",
    "                    table[col][row] = metrics[row]['valid'][col]\n",
    "\n",
    "table"
   ]
  },
  {
   "cell_type": "code",
   "execution_count": null,
   "id": "ac0a0262-03ef-47da-8895-6d7b1b86f126",
   "metadata": {},
   "outputs": [],
   "source": []
  }
 ],
 "metadata": {
  "kernelspec": {
   "display_name": "Python 3 (ipykernel)",
   "language": "python",
   "name": "python3"
  },
  "language_info": {
   "codemirror_mode": {
    "name": "ipython",
    "version": 3
   },
   "file_extension": ".py",
   "mimetype": "text/x-python",
   "name": "python",
   "nbconvert_exporter": "python",
   "pygments_lexer": "ipython3",
   "version": "3.8.10"
  }
 },
 "nbformat": 4,
 "nbformat_minor": 5
}
